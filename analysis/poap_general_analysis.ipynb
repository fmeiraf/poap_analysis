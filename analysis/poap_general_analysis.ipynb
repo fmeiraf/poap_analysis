{
 "cells": [
  {
   "cell_type": "code",
   "execution_count": 1,
   "metadata": {},
   "outputs": [],
   "source": [
    "import pandas as pd\n",
    "import matplotlib.pyplot as plt\n",
    "import seaborn as sns\n",
    "import numpy as np\n",
    "from scipy import stats\n",
    "import statistics\n",
    "\n",
    "import data_cleaning"
   ]
  },
  {
   "cell_type": "markdown",
   "metadata": {},
   "source": [
    "# Data loading / cleaning"
   ]
  },
  {
   "cell_type": "markdown",
   "metadata": {},
   "source": [
    "## Loading.."
   ]
  },
  {
   "cell_type": "code",
   "execution_count": 2,
   "metadata": {},
   "outputs": [],
   "source": [
    "#POAP data\n",
    "poap = data_cleaning.get_cleaned_poap_data()\n",
    "\n",
    "#DAOHaus data\n",
    "dh_members, dh_proposals, dh_votes = data_cleaning.get_daohaus_cleaned_data()\n",
    "\n",
    "#Snapshot data\n",
    "snap_proposals, snap_votes, snap_creation = data_cleaning.get_snapshot_cleaned_data()"
   ]
  },
  {
   "cell_type": "code",
   "execution_count": 72,
   "metadata": {},
   "outputs": [],
   "source": [
    "# Trying to measure how much of these popular events on 2021 are NFT related\n",
    "\n",
    "poap['is_nft_related'] = False\n",
    "poap.loc[(poap.event_name.str.contains('nft', case=False) )|\n",
    "     (poap.event_description.str.contains('nft', case=False)) |\n",
    "     (poap.event_url.str.contains('nft', case=False)), 'is_nft_related'] = True\n"
   ]
  },
  {
   "cell_type": "code",
   "execution_count": 73,
   "metadata": {},
   "outputs": [
    {
     "name": "stdout",
     "output_type": "stream",
     "text": [
      "<class 'pandas.core.frame.DataFrame'>\n",
      "Int64Index: 3685249 entries, 0 to 3705199\n",
      "Data columns (total 31 columns):\n",
      "token_created          int64\n",
      "event_created          int64\n",
      "event_id               int64\n",
      "event_tokenCount       int64\n",
      "event_transferCount    int64\n",
      "token_id               int64\n",
      "owner_id               object\n",
      "token_transferCount    int64\n",
      "chain                  object\n",
      "event_fancy_id         object\n",
      "event_name             object\n",
      "event_url              object\n",
      "event_image_url        object\n",
      "event_country          object\n",
      "event_city             object\n",
      "event_description      object\n",
      "event_year             int64\n",
      "event_start_date       object\n",
      "event_end_date         object\n",
      "event_expiry_date      object\n",
      "event_from_admin       bool\n",
      "virtual_event          bool\n",
      "event_template_id      int64\n",
      "event_host_id          int64\n",
      "private_event          bool\n",
      "owner_id_checksum      object\n",
      "mint_timestamp         datetime64[ns]\n",
      "mint_date              object\n",
      "mint_year              int64\n",
      "has_event_url          bool\n",
      "is_nft_related         bool\n",
      "dtypes: bool(5), datetime64[ns](1), int64(11), object(14)\n",
      "memory usage: 936.7+ MB\n"
     ]
    }
   ],
   "source": [
    "poap.info()"
   ]
  },
  {
   "cell_type": "code",
   "execution_count": 10,
   "metadata": {},
   "outputs": [
    {
     "data": {
      "text/html": [
       "<div>\n",
       "<style scoped>\n",
       "    .dataframe tbody tr th:only-of-type {\n",
       "        vertical-align: middle;\n",
       "    }\n",
       "\n",
       "    .dataframe tbody tr th {\n",
       "        vertical-align: top;\n",
       "    }\n",
       "\n",
       "    .dataframe thead th {\n",
       "        text-align: right;\n",
       "    }\n",
       "</style>\n",
       "<table border=\"1\" class=\"dataframe\">\n",
       "  <thead>\n",
       "    <tr style=\"text-align: right;\">\n",
       "      <th></th>\n",
       "      <th>token_created</th>\n",
       "      <th>event_created</th>\n",
       "      <th>event_id</th>\n",
       "      <th>event_tokenCount</th>\n",
       "      <th>event_transferCount</th>\n",
       "      <th>token_id</th>\n",
       "      <th>owner_id</th>\n",
       "      <th>token_transferCount</th>\n",
       "      <th>chain</th>\n",
       "      <th>event_fancy_id</th>\n",
       "      <th>...</th>\n",
       "      <th>event_expiry_date</th>\n",
       "      <th>event_from_admin</th>\n",
       "      <th>virtual_event</th>\n",
       "      <th>event_template_id</th>\n",
       "      <th>event_host_id</th>\n",
       "      <th>private_event</th>\n",
       "      <th>owner_id_checksum</th>\n",
       "      <th>mint_timestamp</th>\n",
       "      <th>mint_date</th>\n",
       "      <th>mint_year</th>\n",
       "    </tr>\n",
       "  </thead>\n",
       "  <tbody>\n",
       "    <tr>\n",
       "      <td>0</td>\n",
       "      <td>1558995074</td>\n",
       "      <td>1558995074</td>\n",
       "      <td>14</td>\n",
       "      <td>84</td>\n",
       "      <td>96</td>\n",
       "      <td>1</td>\n",
       "      <td>0xea5ce2f9a33d36534ee3409d81322feb3f91ed8a</td>\n",
       "      <td>1</td>\n",
       "      <td>ethereum</td>\n",
       "      <td>ethdenver-19</td>\n",
       "      <td>...</td>\n",
       "      <td>19-Mar-2019</td>\n",
       "      <td>True</td>\n",
       "      <td>False</td>\n",
       "      <td>0</td>\n",
       "      <td>0</td>\n",
       "      <td>False</td>\n",
       "      <td>0xeA5ce2F9a33D36534eE3409D81322feb3F91ED8a</td>\n",
       "      <td>2019-05-27 16:11:14</td>\n",
       "      <td>2019-05-27</td>\n",
       "      <td>2019</td>\n",
       "    </tr>\n",
       "    <tr>\n",
       "      <td>1</td>\n",
       "      <td>1558995074</td>\n",
       "      <td>1558995074</td>\n",
       "      <td>14</td>\n",
       "      <td>84</td>\n",
       "      <td>96</td>\n",
       "      <td>10</td>\n",
       "      <td>0xa3f0d54a263520375e01c17b8ffbd3190745bbd9</td>\n",
       "      <td>1</td>\n",
       "      <td>ethereum</td>\n",
       "      <td>ethdenver-19</td>\n",
       "      <td>...</td>\n",
       "      <td>19-Mar-2019</td>\n",
       "      <td>True</td>\n",
       "      <td>False</td>\n",
       "      <td>0</td>\n",
       "      <td>0</td>\n",
       "      <td>False</td>\n",
       "      <td>0xA3F0d54A263520375E01C17B8ffBD3190745BbD9</td>\n",
       "      <td>2019-05-27 16:11:14</td>\n",
       "      <td>2019-05-27</td>\n",
       "      <td>2019</td>\n",
       "    </tr>\n",
       "    <tr>\n",
       "      <td>2</td>\n",
       "      <td>1558999607</td>\n",
       "      <td>1558999607</td>\n",
       "      <td>4</td>\n",
       "      <td>28</td>\n",
       "      <td>29</td>\n",
       "      <td>100</td>\n",
       "      <td>0x68f9d801c96ac6ccf562f3600cef77c4504449b6</td>\n",
       "      <td>1</td>\n",
       "      <td>ethereum</td>\n",
       "      <td>devcon2</td>\n",
       "      <td>...</td>\n",
       "      <td>21-Oct-2016</td>\n",
       "      <td>True</td>\n",
       "      <td>False</td>\n",
       "      <td>0</td>\n",
       "      <td>0</td>\n",
       "      <td>False</td>\n",
       "      <td>0x68F9D801C96aC6ccf562f3600Cef77c4504449b6</td>\n",
       "      <td>2019-05-27 17:26:47</td>\n",
       "      <td>2019-05-27</td>\n",
       "      <td>2019</td>\n",
       "    </tr>\n",
       "    <tr>\n",
       "      <td>3</td>\n",
       "      <td>1559020637</td>\n",
       "      <td>1559018257</td>\n",
       "      <td>28</td>\n",
       "      <td>316</td>\n",
       "      <td>334</td>\n",
       "      <td>1000</td>\n",
       "      <td>0xdd6f702c2907ce401888d993d7dc185e7a824466</td>\n",
       "      <td>1</td>\n",
       "      <td>ethereum</td>\n",
       "      <td>ethny-19</td>\n",
       "      <td>...</td>\n",
       "      <td>19-Jun-2019</td>\n",
       "      <td>True</td>\n",
       "      <td>False</td>\n",
       "      <td>0</td>\n",
       "      <td>0</td>\n",
       "      <td>False</td>\n",
       "      <td>0xDd6f702C2907ce401888D993D7Dc185e7a824466</td>\n",
       "      <td>2019-05-27 23:17:17</td>\n",
       "      <td>2019-05-27</td>\n",
       "      <td>2019</td>\n",
       "    </tr>\n",
       "    <tr>\n",
       "      <td>4</td>\n",
       "      <td>1588548343</td>\n",
       "      <td>1588539431</td>\n",
       "      <td>207</td>\n",
       "      <td>1197</td>\n",
       "      <td>1211</td>\n",
       "      <td>10000</td>\n",
       "      <td>0xcc95fd73c77bb7bb58714688e9333c05a388693e</td>\n",
       "      <td>1</td>\n",
       "      <td>ethereum</td>\n",
       "      <td>virtual-blockchain-week-2020-general-2020</td>\n",
       "      <td>...</td>\n",
       "      <td>02-Jun-2020</td>\n",
       "      <td>False</td>\n",
       "      <td>False</td>\n",
       "      <td>0</td>\n",
       "      <td>0</td>\n",
       "      <td>False</td>\n",
       "      <td>0xcC95fd73C77bB7BB58714688e9333c05A388693e</td>\n",
       "      <td>2020-05-03 17:25:43</td>\n",
       "      <td>2020-05-03</td>\n",
       "      <td>2020</td>\n",
       "    </tr>\n",
       "  </tbody>\n",
       "</table>\n",
       "<p>5 rows × 29 columns</p>\n",
       "</div>"
      ],
      "text/plain": [
       "   token_created  event_created  event_id  event_tokenCount  \\\n",
       "0     1558995074     1558995074        14                84   \n",
       "1     1558995074     1558995074        14                84   \n",
       "2     1558999607     1558999607         4                28   \n",
       "3     1559020637     1559018257        28               316   \n",
       "4     1588548343     1588539431       207              1197   \n",
       "\n",
       "   event_transferCount  token_id                                    owner_id  \\\n",
       "0                   96         1  0xea5ce2f9a33d36534ee3409d81322feb3f91ed8a   \n",
       "1                   96        10  0xa3f0d54a263520375e01c17b8ffbd3190745bbd9   \n",
       "2                   29       100  0x68f9d801c96ac6ccf562f3600cef77c4504449b6   \n",
       "3                  334      1000  0xdd6f702c2907ce401888d993d7dc185e7a824466   \n",
       "4                 1211     10000  0xcc95fd73c77bb7bb58714688e9333c05a388693e   \n",
       "\n",
       "   token_transferCount     chain                             event_fancy_id  \\\n",
       "0                    1  ethereum                               ethdenver-19   \n",
       "1                    1  ethereum                               ethdenver-19   \n",
       "2                    1  ethereum                                    devcon2   \n",
       "3                    1  ethereum                                   ethny-19   \n",
       "4                    1  ethereum  virtual-blockchain-week-2020-general-2020   \n",
       "\n",
       "   ... event_expiry_date event_from_admin virtual_event event_template_id  \\\n",
       "0  ...       19-Mar-2019             True         False                 0   \n",
       "1  ...       19-Mar-2019             True         False                 0   \n",
       "2  ...       21-Oct-2016             True         False                 0   \n",
       "3  ...       19-Jun-2019             True         False                 0   \n",
       "4  ...       02-Jun-2020            False         False                 0   \n",
       "\n",
       "  event_host_id private_event                           owner_id_checksum  \\\n",
       "0             0         False  0xeA5ce2F9a33D36534eE3409D81322feb3F91ED8a   \n",
       "1             0         False  0xA3F0d54A263520375E01C17B8ffBD3190745BbD9   \n",
       "2             0         False  0x68F9D801C96aC6ccf562f3600Cef77c4504449b6   \n",
       "3             0         False  0xDd6f702C2907ce401888D993D7Dc185e7a824466   \n",
       "4             0         False  0xcC95fd73C77bB7BB58714688e9333c05A388693e   \n",
       "\n",
       "       mint_timestamp   mint_date mint_year  \n",
       "0 2019-05-27 16:11:14  2019-05-27      2019  \n",
       "1 2019-05-27 16:11:14  2019-05-27      2019  \n",
       "2 2019-05-27 17:26:47  2019-05-27      2019  \n",
       "3 2019-05-27 23:17:17  2019-05-27      2019  \n",
       "4 2020-05-03 17:25:43  2020-05-03      2020  \n",
       "\n",
       "[5 rows x 29 columns]"
      ]
     },
     "execution_count": 10,
     "metadata": {},
     "output_type": "execute_result"
    }
   ],
   "source": [
    "from datetime import datetime\n",
    "\n",
    "#creating mint dates\n",
    "poap['mint_timestamp'] = poap['token_created'].apply(lambda t: datetime.fromtimestamp(t) )\n",
    "poap['mint_date'] = poap['mint_timestamp'].dt.date\n",
    "poap['mint_year'] = poap['mint_timestamp'].dt.year\n",
    "\n",
    "poap.head()"
   ]
  },
  {
   "cell_type": "markdown",
   "metadata": {},
   "source": [
    "# Analysis"
   ]
  },
  {
   "cell_type": "markdown",
   "metadata": {},
   "source": [
    "## How many POAP are issued per year"
   ]
  },
  {
   "cell_type": "markdown",
   "metadata": {},
   "source": [
    "**Different events created**"
   ]
  },
  {
   "cell_type": "code",
   "execution_count": 105,
   "metadata": {},
   "outputs": [
    {
     "data": {
      "text/html": [
       "<div>\n",
       "<style scoped>\n",
       "    .dataframe tbody tr th:only-of-type {\n",
       "        vertical-align: middle;\n",
       "    }\n",
       "\n",
       "    .dataframe tbody tr th {\n",
       "        vertical-align: top;\n",
       "    }\n",
       "\n",
       "    .dataframe thead th {\n",
       "        text-align: right;\n",
       "    }\n",
       "</style>\n",
       "<table border=\"1\" class=\"dataframe\">\n",
       "  <thead>\n",
       "    <tr style=\"text-align: right;\">\n",
       "      <th></th>\n",
       "      <th>event_year</th>\n",
       "      <th>number_of_events</th>\n",
       "    </tr>\n",
       "  </thead>\n",
       "  <tbody>\n",
       "    <tr>\n",
       "      <td>0</td>\n",
       "      <td>0</td>\n",
       "      <td>4</td>\n",
       "    </tr>\n",
       "    <tr>\n",
       "      <td>1</td>\n",
       "      <td>2015</td>\n",
       "      <td>1</td>\n",
       "    </tr>\n",
       "    <tr>\n",
       "      <td>2</td>\n",
       "      <td>2016</td>\n",
       "      <td>2</td>\n",
       "    </tr>\n",
       "    <tr>\n",
       "      <td>3</td>\n",
       "      <td>2017</td>\n",
       "      <td>1</td>\n",
       "    </tr>\n",
       "    <tr>\n",
       "      <td>4</td>\n",
       "      <td>2018</td>\n",
       "      <td>17</td>\n",
       "    </tr>\n",
       "    <tr>\n",
       "      <td>5</td>\n",
       "      <td>2019</td>\n",
       "      <td>54</td>\n",
       "    </tr>\n",
       "    <tr>\n",
       "      <td>6</td>\n",
       "      <td>2020</td>\n",
       "      <td>487</td>\n",
       "    </tr>\n",
       "    <tr>\n",
       "      <td>7</td>\n",
       "      <td>2021</td>\n",
       "      <td>14565</td>\n",
       "    </tr>\n",
       "    <tr>\n",
       "      <td>8</td>\n",
       "      <td>2022</td>\n",
       "      <td>1846</td>\n",
       "    </tr>\n",
       "  </tbody>\n",
       "</table>\n",
       "</div>"
      ],
      "text/plain": [
       "   event_year  number_of_events\n",
       "0           0                 4\n",
       "1        2015                 1\n",
       "2        2016                 2\n",
       "3        2017                 1\n",
       "4        2018                17\n",
       "5        2019                54\n",
       "6        2020               487\n",
       "7        2021             14565\n",
       "8        2022              1846"
      ]
     },
     "execution_count": 105,
     "metadata": {},
     "output_type": "execute_result"
    }
   ],
   "source": [
    "ev"
   ]
  },
  {
   "cell_type": "code",
   "execution_count": 107,
   "metadata": {},
   "outputs": [
    {
     "name": "stdout",
     "output_type": "stream",
     "text": [
      "   event_year  number_of_events          %\n",
      "0           0                 4   0.023561\n",
      "1        2015                 1   0.005890\n",
      "2        2016                 2   0.011781\n",
      "3        2017                 1   0.005890\n",
      "4        2018                17   0.100135\n",
      "5        2019                54   0.318077\n",
      "6        2020               487   2.868587\n",
      "7        2021             14565  85.792543\n",
      "8        2022              1846  10.873535\n"
     ]
    },
    {
     "data": {
      "text/plain": [
       "<matplotlib.axes._subplots.AxesSubplot at 0x7fe5c3dff090>"
      ]
     },
     "execution_count": 107,
     "metadata": {},
     "output_type": "execute_result"
    },
    {
     "data": {
      "image/png": "[encoded data removed]",
      "text/plain": [
       "<Figure size 432x288 with 1 Axes>"
      ]
     },
     "metadata": {
      "needs_background": "light"
     },
     "output_type": "display_data"
    }
   ],
   "source": [
    "ev = poap.groupby('event_year').agg(number_of_events=('event_id', 'nunique')).reset_index()\n",
    "ev['%'] = (ev['number_of_events'] / ev['number_of_events'].sum()) * 100\n",
    "\n",
    "print(ev)\n",
    "\n",
    "sns.barplot(data=ev, x='event_year', y='number_of_events')"
   ]
  },
  {
   "cell_type": "code",
   "execution_count": 74,
   "metadata": {},
   "outputs": [
    {
     "data": {
      "text/plain": [
       "<matplotlib.axes._subplots.AxesSubplot at 0x7fe5c3c8bd90>"
      ]
     },
     "execution_count": 74,
     "metadata": {},
     "output_type": "execute_result"
    },
    {
     "data": {
      "image/png": "[encoded data removed]",
      "text/plain": [
       "<Figure size 432x288 with 1 Axes>"
      ]
     },
     "metadata": {
      "needs_background": "light"
     },
     "output_type": "display_data"
    }
   ],
   "source": [
    "evt = poap.groupby(['event_year', 'is_nft_related']).agg(number_of_events=('event_id', 'nunique')).reset_index()\n",
    "\n",
    "sns.barplot(data=evt, x='event_year', y='number_of_events', hue='is_nft_related')"
   ]
  },
  {
   "cell_type": "markdown",
   "metadata": {},
   "source": [
    "**Number of tokens minted**"
   ]
  },
  {
   "cell_type": "code",
   "execution_count": 12,
   "metadata": {},
   "outputs": [
    {
     "data": {
      "text/plain": [
       "<matplotlib.axes._subplots.AxesSubplot at 0x7fe5c3b1aa90>"
      ]
     },
     "execution_count": 12,
     "metadata": {},
     "output_type": "execute_result"
    },
    {
     "data": {
      "image/png": "[encoded data removed]",
      "text/plain": [
       "<Figure size 432x288 with 1 Axes>"
      ]
     },
     "metadata": {
      "needs_background": "light"
     },
     "output_type": "display_data"
    }
   ],
   "source": [
    "ev = poap.groupby('event_year').agg(number_of_events=('token_id', 'nunique')).reset_index()\n",
    "\n",
    "sns.barplot(data=ev, x='event_year', y='number_of_events')"
   ]
  },
  {
   "cell_type": "markdown",
   "metadata": {},
   "source": [
    "### Relatioship with ETH price"
   ]
  },
  {
   "cell_type": "code",
   "execution_count": 38,
   "metadata": {},
   "outputs": [
    {
     "data": {
      "text/html": [
       "<div>\n",
       "<style scoped>\n",
       "    .dataframe tbody tr th:only-of-type {\n",
       "        vertical-align: middle;\n",
       "    }\n",
       "\n",
       "    .dataframe tbody tr th {\n",
       "        vertical-align: top;\n",
       "    }\n",
       "\n",
       "    .dataframe thead th {\n",
       "        text-align: right;\n",
       "    }\n",
       "</style>\n",
       "<table border=\"1\" class=\"dataframe\">\n",
       "  <thead>\n",
       "    <tr style=\"text-align: right;\">\n",
       "      <th></th>\n",
       "      <th>Date</th>\n",
       "      <th>Price</th>\n",
       "      <th>Open</th>\n",
       "      <th>High</th>\n",
       "      <th>Low</th>\n",
       "      <th>Vol.</th>\n",
       "      <th>Change %</th>\n",
       "    </tr>\n",
       "  </thead>\n",
       "  <tbody>\n",
       "    <tr>\n",
       "      <td>0</td>\n",
       "      <td>2022-02-21</td>\n",
       "      <td>2744.69</td>\n",
       "      <td>2621.87</td>\n",
       "      <td>2748.69</td>\n",
       "      <td>2608.33</td>\n",
       "      <td>438.68K</td>\n",
       "      <td>4.81%</td>\n",
       "    </tr>\n",
       "    <tr>\n",
       "      <td>1</td>\n",
       "      <td>2022-02-20</td>\n",
       "      <td>2618.76</td>\n",
       "      <td>2764.39</td>\n",
       "      <td>2764.39</td>\n",
       "      <td>2577.69</td>\n",
       "      <td>386.43K</td>\n",
       "      <td>-5.25%</td>\n",
       "    </tr>\n",
       "  </tbody>\n",
       "</table>\n",
       "</div>"
      ],
      "text/plain": [
       "        Date    Price     Open     High      Low     Vol. Change %\n",
       "0 2022-02-21  2744.69  2621.87  2748.69  2608.33  438.68K    4.81%\n",
       "1 2022-02-20  2618.76  2764.39  2764.39  2577.69  386.43K   -5.25%"
      ]
     },
     "execution_count": 38,
     "metadata": {},
     "output_type": "execute_result"
    }
   ],
   "source": [
    "# got historical price data from here: https://ca.investing.com/crypto/ethereum/eth-usd-historical-data\n",
    "\n",
    "custom_date_parser = lambda x: datetime.strptime(x, '%b %d, %Y')\n",
    "ethprice = pd.read_csv('eth_usd_historical_prices.csv', thousands=',', parse_dates=['Date'], date_parser=custom_date_parser)\n",
    "ethprice.head(2)"
   ]
  },
  {
   "cell_type": "code",
   "execution_count": 50,
   "metadata": {},
   "outputs": [
    {
     "data": {
      "text/html": [
       "<div>\n",
       "<style scoped>\n",
       "    .dataframe tbody tr th:only-of-type {\n",
       "        vertical-align: middle;\n",
       "    }\n",
       "\n",
       "    .dataframe tbody tr th {\n",
       "        vertical-align: top;\n",
       "    }\n",
       "\n",
       "    .dataframe thead th {\n",
       "        text-align: right;\n",
       "    }\n",
       "</style>\n",
       "<table border=\"1\" class=\"dataframe\">\n",
       "  <thead>\n",
       "    <tr style=\"text-align: right;\">\n",
       "      <th></th>\n",
       "      <th>mint_date</th>\n",
       "      <th>number_of_mints</th>\n",
       "      <th>mint_date_adj</th>\n",
       "      <th>Date</th>\n",
       "      <th>eth_price_USD</th>\n",
       "    </tr>\n",
       "  </thead>\n",
       "  <tbody>\n",
       "    <tr>\n",
       "      <td>0</td>\n",
       "      <td>2019-05-27</td>\n",
       "      <td>871</td>\n",
       "      <td>2019-05-27</td>\n",
       "      <td>2019-05-27</td>\n",
       "      <td>270.88</td>\n",
       "    </tr>\n",
       "    <tr>\n",
       "      <td>1</td>\n",
       "      <td>2019-05-30</td>\n",
       "      <td>8</td>\n",
       "      <td>2019-05-30</td>\n",
       "      <td>2019-05-30</td>\n",
       "      <td>254.63</td>\n",
       "    </tr>\n",
       "    <tr>\n",
       "      <td>2</td>\n",
       "      <td>2019-05-31</td>\n",
       "      <td>3</td>\n",
       "      <td>2019-05-31</td>\n",
       "      <td>2019-05-31</td>\n",
       "      <td>268.01</td>\n",
       "    </tr>\n",
       "    <tr>\n",
       "      <td>3</td>\n",
       "      <td>2019-06-13</td>\n",
       "      <td>4</td>\n",
       "      <td>2019-06-13</td>\n",
       "      <td>2019-06-13</td>\n",
       "      <td>254.80</td>\n",
       "    </tr>\n",
       "    <tr>\n",
       "      <td>4</td>\n",
       "      <td>2019-06-21</td>\n",
       "      <td>5</td>\n",
       "      <td>2019-06-21</td>\n",
       "      <td>2019-06-21</td>\n",
       "      <td>294.63</td>\n",
       "    </tr>\n",
       "  </tbody>\n",
       "</table>\n",
       "</div>"
      ],
      "text/plain": [
       "    mint_date  number_of_mints mint_date_adj       Date  eth_price_USD\n",
       "0  2019-05-27              871    2019-05-27 2019-05-27         270.88\n",
       "1  2019-05-30                8    2019-05-30 2019-05-30         254.63\n",
       "2  2019-05-31                3    2019-05-31 2019-05-31         268.01\n",
       "3  2019-06-13                4    2019-06-13 2019-06-13         254.80\n",
       "4  2019-06-21                5    2019-06-21 2019-06-21         294.63"
      ]
     },
     "execution_count": 50,
     "metadata": {},
     "output_type": "execute_result"
    }
   ],
   "source": [
    "#getting daily mints\n",
    "dmints = poap.groupby('mint_date').agg(number_of_mints=('token_id', 'nunique')).reset_index()\n",
    "dmints['mint_date_adj'] = pd.to_datetime(dmints['mint_date'], infer_datetime_format=True)\n",
    "dmints.head()\n",
    "\n",
    "#changing price columns name\n",
    "ethprice = ethprice.rename(columns={'Price':'eth_price_USD'})\n",
    "\n",
    "dmints = dmints.merge(ethprice.loc[:, ['Date', 'eth_price_USD']], left_on='mint_date_adj', right_on='Date', how='left')\n",
    "\n",
    "dmints.head()"
   ]
  },
  {
   "cell_type": "code",
   "execution_count": 85,
   "metadata": {},
   "outputs": [
    {
     "data": {
      "image/png": "[encoded data removed]",
      "text/plain": [
       "<Figure size 432x288 with 2 Axes>"
      ]
     },
     "metadata": {
      "needs_background": "light"
     },
     "output_type": "display_data"
    }
   ],
   "source": [
    "ax = dmints.plot(x=\"mint_date_adj\", y=\"number_of_mints\", legend=False, logy=True)\n",
    "ax2 = ax.twinx()\n",
    "dmints.plot(x=\"mint_date_adj\", y=\"eth_price_USD\", ax=ax2, legend=False, color=\"r\")\n",
    "ax.figure.legend()\n",
    "plt.show()"
   ]
  },
  {
   "cell_type": "markdown",
   "metadata": {},
   "source": [
    "## Median Number of attendees"
   ]
  },
  {
   "cell_type": "code",
   "execution_count": 69,
   "metadata": {},
   "outputs": [
    {
     "data": {
      "text/html": [
       "<div>\n",
       "<style scoped>\n",
       "    .dataframe tbody tr th:only-of-type {\n",
       "        vertical-align: middle;\n",
       "    }\n",
       "\n",
       "    .dataframe tbody tr th {\n",
       "        vertical-align: top;\n",
       "    }\n",
       "\n",
       "    .dataframe thead th {\n",
       "        text-align: right;\n",
       "    }\n",
       "</style>\n",
       "<table border=\"1\" class=\"dataframe\">\n",
       "  <thead>\n",
       "    <tr style=\"text-align: right;\">\n",
       "      <th></th>\n",
       "      <th>event_year</th>\n",
       "      <th>median_n_attendees</th>\n",
       "    </tr>\n",
       "  </thead>\n",
       "  <tbody>\n",
       "    <tr>\n",
       "      <td>0</td>\n",
       "      <td>0</td>\n",
       "      <td>8.0</td>\n",
       "    </tr>\n",
       "    <tr>\n",
       "      <td>1</td>\n",
       "      <td>2015</td>\n",
       "      <td>12.0</td>\n",
       "    </tr>\n",
       "    <tr>\n",
       "      <td>2</td>\n",
       "      <td>2016</td>\n",
       "      <td>128.5</td>\n",
       "    </tr>\n",
       "    <tr>\n",
       "      <td>3</td>\n",
       "      <td>2017</td>\n",
       "      <td>54.0</td>\n",
       "    </tr>\n",
       "    <tr>\n",
       "      <td>4</td>\n",
       "      <td>2018</td>\n",
       "      <td>24.0</td>\n",
       "    </tr>\n",
       "    <tr>\n",
       "      <td>5</td>\n",
       "      <td>2019</td>\n",
       "      <td>23.0</td>\n",
       "    </tr>\n",
       "    <tr>\n",
       "      <td>6</td>\n",
       "      <td>2020</td>\n",
       "      <td>18.0</td>\n",
       "    </tr>\n",
       "    <tr>\n",
       "      <td>7</td>\n",
       "      <td>2021</td>\n",
       "      <td>25.0</td>\n",
       "    </tr>\n",
       "    <tr>\n",
       "      <td>8</td>\n",
       "      <td>2022</td>\n",
       "      <td>17.0</td>\n",
       "    </tr>\n",
       "  </tbody>\n",
       "</table>\n",
       "</div>"
      ],
      "text/plain": [
       "   event_year  median_n_attendees\n",
       "0           0                 8.0\n",
       "1        2015                12.0\n",
       "2        2016               128.5\n",
       "3        2017                54.0\n",
       "4        2018                24.0\n",
       "5        2019                23.0\n",
       "6        2020                18.0\n",
       "7        2021                25.0\n",
       "8        2022                17.0"
      ]
     },
     "execution_count": 69,
     "metadata": {},
     "output_type": "execute_result"
    }
   ],
   "source": [
    "mev = poap.groupby(['event_id', 'event_year']).agg(n_attendees=('owner_id', 'nunique')).reset_index()\n",
    "mevg = mev.groupby('event_year').agg(median_n_attendees=('n_attendees', 'median')).reset_index()\n",
    "\n",
    "mevg"
   ]
  },
  {
   "cell_type": "code",
   "execution_count": 70,
   "metadata": {},
   "outputs": [
    {
     "data": {
      "text/plain": [
       "<seaborn.axisgrid.FacetGrid at 0x7fe617c43dd0>"
      ]
     },
     "execution_count": 70,
     "metadata": {},
     "output_type": "execute_result"
    },
    {
     "data": {
      "image/png": "[encoded data removed]",
      "text/plain": [
       "<Figure size 360x360 with 1 Axes>"
      ]
     },
     "metadata": {
      "needs_background": "light"
     },
     "output_type": "display_data"
    }
   ],
   "source": [
    "sns.catplot(data=mevg, x='event_year', y='median_n_attendees', kind='bar')"
   ]
  },
  {
   "cell_type": "markdown",
   "metadata": {},
   "source": [
    "## Median Number of tokens minted per event"
   ]
  },
  {
   "cell_type": "code",
   "execution_count": 76,
   "metadata": {},
   "outputs": [
    {
     "data": {
      "text/html": [
       "<div>\n",
       "<style scoped>\n",
       "    .dataframe tbody tr th:only-of-type {\n",
       "        vertical-align: middle;\n",
       "    }\n",
       "\n",
       "    .dataframe tbody tr th {\n",
       "        vertical-align: top;\n",
       "    }\n",
       "\n",
       "    .dataframe thead th {\n",
       "        text-align: right;\n",
       "    }\n",
       "</style>\n",
       "<table border=\"1\" class=\"dataframe\">\n",
       "  <thead>\n",
       "    <tr style=\"text-align: right;\">\n",
       "      <th></th>\n",
       "      <th>event_year</th>\n",
       "      <th>median_number_of_mints_per_event</th>\n",
       "    </tr>\n",
       "  </thead>\n",
       "  <tbody>\n",
       "    <tr>\n",
       "      <td>0</td>\n",
       "      <td>0</td>\n",
       "      <td>8.0</td>\n",
       "    </tr>\n",
       "    <tr>\n",
       "      <td>1</td>\n",
       "      <td>2015</td>\n",
       "      <td>12.0</td>\n",
       "    </tr>\n",
       "    <tr>\n",
       "      <td>2</td>\n",
       "      <td>2016</td>\n",
       "      <td>128.5</td>\n",
       "    </tr>\n",
       "    <tr>\n",
       "      <td>3</td>\n",
       "      <td>2017</td>\n",
       "      <td>55.0</td>\n",
       "    </tr>\n",
       "    <tr>\n",
       "      <td>4</td>\n",
       "      <td>2018</td>\n",
       "      <td>24.0</td>\n",
       "    </tr>\n",
       "    <tr>\n",
       "      <td>5</td>\n",
       "      <td>2019</td>\n",
       "      <td>23.0</td>\n",
       "    </tr>\n",
       "    <tr>\n",
       "      <td>6</td>\n",
       "      <td>2020</td>\n",
       "      <td>18.0</td>\n",
       "    </tr>\n",
       "    <tr>\n",
       "      <td>7</td>\n",
       "      <td>2021</td>\n",
       "      <td>25.0</td>\n",
       "    </tr>\n",
       "    <tr>\n",
       "      <td>8</td>\n",
       "      <td>2022</td>\n",
       "      <td>17.0</td>\n",
       "    </tr>\n",
       "  </tbody>\n",
       "</table>\n",
       "</div>"
      ],
      "text/plain": [
       "   event_year  median_number_of_mints_per_event\n",
       "0           0                               8.0\n",
       "1        2015                              12.0\n",
       "2        2016                             128.5\n",
       "3        2017                              55.0\n",
       "4        2018                              24.0\n",
       "5        2019                              23.0\n",
       "6        2020                              18.0\n",
       "7        2021                              25.0\n",
       "8        2022                              17.0"
      ]
     },
     "execution_count": 76,
     "metadata": {},
     "output_type": "execute_result"
    }
   ],
   "source": [
    "mnt = poap.groupby(['event_year', 'event_id']).agg(mint_count=('token_id', 'nunique')).reset_index()\n",
    "\n",
    "mntf = mnt.groupby('event_year').agg(median_number_of_mints_per_event=('mint_count', 'median')).reset_index()\n",
    "mntf"
   ]
  },
  {
   "cell_type": "code",
   "execution_count": 78,
   "metadata": {},
   "outputs": [
    {
     "data": {
      "text/plain": [
       "<seaborn.axisgrid.FacetGrid at 0x7fe6001fe390>"
      ]
     },
     "execution_count": 78,
     "metadata": {},
     "output_type": "execute_result"
    },
    {
     "data": {
      "image/png": "[encoded data removed]",
      "text/plain": [
       "<Figure size 360x360 with 1 Axes>"
      ]
     },
     "metadata": {
      "needs_background": "light"
     },
     "output_type": "display_data"
    }
   ],
   "source": [
    "sns.catplot(data=mntf, x='event_year', y='median_number_of_mints_per_event', kind='bar')"
   ]
  },
  {
   "cell_type": "markdown",
   "metadata": {},
   "source": [
    "## How many issuers"
   ]
  },
  {
   "cell_type": "markdown",
   "metadata": {},
   "source": [
    "There is a problem here that on POAP contracts that are no event creator identifier and at the same time the host_id on POAP API doesn't seem to be working.. so the only parameter here that might help would be to the events urls"
   ]
  },
  {
   "cell_type": "code",
   "execution_count": 64,
   "metadata": {},
   "outputs": [
    {
     "data": {
      "text/html": [
       "<div>\n",
       "<style scoped>\n",
       "    .dataframe tbody tr th:only-of-type {\n",
       "        vertical-align: middle;\n",
       "    }\n",
       "\n",
       "    .dataframe tbody tr th {\n",
       "        vertical-align: top;\n",
       "    }\n",
       "\n",
       "    .dataframe thead th {\n",
       "        text-align: right;\n",
       "    }\n",
       "</style>\n",
       "<table border=\"1\" class=\"dataframe\">\n",
       "  <thead>\n",
       "    <tr style=\"text-align: right;\">\n",
       "      <th></th>\n",
       "      <th>has_event_url</th>\n",
       "      <th>event_count</th>\n",
       "      <th>%</th>\n",
       "    </tr>\n",
       "  </thead>\n",
       "  <tbody>\n",
       "    <tr>\n",
       "      <td>0</td>\n",
       "      <td>False</td>\n",
       "      <td>3737</td>\n",
       "      <td>22.012134</td>\n",
       "    </tr>\n",
       "    <tr>\n",
       "      <td>1</td>\n",
       "      <td>True</td>\n",
       "      <td>13240</td>\n",
       "      <td>77.987866</td>\n",
       "    </tr>\n",
       "  </tbody>\n",
       "</table>\n",
       "</div>"
      ],
      "text/plain": [
       "   has_event_url  event_count          %\n",
       "0          False         3737  22.012134\n",
       "1           True        13240  77.987866"
      ]
     },
     "execution_count": 64,
     "metadata": {},
     "output_type": "execute_result"
    }
   ],
   "source": [
    "# marking events that have or haven't urls\n",
    "poap['has_event_url'] = False\n",
    "poap.loc[poap.event_url != '', 'has_event_url'] = True\n",
    "\n",
    "he = poap.groupby('has_event_url').agg(event_count=('event_id', 'nunique')).reset_index()\n",
    "he['%'] = (he.event_count / he.event_count.sum()) * 100\n",
    "\n",
    "he"
   ]
  },
  {
   "cell_type": "code",
   "execution_count": 66,
   "metadata": {},
   "outputs": [
    {
     "data": {
      "text/plain": [
       "<seaborn.axisgrid.FacetGrid at 0x7fe617c43d10>"
      ]
     },
     "execution_count": 66,
     "metadata": {},
     "output_type": "execute_result"
    },
    {
     "data": {
      "image/png": "[encoded data removed]",
      "text/plain": [
       "<Figure size 360x360 with 1 Axes>"
      ]
     },
     "metadata": {
      "needs_background": "light"
     },
     "output_type": "display_data"
    }
   ],
   "source": [
    "#checking the evolution in the number of issuers\n",
    "\n",
    "ise = poap.loc[poap.has_event_url==True].groupby('event_year').agg(event_count=('event_url', 'nunique')).reset_index()\n",
    "\n",
    "sns.catplot(data=ise, x='event_year', y='event_count', kind='bar')"
   ]
  },
  {
   "cell_type": "markdown",
   "metadata": {},
   "source": [
    "## Most popular events 2021"
   ]
  },
  {
   "cell_type": "code",
   "execution_count": 86,
   "metadata": {},
   "outputs": [],
   "source": [
    "pop = poap.loc[poap.event_year==2021].groupby(['event_name', 'is_nft_related']).agg(wallet_count=('owner_id', 'nunique')).reset_index()"
   ]
  },
  {
   "cell_type": "markdown",
   "metadata": {},
   "source": [
    "Non_NFT_Related"
   ]
  },
  {
   "cell_type": "code",
   "execution_count": 87,
   "metadata": {},
   "outputs": [
    {
     "data": {
      "text/html": [
       "<div>\n",
       "<style scoped>\n",
       "    .dataframe tbody tr th:only-of-type {\n",
       "        vertical-align: middle;\n",
       "    }\n",
       "\n",
       "    .dataframe tbody tr th {\n",
       "        vertical-align: top;\n",
       "    }\n",
       "\n",
       "    .dataframe thead th {\n",
       "        text-align: right;\n",
       "    }\n",
       "</style>\n",
       "<table border=\"1\" class=\"dataframe\">\n",
       "  <thead>\n",
       "    <tr style=\"text-align: right;\">\n",
       "      <th></th>\n",
       "      <th>event_name</th>\n",
       "      <th>is_nft_related</th>\n",
       "      <th>wallet_count</th>\n",
       "    </tr>\n",
       "  </thead>\n",
       "  <tbody>\n",
       "    <tr>\n",
       "      <td>12614</td>\n",
       "      <td>The Mutant Ape’s Demise</td>\n",
       "      <td>False</td>\n",
       "      <td>61208</td>\n",
       "    </tr>\n",
       "    <tr>\n",
       "      <td>14194</td>\n",
       "      <td>imToken Security Ambassador POAP</td>\n",
       "      <td>False</td>\n",
       "      <td>31625</td>\n",
       "    </tr>\n",
       "    <tr>\n",
       "      <td>6599</td>\n",
       "      <td>Guild of Guardians Founder Badge</td>\n",
       "      <td>False</td>\n",
       "      <td>27819</td>\n",
       "    </tr>\n",
       "    <tr>\n",
       "      <td>13298</td>\n",
       "      <td>VeeFriends x Christie's 10/01</td>\n",
       "      <td>False</td>\n",
       "      <td>23512</td>\n",
       "    </tr>\n",
       "    <tr>\n",
       "      <td>14444</td>\n",
       "      <td>zkSync Quiz 1</td>\n",
       "      <td>False</td>\n",
       "      <td>23320</td>\n",
       "    </tr>\n",
       "    <tr>\n",
       "      <td>5649</td>\n",
       "      <td>Ethereals Moon Mission POAP #4</td>\n",
       "      <td>False</td>\n",
       "      <td>23030</td>\n",
       "    </tr>\n",
       "    <tr>\n",
       "      <td>8492</td>\n",
       "      <td>Metamask 10 Million Users Party</td>\n",
       "      <td>False</td>\n",
       "      <td>22716</td>\n",
       "    </tr>\n",
       "    <tr>\n",
       "      <td>7125</td>\n",
       "      <td>International Sushi Day 2021</td>\n",
       "      <td>False</td>\n",
       "      <td>22519</td>\n",
       "    </tr>\n",
       "    <tr>\n",
       "      <td>1825</td>\n",
       "      <td>Beanie x Farokh Ceasefire</td>\n",
       "      <td>False</td>\n",
       "      <td>21367</td>\n",
       "    </tr>\n",
       "    <tr>\n",
       "      <td>9741</td>\n",
       "      <td>POAP x Rocket Pool: Crossover Celebration</td>\n",
       "      <td>False</td>\n",
       "      <td>21345</td>\n",
       "    </tr>\n",
       "  </tbody>\n",
       "</table>\n",
       "</div>"
      ],
      "text/plain": [
       "                                      event_name  is_nft_related  wallet_count\n",
       "12614                    The Mutant Ape’s Demise           False         61208\n",
       "14194           imToken Security Ambassador POAP           False         31625\n",
       "6599            Guild of Guardians Founder Badge           False         27819\n",
       "13298              VeeFriends x Christie's 10/01           False         23512\n",
       "14444                              zkSync Quiz 1           False         23320\n",
       "5649              Ethereals Moon Mission POAP #4           False         23030\n",
       "8492             Metamask 10 Million Users Party           False         22716\n",
       "7125                International Sushi Day 2021           False         22519\n",
       "1825                   Beanie x Farokh Ceasefire           False         21367\n",
       "9741   POAP x Rocket Pool: Crossover Celebration           False         21345"
      ]
     },
     "execution_count": 87,
     "metadata": {},
     "output_type": "execute_result"
    }
   ],
   "source": [
    "pop.loc[pop.is_nft_related==False].sort_values('wallet_count', ascending=False).head(10)"
   ]
  },
  {
   "cell_type": "markdown",
   "metadata": {},
   "source": [
    "NFT_Related"
   ]
  },
  {
   "cell_type": "code",
   "execution_count": 88,
   "metadata": {},
   "outputs": [
    {
     "data": {
      "text/html": [
       "<div>\n",
       "<style scoped>\n",
       "    .dataframe tbody tr th:only-of-type {\n",
       "        vertical-align: middle;\n",
       "    }\n",
       "\n",
       "    .dataframe tbody tr th {\n",
       "        vertical-align: top;\n",
       "    }\n",
       "\n",
       "    .dataframe thead th {\n",
       "        text-align: right;\n",
       "    }\n",
       "</style>\n",
       "<table border=\"1\" class=\"dataframe\">\n",
       "  <thead>\n",
       "    <tr style=\"text-align: right;\">\n",
       "      <th></th>\n",
       "      <th>event_name</th>\n",
       "      <th>is_nft_related</th>\n",
       "      <th>wallet_count</th>\n",
       "    </tr>\n",
       "  </thead>\n",
       "  <tbody>\n",
       "    <tr>\n",
       "      <td>5638</td>\n",
       "      <td>EthStaker Presents: Calm Before The Storm</td>\n",
       "      <td>True</td>\n",
       "      <td>13617</td>\n",
       "    </tr>\n",
       "    <tr>\n",
       "      <td>9002</td>\n",
       "      <td>NFTFY Official Launch Party - POAP</td>\n",
       "      <td>True</td>\n",
       "      <td>12742</td>\n",
       "    </tr>\n",
       "    <tr>\n",
       "      <td>12483</td>\n",
       "      <td>The First Redeemable NFT in Times Square, Ever!</td>\n",
       "      <td>True</td>\n",
       "      <td>12397</td>\n",
       "    </tr>\n",
       "    <tr>\n",
       "      <td>13946</td>\n",
       "      <td>ZED HQ - Launch - Open Day</td>\n",
       "      <td>True</td>\n",
       "      <td>9105</td>\n",
       "    </tr>\n",
       "    <tr>\n",
       "      <td>10227</td>\n",
       "      <td>PolygonLow#1-10 Wearables Party</td>\n",
       "      <td>True</td>\n",
       "      <td>8341</td>\n",
       "    </tr>\n",
       "    <tr>\n",
       "      <td>9399</td>\n",
       "      <td>OHALE celebrates Nigeria @ 61</td>\n",
       "      <td>True</td>\n",
       "      <td>7364</td>\n",
       "    </tr>\n",
       "    <tr>\n",
       "      <td>8129</td>\n",
       "      <td>Malaysia Blockchain Month (MBM2021) #NFT2 MALA...</td>\n",
       "      <td>True</td>\n",
       "      <td>7049</td>\n",
       "    </tr>\n",
       "    <tr>\n",
       "      <td>8131</td>\n",
       "      <td>Malaysia Blockchain Month (MBM2021) #NFT4 DUO</td>\n",
       "      <td>True</td>\n",
       "      <td>6513</td>\n",
       "    </tr>\n",
       "    <tr>\n",
       "      <td>12588</td>\n",
       "      <td>The Maserati Collection by Maserati &amp; Automobi...</td>\n",
       "      <td>True</td>\n",
       "      <td>5032</td>\n",
       "    </tr>\n",
       "    <tr>\n",
       "      <td>7862</td>\n",
       "      <td>Lucas Samaras XYZ Chinoiserie NFTs on Pace Gal...</td>\n",
       "      <td>True</td>\n",
       "      <td>4990</td>\n",
       "    </tr>\n",
       "  </tbody>\n",
       "</table>\n",
       "</div>"
      ],
      "text/plain": [
       "                                              event_name  is_nft_related  \\\n",
       "5638           EthStaker Presents: Calm Before The Storm            True   \n",
       "9002                  NFTFY Official Launch Party - POAP            True   \n",
       "12483    The First Redeemable NFT in Times Square, Ever!            True   \n",
       "13946                         ZED HQ - Launch - Open Day            True   \n",
       "10227                    PolygonLow#1-10 Wearables Party            True   \n",
       "9399                       OHALE celebrates Nigeria @ 61            True   \n",
       "8129   Malaysia Blockchain Month (MBM2021) #NFT2 MALA...            True   \n",
       "8131       Malaysia Blockchain Month (MBM2021) #NFT4 DUO            True   \n",
       "12588  The Maserati Collection by Maserati & Automobi...            True   \n",
       "7862   Lucas Samaras XYZ Chinoiserie NFTs on Pace Gal...            True   \n",
       "\n",
       "       wallet_count  \n",
       "5638          13617  \n",
       "9002          12742  \n",
       "12483         12397  \n",
       "13946          9105  \n",
       "10227          8341  \n",
       "9399           7364  \n",
       "8129           7049  \n",
       "8131           6513  \n",
       "12588          5032  \n",
       "7862           4990  "
      ]
     },
     "execution_count": 88,
     "metadata": {},
     "output_type": "execute_result"
    }
   ],
   "source": [
    "pop.loc[pop.is_nft_related==True].sort_values('wallet_count', ascending=False).head(10)"
   ]
  },
  {
   "cell_type": "markdown",
   "metadata": {},
   "source": [
    "#### **Comparing the number of mints from nft and non-nft related**"
   ]
  },
  {
   "cell_type": "code",
   "execution_count": 98,
   "metadata": {},
   "outputs": [
    {
     "name": "stdout",
     "output_type": "stream",
     "text": [
      "NFT related events have average of 295.64 mints \n",
      "non-NFT related events have average of 214.76 mints\n",
      "p-value for t-test of these means is : 0.0000\n"
     ]
    }
   ],
   "source": [
    "non_nft_related_mean = pop.loc[pop.is_nft_related==False, 'wallet_count'].sum() / len(pop.loc[pop.is_nft_related==False, 'event_name'].unique())\n",
    "nft_related_mean = pop.loc[pop.is_nft_related==True, 'wallet_count'].sum() / len(pop.loc[pop.is_nft_related==True, 'event_name'].unique())\n",
    "\n",
    "st, p_value = stats.ttest_ind(pop.loc[pop.is_nft_related==False, 'wallet_count'], \n",
    "                              pop.loc[pop.is_nft_related==True, 'wallet_count'],\n",
    "                             equal_var=False)\n",
    "\n",
    "print(f\"NFT related events have average of {nft_related_mean:.2f} mints \\nnon-NFT related events have average of {non_nft_related_mean:.2f} mints\")\n",
    "print(f\"p-value for t-test of these means is : {p_value:.4f}\")"
   ]
  },
  {
   "cell_type": "code",
   "execution_count": 101,
   "metadata": {},
   "outputs": [
    {
     "data": {
      "text/plain": [
       "array(['OlympusDAO - FOHMO 2, Day 5 ', 'OlympusDAO x ShapeShiftDAO AMA',\n",
       "       '\"Ohmies get Liquity\" | OlympusDAO x Alchemist Crucible | After-party POAP'],\n",
       "      dtype=object)"
      ]
     },
     "execution_count": 101,
     "metadata": {},
     "output_type": "execute_result"
    }
   ],
   "source": [
    "poap.loc[poap.event_name.str.contains('olympusdao', case=False), 'event_name'].unique()"
   ]
  },
  {
   "cell_type": "code",
   "execution_count": null,
   "metadata": {},
   "outputs": [],
   "source": []
  },
  {
   "cell_type": "code",
   "execution_count": 108,
   "metadata": {},
   "outputs": [
    {
     "data": {
      "text/plain": [
       "0.3766064444030546"
      ]
     },
     "execution_count": 108,
     "metadata": {},
     "output_type": "execute_result"
    }
   ],
   "source": [
    "295.64/214.76-1"
   ]
  },
  {
   "cell_type": "code",
   "execution_count": null,
   "metadata": {},
   "outputs": [],
   "source": []
  }
 ],
 "metadata": {
  "kernelspec": {
   "display_name": "Python 3",
   "language": "python",
   "name": "python3"
  },
  "language_info": {
   "codemirror_mode": {
    "name": "ipython",
    "version": 3
   },
   "file_extension": ".py",
   "mimetype": "text/x-python",
   "name": "python",
   "nbconvert_exporter": "python",
   "pygments_lexer": "ipython3",
   "version": "3.7.4"
  }
 },
 "nbformat": 4,
 "nbformat_minor": 4
}
