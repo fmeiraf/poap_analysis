{
 "cells": [
  {
   "cell_type": "code",
   "execution_count": 33,
   "metadata": {},
   "outputs": [],
   "source": [
    "import pandas as pd\n",
    "import matplotlib.pyplot as plt\n",
    "import seaborn as sns\n",
    "import numpy as np\n",
    "import psycopg2\n",
    "\n",
    "## __ Work around to load bignumbers from json when using pandas __ ##\n",
    "import pandas.io.json\n",
    "\n",
    "# monkeypatch using standard python json module\n",
    "import json\n",
    "pd.io.json._json.loads = lambda s, *a, **kw: json.loads(s)\n",
    "# monkeypatch using faster simplejson module\n",
    "import simplejson\n",
    "pd.io.json._json.loads = lambda s, *a, **kw: simplejson.loads(s)\n",
    "# normalising (unnesting) at the same time (for nested jsons)\n",
    "pd.io.json._json.loads = lambda s, *a, **kw: pandas.io.json.json_normalize(simplejson.loads(s))\n"
   ]
  },
  {
   "cell_type": "markdown",
   "metadata": {},
   "source": [
    "# Summary"
   ]
  },
  {
   "cell_type": "markdown",
   "metadata": {},
   "source": [
    "This is an analysis originated from a bounty from [DiamondDAO](https://docs.diamonddao.xyz/welcome/values) that aims to analyze the data coming form ETH Denver attendees and their pathway in crypto after the event.\n",
    "\n",
    "**Main objective:** \n",
    "- To determine the profile of inviduals attending the event.\n",
    "- To understand the impacts of the event in the ecosystem. "
   ]
  },
  {
   "cell_type": "markdown",
   "metadata": {},
   "source": [
    "# Data loading and cleaning"
   ]
  },
  {
   "cell_type": "code",
   "execution_count": null,
   "metadata": {},
   "outputs": [],
   "source": [
    "# loading the poap data\n",
    "\n",
    "poap_xdai = pd.read_json('datasets/xdai_token_data.json')\n",
    "poap_xdai['chain'] = 'xdai'\n",
    "\n",
    "poap_eth = pd.read_json('datasets/ethereum_token_data.json')\n",
    "poap_eth['chain'] = 'ethereum'\n",
    "\n",
    "poap = pd.concat([poap_eth, poap_xdai])\n",
    "\n",
    "poap.info(null_counts=True)\n"
   ]
  },
  {
   "cell_type": "code",
   "execution_count": null,
   "metadata": {},
   "outputs": [],
   "source": [
    "# loading DAO activity and membership data\n"
   ]
  },
  {
   "cell_type": "code",
   "execution_count": null,
   "metadata": {},
   "outputs": [],
   "source": [
    "# loading token holder info data"
   ]
  },
  {
   "cell_type": "markdown",
   "metadata": {},
   "source": [
    "# Analysis"
   ]
  },
  {
   "cell_type": "markdown",
   "metadata": {},
   "source": [
    "Things to check:\n",
    "\n",
    "- What is the proportion of ETH Denver POAP holders vs SPORK DAO holders.. the difference between these two populations\n",
    "- What is the impact of the event in first time attendees? Is this introducing people to the ecosystem? what about continous participants\n",
    "- What is the % of people that sticks to the event overtime\n"
   ]
  },
  {
   "cell_type": "code",
   "execution_count": null,
   "metadata": {},
   "outputs": [],
   "source": [
    "# Check all ETH Denver POAP recipients\n",
    "## What other events these people go? Any identifiable category or pattern here? \n",
    "## What is the rentetion rate for ETH Denver? \n",
    "## Does ETH Denver lead to other events in a strong way?\n",
    "\n",
    "# Cross reference POAP holders and SPORK holders\n",
    "## make analysis on how much of the the POAP issuers have token of the opposite - which parameters identify the most people?\n",
    "\n",
    "\n",
    "# Isolate all possible ETH Denver participants and start looking at DAO cross reference like:\n",
    "## how many DAOs can the person be identified at (DAOHaus)\n",
    "## how many proposals or votes this people have? once you have proposals or votes this would add you as member of the DAO\n",
    "## explore the concept of stronger membership and weak membership attached to how much people participate \n",
    "## explore level of activity\n",
    "### how many votes\n",
    "### how many different DAOs\n",
    "### total number of interactions vs count of specific reactions: vote, proposals, etc\n",
    "### what is the SPORK holders share in the votes in snapshot - what is their wight on these things? vs only POAP vs general public\n",
    "\n"
   ]
  },
  {
   "cell_type": "code",
   "execution_count": null,
   "metadata": {},
   "outputs": [],
   "source": []
  },
  {
   "cell_type": "code",
   "execution_count": null,
   "metadata": {},
   "outputs": [],
   "source": []
  },
  {
   "cell_type": "code",
   "execution_count": null,
   "metadata": {},
   "outputs": [],
   "source": []
  },
  {
   "cell_type": "code",
   "execution_count": null,
   "metadata": {},
   "outputs": [],
   "source": []
  },
  {
   "cell_type": "code",
   "execution_count": null,
   "metadata": {},
   "outputs": [],
   "source": []
  },
  {
   "cell_type": "code",
   "execution_count": null,
   "metadata": {},
   "outputs": [],
   "source": []
  },
  {
   "cell_type": "code",
   "execution_count": null,
   "metadata": {},
   "outputs": [],
   "source": []
  },
  {
   "cell_type": "code",
   "execution_count": null,
   "metadata": {},
   "outputs": [],
   "source": []
  },
  {
   "cell_type": "code",
   "execution_count": null,
   "metadata": {},
   "outputs": [],
   "source": []
  },
  {
   "cell_type": "code",
   "execution_count": null,
   "metadata": {},
   "outputs": [],
   "source": []
  },
  {
   "cell_type": "code",
   "execution_count": null,
   "metadata": {},
   "outputs": [],
   "source": []
  },
  {
   "cell_type": "code",
   "execution_count": null,
   "metadata": {},
   "outputs": [],
   "source": []
  }
 ],
 "metadata": {
  "interpreter": {
   "hash": "cc73f21a52ccb832bf677fe91f931c0e3bb70d63042d3db79193d87a6c9b6f0c"
  },
  "kernelspec": {
   "display_name": "Python 3.7.4 64-bit ('base': conda)",
   "language": "python",
   "name": "python3"
  },
  "language_info": {
   "codemirror_mode": {
    "name": "ipython",
    "version": 3
   },
   "file_extension": ".py",
   "mimetype": "text/x-python",
   "name": "python",
   "nbconvert_exporter": "python",
   "pygments_lexer": "ipython3",
   "version": "3.7.4"
  },
  "orig_nbformat": 4
 },
 "nbformat": 4,
 "nbformat_minor": 2
}
