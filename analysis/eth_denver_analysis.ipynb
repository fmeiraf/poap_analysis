{
 "cells": [
  {
   "cell_type": "code",
   "execution_count": 78,
   "metadata": {},
   "outputs": [],
   "source": [
    "import pandas as pd\n",
    "import matplotlib.pyplot as plt\n",
    "import seaborn as sns\n",
    "import numpy as np\n",
    "from scipy import stats\n",
    "\n",
    "import data_cleaning"
   ]
  },
  {
   "cell_type": "markdown",
   "metadata": {},
   "source": [
    "# Summary"
   ]
  },
  {
   "cell_type": "markdown",
   "metadata": {},
   "source": [
    "This is an analysis originated from a bounty from [DiamondDAO](https://docs.diamonddao.xyz/welcome/values) that aims to analyze the data coming form ETH Denver attendees and their pathway in crypto after the event.\n",
    "\n",
    "**Main objective:** \n",
    "- To determine the profile of inviduals attending the event.\n",
    "- To understand the impacts of the event in the ecosystem. "
   ]
  },
  {
   "cell_type": "markdown",
   "metadata": {},
   "source": [
    "# Data loading / cleaning"
   ]
  },
  {
   "cell_type": "markdown",
   "metadata": {},
   "source": [
    "## Loading.."
   ]
  },
  {
   "cell_type": "code",
   "execution_count": 2,
   "metadata": {},
   "outputs": [],
   "source": [
    "#POAP data\n",
    "poap = data_cleaning.get_cleaned_poap_data()\n",
    "\n",
    "#DAOHaus data\n",
    "dh_members, dh_votes, dh_proposals = data_cleaning.get_daohaus_cleaned_data()\n",
    "\n",
    "#Snapshot data\n",
    "snap_proposals, snap_votes = data_cleaning.get_snapshot_cleaned_data()\n",
    "\n",
    "#Token balance data\n",
    "spork, bufficorns = data_cleaning.get_token_holder_cleaned_data()"
   ]
  },
  {
   "cell_type": "markdown",
   "metadata": {},
   "source": [
    "## Making adjustments and merges.."
   ]
  },
  {
   "cell_type": "markdown",
   "metadata": {},
   "source": [
    "#### Creating identifier columns"
   ]
  },
  {
   "cell_type": "code",
   "execution_count": 5,
   "metadata": {},
   "outputs": [],
   "source": [
    "# ETH Denver check\n",
    "poap['is_ETHDenver_event'] = False\n",
    "poap.loc[(poap.event_name.str.contains('ethdenver', case=False)) \n",
    "         | (poap.event_name.str.contains('eth denver', case=False)), 'is_ETHDenver_event'] = True\n",
    "\n",
    "\n",
    "# Checking if it's an ethereum event (will not be 100% right here, but checking output I would assume this is good enough)\n",
    "poap['is_ethereum_related_event'] = False\n",
    "poap.loc[(poap.event_name.str.contains('eth',case=False)) |\n",
    "              (poap.event_name.str.contains('ethereum', case=False)), 'is_ethereum_related_event'] = True\n",
    "\n",
    "#marking all ETHDenver POAP holder\n",
    "eth_denver_poap_holders = poap.loc[poap.is_ETHDenver_event==True, 'owner_id_checksum'].unique()\n",
    "poap['has_ETH_Denver_POAP'] = False\n",
    "poap.loc[poap.owner_id_checksum.isin(eth_denver_poap_holders), 'has_ETH_Denver_POAP'] = True"
   ]
  },
  {
   "cell_type": "markdown",
   "metadata": {},
   "source": [
    "#### Merging SPORK holders data on POAP data"
   ]
  },
  {
   "cell_type": "code",
   "execution_count": 6,
   "metadata": {},
   "outputs": [],
   "source": [
    "spork = spork.rename(columns={'holder_address': 'spork_holder_address', \n",
    "                              'balance':'spork_balance', \n",
    "                              'normalized_balance': 'spork_normalized_balance'})\n",
    "\n",
    "poap = poap.merge(spork, left_on='owner_id_checksum', right_on='spork_holder_address', how='left')\n",
    "\n",
    "#marking ETH Denver attendees after adding SPORK data\n",
    "poap['is_ETH_Denver_participant'] = False\n",
    "poap.loc[(poap.has_ETH_Denver_POAP==True) | (poap.is_spork_holder==True), 'is_ETH_Denver_participant'] = True"
   ]
  },
  {
   "cell_type": "code",
   "execution_count": 8,
   "metadata": {},
   "outputs": [
    {
     "data": {
      "text/html": [
       "<div>\n",
       "<style scoped>\n",
       "    .dataframe tbody tr th:only-of-type {\n",
       "        vertical-align: middle;\n",
       "    }\n",
       "\n",
       "    .dataframe tbody tr th {\n",
       "        vertical-align: top;\n",
       "    }\n",
       "\n",
       "    .dataframe thead th {\n",
       "        text-align: right;\n",
       "    }\n",
       "</style>\n",
       "<table border=\"1\" class=\"dataframe\">\n",
       "  <thead>\n",
       "    <tr style=\"text-align: right;\">\n",
       "      <th></th>\n",
       "      <th></th>\n",
       "      <th>attendee_count</th>\n",
       "      <th>%</th>\n",
       "    </tr>\n",
       "    <tr>\n",
       "      <th>has_ETH_Denver_POAP</th>\n",
       "      <th>is_spork_holder</th>\n",
       "      <th></th>\n",
       "      <th></th>\n",
       "    </tr>\n",
       "  </thead>\n",
       "  <tbody>\n",
       "    <tr>\n",
       "      <td rowspan=\"2\" valign=\"top\">False</td>\n",
       "      <td>False</td>\n",
       "      <td>682422</td>\n",
       "      <td>99.858353</td>\n",
       "    </tr>\n",
       "    <tr>\n",
       "      <td>True</td>\n",
       "      <td>968</td>\n",
       "      <td>0.141647</td>\n",
       "    </tr>\n",
       "    <tr>\n",
       "      <td rowspan=\"2\" valign=\"top\">True</td>\n",
       "      <td>False</td>\n",
       "      <td>746</td>\n",
       "      <td>71.730769</td>\n",
       "    </tr>\n",
       "    <tr>\n",
       "      <td>True</td>\n",
       "      <td>294</td>\n",
       "      <td>28.269231</td>\n",
       "    </tr>\n",
       "  </tbody>\n",
       "</table>\n",
       "</div>"
      ],
      "text/plain": [
       "                                     attendee_count          %\n",
       "has_ETH_Denver_POAP is_spork_holder                           \n",
       "False               False                    682422  99.858353\n",
       "                    True                        968   0.141647\n",
       "True                False                       746  71.730769\n",
       "                    True                        294  28.269231"
      ]
     },
     "execution_count": 8,
     "metadata": {},
     "output_type": "execute_result"
    }
   ],
   "source": [
    "poap['is_spork_holder'] = False\n",
    "poap.loc[poap.spork_holder_address.notnull(), 'is_spork_holder'] = True\n",
    "\n",
    "sphold = poap.groupby(['has_ETH_Denver_POAP', 'is_spork_holder']).agg(attendee_count=('owner_id', 'nunique'))\n",
    "sphold['%'] = (sphold['attendee_count'] / sphold.groupby(level=0).transform('sum')['attendee_count']) * 100\n",
    "\n",
    "sphold"
   ]
  },
  {
   "cell_type": "markdown",
   "metadata": {},
   "source": [
    "**Comment**: There is a considerable amount of spork holder that do not have have ETH Denver POAP."
   ]
  },
  {
   "cell_type": "markdown",
   "metadata": {},
   "source": [
    "#### Creating new dataset to have all POAP holder, SPORK holders and Bufficorn minters"
   ]
  },
  {
   "cell_type": "code",
   "execution_count": 16,
   "metadata": {},
   "outputs": [],
   "source": [
    "ethd = poap.loc[poap.has_ETH_Denver_POAP==True, ['owner_id_checksum', 'has_ETH_Denver_POAP']].copy().drop_duplicates('owner_id_checksum')\n",
    "ethd = ethd.rename(columns={'owner_id_checksum': 'address'})\n",
    "\n",
    "spork_v2 = spork.rename(columns={'spork_holder_address': 'address'})\n",
    "bufficorns_v2 = bufficorns.rename(columns={'bufficorn_minter_address': 'address'})\n",
    "bufficorns_v2 = bufficorns_v2.drop_duplicates('address')\n",
    "\n",
    "ethd = ethd.merge(spork_v2, on='address', how='outer')\n",
    "ethd = ethd.merge(bufficorns_v2, on='address', how='outer')"
   ]
  },
  {
   "cell_type": "code",
   "execution_count": 17,
   "metadata": {},
   "outputs": [
    {
     "data": {
      "text/html": [
       "<div>\n",
       "<style scoped>\n",
       "    .dataframe tbody tr th:only-of-type {\n",
       "        vertical-align: middle;\n",
       "    }\n",
       "\n",
       "    .dataframe tbody tr th {\n",
       "        vertical-align: top;\n",
       "    }\n",
       "\n",
       "    .dataframe thead th {\n",
       "        text-align: right;\n",
       "    }\n",
       "</style>\n",
       "<table border=\"1\" class=\"dataframe\">\n",
       "  <thead>\n",
       "    <tr style=\"text-align: right;\">\n",
       "      <th></th>\n",
       "      <th>wallet_count</th>\n",
       "    </tr>\n",
       "    <tr>\n",
       "      <th>profile_type</th>\n",
       "      <th></th>\n",
       "    </tr>\n",
       "  </thead>\n",
       "  <tbody>\n",
       "    <tr>\n",
       "      <td>bufficorn_holder_only</td>\n",
       "      <td>797</td>\n",
       "    </tr>\n",
       "    <tr>\n",
       "      <td>poap_and_bufficorn_holder</td>\n",
       "      <td>15</td>\n",
       "    </tr>\n",
       "    <tr>\n",
       "      <td>poap_and_spork_holder</td>\n",
       "      <td>184</td>\n",
       "    </tr>\n",
       "    <tr>\n",
       "      <td>poap_holder_only</td>\n",
       "      <td>731</td>\n",
       "    </tr>\n",
       "    <tr>\n",
       "      <td>poap_spork_and_bufficorn_holder</td>\n",
       "      <td>110</td>\n",
       "    </tr>\n",
       "    <tr>\n",
       "      <td>spork_and_bufficorn_holder</td>\n",
       "      <td>627</td>\n",
       "    </tr>\n",
       "    <tr>\n",
       "      <td>spork_holder_only</td>\n",
       "      <td>1236</td>\n",
       "    </tr>\n",
       "  </tbody>\n",
       "</table>\n",
       "</div>"
      ],
      "text/plain": [
       "                                 wallet_count\n",
       "profile_type                                 \n",
       "bufficorn_holder_only                     797\n",
       "poap_and_bufficorn_holder                  15\n",
       "poap_and_spork_holder                     184\n",
       "poap_holder_only                          731\n",
       "poap_spork_and_bufficorn_holder           110\n",
       "spork_and_bufficorn_holder                627\n",
       "spork_holder_only                        1236"
      ]
     },
     "execution_count": 17,
     "metadata": {},
     "output_type": "execute_result"
    }
   ],
   "source": [
    "ethd['profile_type'] = ''\n",
    "\n",
    "ethd.loc[(ethd.has_ETH_Denver_POAP.notnull()) &\n",
    "        (ethd.spork_balance.isnull())\n",
    "         & (ethd.bufficorn_token_id.isnull()), 'profile_type'] = 'poap_holder_only'\n",
    "\n",
    "ethd.loc[(ethd.has_ETH_Denver_POAP.isnull()) &\n",
    "        (ethd.spork_balance.notnull())\n",
    "         & (ethd.bufficorn_token_id.isnull()), 'profile_type'] = 'spork_holder_only'\n",
    "\n",
    "ethd.loc[(ethd.has_ETH_Denver_POAP.isnull()) &\n",
    "        (ethd.spork_balance.isnull())\n",
    "         & (ethd.bufficorn_token_id.notnull()), 'profile_type'] = 'bufficorn_holder_only'\n",
    "\n",
    "ethd.loc[(ethd.has_ETH_Denver_POAP.notnull()) &\n",
    "        (ethd.spork_balance.notnull())\n",
    "         & (ethd.bufficorn_token_id.isnull()), 'profile_type'] = 'poap_and_spork_holder'\n",
    "\n",
    "ethd.loc[(ethd.has_ETH_Denver_POAP.notnull()) &\n",
    "        (ethd.spork_balance.isnull())\n",
    "         & (ethd.bufficorn_token_id.notnull()), 'profile_type'] = 'poap_and_bufficorn_holder'\n",
    "\n",
    "ethd.loc[(ethd.has_ETH_Denver_POAP.isnull()) &\n",
    "        (ethd.spork_balance.notnull())\n",
    "         & (ethd.bufficorn_token_id.notnull()), 'profile_type'] = 'spork_and_bufficorn_holder'\n",
    "\n",
    "ethd.loc[(ethd.has_ETH_Denver_POAP.notnull()) &\n",
    "        (ethd.spork_balance.notnull())\n",
    "         & (ethd.bufficorn_token_id.notnull()), 'profile_type'] = 'poap_spork_and_bufficorn_holder'\n",
    "\n",
    "ethd.groupby('profile_type').agg(wallet_count=('address', 'nunique'))"
   ]
  },
  {
   "cell_type": "markdown",
   "metadata": {},
   "source": [
    "# Analysis"
   ]
  },
  {
   "cell_type": "markdown",
   "metadata": {},
   "source": [
    "## - ETH Denver POAP profile"
   ]
  },
  {
   "cell_type": "markdown",
   "metadata": {},
   "source": [
    "### Evolution of unique wallets and mints"
   ]
  },
  {
   "cell_type": "code",
   "execution_count": 34,
   "metadata": {},
   "outputs": [
    {
     "name": "stdout",
     "output_type": "stream",
     "text": [
      "##### Table #### \n",
      "\n",
      "   event_year  n_unique_wallets  total_tokens_minted\n",
      "0        2018                27                   27\n",
      "1        2019                84                   87\n",
      "2        2020               243                  274\n",
      "3        2021               740                 5066\n",
      "4        2022                 9                    9\n",
      "\n",
      "\n",
      "################ \n",
      "\n",
      "\n",
      "Number of unique minter addresses per year & total numbers of tokens minted (for ALL ETH Denver related POAPs)\n"
     ]
    },
    {
     "data": {
      "image/png": "[encoded data removed]",
      "text/plain": [
       "<Figure size 720x360 with 2 Axes>"
      ]
     },
     "metadata": {
      "needs_background": "light"
     },
     "output_type": "display_data"
    }
   ],
   "source": [
    "mints = poap.loc[(poap.has_ETH_Denver_POAP==True) & (poap.is_ETHDenver_event==True)]\n",
    "\n",
    "mints_year = mints.groupby('event_year').agg(n_unique_wallets=('owner_id', 'nunique'), \n",
    "                                             total_tokens_minted=('token_id', 'nunique')).reset_index()\n",
    "\n",
    "mints_melt = pd.melt(mints_year, id_vars=['event_year'], value_vars=['n_unique_wallets', 'total_tokens_minted'], \n",
    "                                                         var_name='metric', value_name='count')\n",
    "\n",
    "print('##### Table #### \\n')\n",
    "print(mints_year)\n",
    "print('\\n')\n",
    "print('################ \\n\\n')\n",
    "\n",
    "print('Number of unique minter addresses per year & total numbers of tokens minted (for ALL ETH Denver related POAPs)')\n",
    "sns.catplot(data=mints_melt, x='event_year', y='count', col='metric', kind='bar', sharey=False)\n",
    "\n",
    "plt.show()"
   ]
  },
  {
   "cell_type": "markdown",
   "metadata": {},
   "source": [
    "**Comment**: The numbers of unique minter addresses in consistently increasing, and it seems 2021 was a huge leap. This is also reflected in the total amount of tokens minted, where this effect in even drastic."
   ]
  },
  {
   "cell_type": "markdown",
   "metadata": {},
   "source": [
    "### Rentention (by the lens of POAP minting)"
   ]
  },
  {
   "cell_type": "code",
   "execution_count": 35,
   "metadata": {},
   "outputs": [
    {
     "data": {
      "text/html": [
       "<div>\n",
       "<style scoped>\n",
       "    .dataframe tbody tr th:only-of-type {\n",
       "        vertical-align: middle;\n",
       "    }\n",
       "\n",
       "    .dataframe tbody tr th {\n",
       "        vertical-align: top;\n",
       "    }\n",
       "\n",
       "    .dataframe thead th {\n",
       "        text-align: right;\n",
       "    }\n",
       "</style>\n",
       "<table border=\"1\" class=\"dataframe\">\n",
       "  <thead>\n",
       "    <tr style=\"text-align: right;\">\n",
       "      <th></th>\n",
       "      <th>unique_wallet_count</th>\n",
       "      <th>%</th>\n",
       "    </tr>\n",
       "    <tr>\n",
       "      <th>n_years_minted</th>\n",
       "      <th></th>\n",
       "      <th></th>\n",
       "    </tr>\n",
       "  </thead>\n",
       "  <tbody>\n",
       "    <tr>\n",
       "      <td>1</td>\n",
       "      <td>985</td>\n",
       "      <td>94.711538</td>\n",
       "    </tr>\n",
       "    <tr>\n",
       "      <td>2</td>\n",
       "      <td>49</td>\n",
       "      <td>4.711538</td>\n",
       "    </tr>\n",
       "    <tr>\n",
       "      <td>3</td>\n",
       "      <td>4</td>\n",
       "      <td>0.384615</td>\n",
       "    </tr>\n",
       "    <tr>\n",
       "      <td>4</td>\n",
       "      <td>2</td>\n",
       "      <td>0.192308</td>\n",
       "    </tr>\n",
       "  </tbody>\n",
       "</table>\n",
       "</div>"
      ],
      "text/plain": [
       "                unique_wallet_count          %\n",
       "n_years_minted                                \n",
       "1                               985  94.711538\n",
       "2                                49   4.711538\n",
       "3                                 4   0.384615\n",
       "4                                 2   0.192308"
      ]
     },
     "execution_count": 35,
     "metadata": {},
     "output_type": "execute_result"
    }
   ],
   "source": [
    "# count of users with X amount of years\n",
    "lominters = mints.groupby('owner_id').agg(n_years_minted=('event_year', 'nunique')).reset_index()\n",
    "lominters_group = lominters.groupby('n_years_minted').agg(unique_wallet_count=('owner_id', 'nunique'))\n",
    "lominters_group['%'] = (lominters_group['unique_wallet_count'] / lominters_group['unique_wallet_count'].sum()) * 100\n",
    "\n",
    "lominters_group"
   ]
  },
  {
   "cell_type": "markdown",
   "metadata": {},
   "source": [
    "**Comment:** Kind of makes sense once most people started gong on 2021. What about this % but considering when people started? "
   ]
  },
  {
   "cell_type": "code",
   "execution_count": 43,
   "metadata": {},
   "outputs": [
    {
     "data": {
      "text/plain": [
       "<matplotlib.axes._subplots.AxesSubplot at 0x7f8e903d7f50>"
      ]
     },
     "execution_count": 43,
     "metadata": {},
     "output_type": "execute_result"
    },
    {
     "data": {
      "image/png": "[encoded data removed]",
      "text/plain": [
       "<Figure size 432x288 with 1 Axes>"
      ]
     },
     "metadata": {
      "needs_background": "light"
     },
     "output_type": "display_data"
    }
   ],
   "source": [
    "# count of users with X amount of years\n",
    "lominters = mints.groupby(['owner_id']).agg(n_years_minted=('event_year', 'nunique'), \n",
    "                                            year_started=('event_year', 'min')).reset_index()\n",
    "lominters['attendee_frequence'] = np.where(lominters['n_years_minted']>1, 'multiple_times', 'one_time')\n",
    "lominters_group = lominters.groupby(['year_started','attendee_frequence']).agg(unique_wallet_count=('owner_id', 'nunique'))\n",
    "lominters_group['%'] = (lominters_group['unique_wallet_count'] / lominters_group.groupby(level=0).transform('sum')['unique_wallet_count']) * 100\n",
    "\n",
    "sns.barplot(data=lominters_group.reset_index(), x='year_started', y='%', hue='attendee_frequence')\n"
   ]
  },
  {
   "cell_type": "markdown",
   "metadata": {},
   "source": [
    "**Comment**: We could say that the turnover rate here (% of people that just go to the event one time) seems to be increasing over time. This could be very much related to the increasing number of people coming to these events as the years pass by. Because there are relativelt few years of event yet, it remaisn to be seen how the newer cohorts of entrants will stick to the event. \n",
    "\n",
    "Limitations of this specific table: \n",
    "- As the number of attendes increase, we can have more one-time enthusiats that are only going due to crypto price action / curiosity.\n",
    "- A LOT of attendees might not redeem their POAPs at all or maybe redeem POAPs in different wallets, which might led to this number increasing.\n",
    "- As we get closer to recent years, the fewer chances \"newer\" people have to attend to new events (so with time retention might go up for recent years with time)"
   ]
  },
  {
   "cell_type": "markdown",
   "metadata": {},
   "source": [
    "## - Event participation profile (ETH Denver attendees)"
   ]
  },
  {
   "cell_type": "code",
   "execution_count": 113,
   "metadata": {},
   "outputs": [],
   "source": [
    "# here I am using POAP minting + spork token holding to mark people as ETH Denver participant\n",
    "etha = poap.loc[(poap.is_ETH_Denver_participant==True) & (etha.is_ETHDenver_event==False)].copy()"
   ]
  },
  {
   "cell_type": "markdown",
   "metadata": {},
   "source": [
    "### Aside from ETH Denver, what other types of events are these people going?"
   ]
  },
  {
   "cell_type": "markdown",
   "metadata": {},
   "source": [
    "#### - Virtual vs IRL"
   ]
  },
  {
   "cell_type": "code",
   "execution_count": 114,
   "metadata": {},
   "outputs": [
    {
     "data": {
      "text/html": [
       "<div>\n",
       "<style scoped>\n",
       "    .dataframe tbody tr th:only-of-type {\n",
       "        vertical-align: middle;\n",
       "    }\n",
       "\n",
       "    .dataframe tbody tr th {\n",
       "        vertical-align: top;\n",
       "    }\n",
       "\n",
       "    .dataframe thead th {\n",
       "        text-align: right;\n",
       "    }\n",
       "</style>\n",
       "<table border=\"1\" class=\"dataframe\">\n",
       "  <thead>\n",
       "    <tr style=\"text-align: right;\">\n",
       "      <th></th>\n",
       "      <th>number_of_events</th>\n",
       "      <th>%</th>\n",
       "    </tr>\n",
       "    <tr>\n",
       "      <th>virtual_event</th>\n",
       "      <th></th>\n",
       "      <th></th>\n",
       "    </tr>\n",
       "  </thead>\n",
       "  <tbody>\n",
       "    <tr>\n",
       "      <td>False</td>\n",
       "      <td>272</td>\n",
       "      <td>43.870968</td>\n",
       "    </tr>\n",
       "    <tr>\n",
       "      <td>True</td>\n",
       "      <td>348</td>\n",
       "      <td>56.129032</td>\n",
       "    </tr>\n",
       "  </tbody>\n",
       "</table>\n",
       "</div>"
      ],
      "text/plain": [
       "               number_of_events          %\n",
       "virtual_event                             \n",
       "False                       272  43.870968\n",
       "True                        348  56.129032"
      ]
     },
     "execution_count": 114,
     "metadata": {},
     "output_type": "execute_result"
    }
   ],
   "source": [
    "virl = etha.groupby('virtual_event').agg(number_of_events=('event_name', 'nunique'))\n",
    "virl['%'] = (virl['number_of_events'] / virl['number_of_events'].sum()) * 100\n",
    "virl"
   ]
  },
  {
   "cell_type": "markdown",
   "metadata": {},
   "source": [
    "**Comment**:Most of the events attended by this people are online."
   ]
  },
  {
   "cell_type": "markdown",
   "metadata": {},
   "source": [
    "#### - Ethereum vs Non Ethereum events"
   ]
  },
  {
   "cell_type": "code",
   "execution_count": 115,
   "metadata": {},
   "outputs": [
    {
     "data": {
      "text/html": [
       "<div>\n",
       "<style scoped>\n",
       "    .dataframe tbody tr th:only-of-type {\n",
       "        vertical-align: middle;\n",
       "    }\n",
       "\n",
       "    .dataframe tbody tr th {\n",
       "        vertical-align: top;\n",
       "    }\n",
       "\n",
       "    .dataframe thead th {\n",
       "        text-align: right;\n",
       "    }\n",
       "</style>\n",
       "<table border=\"1\" class=\"dataframe\">\n",
       "  <thead>\n",
       "    <tr style=\"text-align: right;\">\n",
       "      <th></th>\n",
       "      <th>number_of_events</th>\n",
       "      <th>%</th>\n",
       "    </tr>\n",
       "    <tr>\n",
       "      <th>is_ethereum_related_event</th>\n",
       "      <th></th>\n",
       "      <th></th>\n",
       "    </tr>\n",
       "  </thead>\n",
       "  <tbody>\n",
       "    <tr>\n",
       "      <td>False</td>\n",
       "      <td>444</td>\n",
       "      <td>71.612903</td>\n",
       "    </tr>\n",
       "    <tr>\n",
       "      <td>True</td>\n",
       "      <td>176</td>\n",
       "      <td>28.387097</td>\n",
       "    </tr>\n",
       "  </tbody>\n",
       "</table>\n",
       "</div>"
      ],
      "text/plain": [
       "                           number_of_events          %\n",
       "is_ethereum_related_event                             \n",
       "False                                   444  71.612903\n",
       "True                                    176  28.387097"
      ]
     },
     "execution_count": 115,
     "metadata": {},
     "output_type": "execute_result"
    }
   ],
   "source": [
    "virl = etha.groupby('is_ethereum_related_event').agg(number_of_events=('event_name', 'nunique'))\n",
    "virl['%'] = (virl['number_of_events'] / virl['number_of_events'].sum()) * 100\n",
    "virl"
   ]
  },
  {
   "cell_type": "markdown",
   "metadata": {},
   "source": [
    "**Comment**: A lot of these events are not ethereum related too (although is hard to assess just from the name of the event so.. might be far from accurate here)"
   ]
  },
  {
   "cell_type": "markdown",
   "metadata": {},
   "source": [
    "#### - Event country"
   ]
  },
  {
   "cell_type": "code",
   "execution_count": 116,
   "metadata": {},
   "outputs": [
    {
     "data": {
      "text/html": [
       "<div>\n",
       "<style scoped>\n",
       "    .dataframe tbody tr th:only-of-type {\n",
       "        vertical-align: middle;\n",
       "    }\n",
       "\n",
       "    .dataframe tbody tr th {\n",
       "        vertical-align: top;\n",
       "    }\n",
       "\n",
       "    .dataframe thead th {\n",
       "        text-align: right;\n",
       "    }\n",
       "</style>\n",
       "<table border=\"1\" class=\"dataframe\">\n",
       "  <thead>\n",
       "    <tr style=\"text-align: right;\">\n",
       "      <th></th>\n",
       "      <th>number_of_events</th>\n",
       "      <th>%</th>\n",
       "    </tr>\n",
       "    <tr>\n",
       "      <th>event_country</th>\n",
       "      <th></th>\n",
       "      <th></th>\n",
       "    </tr>\n",
       "  </thead>\n",
       "  <tbody>\n",
       "    <tr>\n",
       "      <td></td>\n",
       "      <td>370</td>\n",
       "      <td>59.677419</td>\n",
       "    </tr>\n",
       "    <tr>\n",
       "      <td>Argentina</td>\n",
       "      <td>34</td>\n",
       "      <td>5.483871</td>\n",
       "    </tr>\n",
       "    <tr>\n",
       "      <td>United States</td>\n",
       "      <td>25</td>\n",
       "      <td>4.032258</td>\n",
       "    </tr>\n",
       "    <tr>\n",
       "      <td>Ethereum</td>\n",
       "      <td>23</td>\n",
       "      <td>3.709677</td>\n",
       "    </tr>\n",
       "    <tr>\n",
       "      <td>Malaysia</td>\n",
       "      <td>20</td>\n",
       "      <td>3.225806</td>\n",
       "    </tr>\n",
       "    <tr>\n",
       "      <td>USA</td>\n",
       "      <td>19</td>\n",
       "      <td>3.064516</td>\n",
       "    </tr>\n",
       "    <tr>\n",
       "      <td>France</td>\n",
       "      <td>14</td>\n",
       "      <td>2.258065</td>\n",
       "    </tr>\n",
       "    <tr>\n",
       "      <td>Germany</td>\n",
       "      <td>13</td>\n",
       "      <td>2.096774</td>\n",
       "    </tr>\n",
       "    <tr>\n",
       "      <td>Canada</td>\n",
       "      <td>9</td>\n",
       "      <td>1.451613</td>\n",
       "    </tr>\n",
       "    <tr>\n",
       "      <td>111,-23</td>\n",
       "      <td>8</td>\n",
       "      <td>1.290323</td>\n",
       "    </tr>\n",
       "  </tbody>\n",
       "</table>\n",
       "</div>"
      ],
      "text/plain": [
       "               number_of_events          %\n",
       "event_country                             \n",
       "                            370  59.677419\n",
       "Argentina                    34   5.483871\n",
       "United States                25   4.032258\n",
       "Ethereum                     23   3.709677\n",
       "Malaysia                     20   3.225806\n",
       "USA                          19   3.064516\n",
       "France                       14   2.258065\n",
       "Germany                      13   2.096774\n",
       "Canada                        9   1.451613\n",
       "111,-23                       8   1.290323"
      ]
     },
     "execution_count": 116,
     "metadata": {},
     "output_type": "execute_result"
    }
   ],
   "source": [
    "virl = etha.groupby('event_country').agg(number_of_events=('event_name', 'nunique'))\n",
    "virl['%'] = (virl['number_of_events'] / virl['number_of_events'].sum()) * 100\n",
    "virl.sort_values('%', ascending=False).head(10)"
   ]
  },
  {
   "cell_type": "markdown",
   "metadata": {},
   "source": [
    "**Comment**: Hard to assess too once the names of the countries don't have a standard and also big part of the entries don't have this field filled. "
   ]
  },
  {
   "cell_type": "markdown",
   "metadata": {},
   "source": [
    "#### - Most popular events among participants"
   ]
  },
  {
   "cell_type": "code",
   "execution_count": 117,
   "metadata": {},
   "outputs": [
    {
     "data": {
      "text/html": [
       "<div>\n",
       "<style scoped>\n",
       "    .dataframe tbody tr th:only-of-type {\n",
       "        vertical-align: middle;\n",
       "    }\n",
       "\n",
       "    .dataframe tbody tr th {\n",
       "        vertical-align: top;\n",
       "    }\n",
       "\n",
       "    .dataframe thead th {\n",
       "        text-align: right;\n",
       "    }\n",
       "</style>\n",
       "<table border=\"1\" class=\"dataframe\">\n",
       "  <thead>\n",
       "    <tr style=\"text-align: right;\">\n",
       "      <th></th>\n",
       "      <th></th>\n",
       "      <th>attendee_count</th>\n",
       "      <th>%_total_participants</th>\n",
       "    </tr>\n",
       "    <tr>\n",
       "      <th>event_name</th>\n",
       "      <th>is_ethereum_related_event</th>\n",
       "      <th></th>\n",
       "      <th></th>\n",
       "    </tr>\n",
       "  </thead>\n",
       "  <tbody>\n",
       "    <tr>\n",
       "      <td>The One Millionth POAP POAP</td>\n",
       "      <td>False</td>\n",
       "      <td>165</td>\n",
       "      <td>0.082171</td>\n",
       "    </tr>\n",
       "    <tr>\n",
       "      <td>Attendee - ETHDenver 2020</td>\n",
       "      <td>True</td>\n",
       "      <td>99</td>\n",
       "      <td>0.049303</td>\n",
       "    </tr>\n",
       "    <tr>\n",
       "      <td>Devcon5</td>\n",
       "      <td>False</td>\n",
       "      <td>91</td>\n",
       "      <td>0.045319</td>\n",
       "    </tr>\n",
       "    <tr>\n",
       "      <td>ETHDenver</td>\n",
       "      <td>True</td>\n",
       "      <td>87</td>\n",
       "      <td>0.043327</td>\n",
       "    </tr>\n",
       "    <tr>\n",
       "      <td>Staked - ETHDenver 2020</td>\n",
       "      <td>True</td>\n",
       "      <td>73</td>\n",
       "      <td>0.036355</td>\n",
       "    </tr>\n",
       "    <tr>\n",
       "      <td>ETHNewYork</td>\n",
       "      <td>True</td>\n",
       "      <td>73</td>\n",
       "      <td>0.036355</td>\n",
       "    </tr>\n",
       "    <tr>\n",
       "      <td>Metamask 10 Million Users Party</td>\n",
       "      <td>False</td>\n",
       "      <td>56</td>\n",
       "      <td>0.027888</td>\n",
       "    </tr>\n",
       "    <tr>\n",
       "      <td>DevCon4</td>\n",
       "      <td>False</td>\n",
       "      <td>49</td>\n",
       "      <td>0.024402</td>\n",
       "    </tr>\n",
       "    <tr>\n",
       "      <td>Stakeholder - ETHDenver 2020</td>\n",
       "      <td>True</td>\n",
       "      <td>45</td>\n",
       "      <td>0.022410</td>\n",
       "    </tr>\n",
       "    <tr>\n",
       "      <td>EthCC</td>\n",
       "      <td>True</td>\n",
       "      <td>42</td>\n",
       "      <td>0.020916</td>\n",
       "    </tr>\n",
       "  </tbody>\n",
       "</table>\n",
       "</div>"
      ],
      "text/plain": [
       "                                                           attendee_count  \\\n",
       "event_name                      is_ethereum_related_event                   \n",
       "The One Millionth POAP POAP     False                                 165   \n",
       "Attendee - ETHDenver 2020       True                                   99   \n",
       "Devcon5                         False                                  91   \n",
       "ETHDenver                       True                                   87   \n",
       "Staked - ETHDenver 2020         True                                   73   \n",
       "ETHNewYork                      True                                   73   \n",
       "Metamask 10 Million Users Party False                                  56   \n",
       "DevCon4                         False                                  49   \n",
       "Stakeholder - ETHDenver 2020    True                                   45   \n",
       "EthCC                           True                                   42   \n",
       "\n",
       "                                                           %_total_participants  \n",
       "event_name                      is_ethereum_related_event                        \n",
       "The One Millionth POAP POAP     False                                  0.082171  \n",
       "Attendee - ETHDenver 2020       True                                   0.049303  \n",
       "Devcon5                         False                                  0.045319  \n",
       "ETHDenver                       True                                   0.043327  \n",
       "Staked - ETHDenver 2020         True                                   0.036355  \n",
       "ETHNewYork                      True                                   0.036355  \n",
       "Metamask 10 Million Users Party False                                  0.027888  \n",
       "DevCon4                         False                                  0.024402  \n",
       "Stakeholder - ETHDenver 2020    True                                   0.022410  \n",
       "EthCC                           True                                   0.020916  "
      ]
     },
     "execution_count": 117,
     "metadata": {},
     "output_type": "execute_result"
    }
   ],
   "source": [
    "#filtering out ETH Denver\n",
    "evrank = etha.groupby(['event_name', 'is_ethereum_related_event'])\\\n",
    "                .agg(attendee_count=('owner_id', 'nunique'))\\\n",
    "                .sort_values('attendee_count', ascending=False)\n",
    "evrank['%_total_participants'] = (evrank['attendee_count'] / len(poap.loc[poap.is_ETH_Denver_participant==True, 'owner_id'].unique()))\n",
    "\n",
    "evrank.head(10)"
   ]
  },
  {
   "cell_type": "markdown",
   "metadata": {},
   "source": [
    "**Comment**: It seems from the names that the most popuplar events are either builder-type events or ethereum related."
   ]
  },
  {
   "cell_type": "markdown",
   "metadata": {},
   "source": [
    "### Does a ETH Denver partipant attend to more events than a non participant does? "
   ]
  },
  {
   "cell_type": "code",
   "execution_count": 118,
   "metadata": {},
   "outputs": [
    {
     "data": {
      "text/html": [
       "<div>\n",
       "<style scoped>\n",
       "    .dataframe tbody tr th:only-of-type {\n",
       "        vertical-align: middle;\n",
       "    }\n",
       "\n",
       "    .dataframe tbody tr th {\n",
       "        vertical-align: top;\n",
       "    }\n",
       "\n",
       "    .dataframe thead th {\n",
       "        text-align: right;\n",
       "    }\n",
       "</style>\n",
       "<table border=\"1\" class=\"dataframe\">\n",
       "  <thead>\n",
       "    <tr style=\"text-align: right;\">\n",
       "      <th></th>\n",
       "      <th>is_ETH_Denver_participant</th>\n",
       "      <th>avg_number_events_attended</th>\n",
       "    </tr>\n",
       "  </thead>\n",
       "  <tbody>\n",
       "    <tr>\n",
       "      <td>0</td>\n",
       "      <td>False</td>\n",
       "      <td>5.251601</td>\n",
       "    </tr>\n",
       "    <tr>\n",
       "      <td>1</td>\n",
       "      <td>True</td>\n",
       "      <td>36.368526</td>\n",
       "    </tr>\n",
       "  </tbody>\n",
       "</table>\n",
       "</div>"
      ],
      "text/plain": [
       "   is_ETH_Denver_participant  avg_number_events_attended\n",
       "0                      False                    5.251601\n",
       "1                       True                   36.368526"
      ]
     },
     "execution_count": 118,
     "metadata": {},
     "output_type": "execute_result"
    }
   ],
   "source": [
    "evcs = poap.groupby(['owner_id', 'is_ETH_Denver_participant']).agg(event_count=('event_name', 'nunique')).reset_index()\n",
    "avgs = evcs.groupby('is_ETH_Denver_participant').agg(avg_number_events_attended=('event_count', 'mean')).reset_index()\n",
    "\n",
    "avgs"
   ]
  },
  {
   "cell_type": "code",
   "execution_count": 119,
   "metadata": {},
   "outputs": [
    {
     "name": "stdout",
     "output_type": "stream",
     "text": [
      "The average number of events attended by an ETH Denver participants is 6.925227x higher than non-participants. \n",
      "T-test has good confidence with a p-value of: 1.509988353079819e-11\n"
     ]
    }
   ],
   "source": [
    "participants_count = evcs.loc[evcs.is_ETH_Denver_participant==True, 'event_count']\n",
    "non_participants_count = evcs.loc[evcs.is_ETH_Denver_participant==False, 'event_count']\n",
    "\n",
    "t_test, p_value = stats.ttest_ind(participants_count, non_participants_count, equal_var=False)\n",
    "\n",
    "attendee_avg = avgs.loc[avgs.is_ETH_Denver_participant==True, 'avg_number_events_attended'].values[0]\n",
    "non_attendee_avg = avgs.loc[avgs.is_ETH_Denver_participant==False, 'avg_number_events_attended'].values[0]\n",
    "avg_diff = attendee_avg / non_attendee_avg\n",
    "\n",
    "print(f\"The average number of events attended by an ETH Denver participants is {avg_diff:2f}x higher than non-participants. \")\n",
    "print(f\"T-test has good confidence with a p-value of: {p_value}\")"
   ]
  },
  {
   "cell_type": "markdown",
   "metadata": {},
   "source": [
    "### After attending to their first ETH Denver, do participants participate in more events? "
   ]
  },
  {
   "cell_type": "code",
   "execution_count": 120,
   "metadata": {},
   "outputs": [
    {
     "data": {
      "text/html": [
       "<div>\n",
       "<style scoped>\n",
       "    .dataframe tbody tr th:only-of-type {\n",
       "        vertical-align: middle;\n",
       "    }\n",
       "\n",
       "    .dataframe tbody tr th {\n",
       "        vertical-align: top;\n",
       "    }\n",
       "\n",
       "    .dataframe thead th {\n",
       "        text-align: right;\n",
       "    }\n",
       "</style>\n",
       "<table border=\"1\" class=\"dataframe\">\n",
       "  <thead>\n",
       "    <tr style=\"text-align: right;\">\n",
       "      <th></th>\n",
       "      <th>event_after_first_attendance_ethdenver</th>\n",
       "      <th>avg_events_attended</th>\n",
       "    </tr>\n",
       "  </thead>\n",
       "  <tbody>\n",
       "    <tr>\n",
       "      <td>0</td>\n",
       "      <td>False</td>\n",
       "      <td>3.107994</td>\n",
       "    </tr>\n",
       "    <tr>\n",
       "      <td>1</td>\n",
       "      <td>True</td>\n",
       "      <td>4.704167</td>\n",
       "    </tr>\n",
       "  </tbody>\n",
       "</table>\n",
       "</div>"
      ],
      "text/plain": [
       "   event_after_first_attendance_ethdenver  avg_events_attended\n",
       "0                                   False             3.107994\n",
       "1                                    True             4.704167"
      ]
     },
     "execution_count": 120,
     "metadata": {},
     "output_type": "execute_result"
    }
   ],
   "source": [
    "first_ethd = poap.loc[poap.is_ETHDenver_event==True].groupby('owner_id').agg(first_attendance_date=('event_start_date', 'min')).reset_index()\n",
    "etha = etha.merge(first_ethd, on='owner_id', how='left')\n",
    "\n",
    "etha['event_after_first_attendance_ethdenver'] = np.where(etha.event_start_date>etha.first_attendance_date, True, False)\n",
    "edev = etha.groupby(['owner_id', 'event_after_first_attendance_ethdenver']).agg(event_count=('event_name', 'nunique')).reset_index()\n",
    "\n",
    "ev_avg = edev.groupby('event_after_first_attendance_ethdenver').agg(avg_events_attended=('event_count', 'mean')).reset_index()\n",
    "ev_avg"
   ]
  },
  {
   "cell_type": "code",
   "execution_count": 131,
   "metadata": {},
   "outputs": [
    {
     "name": "stdout",
     "output_type": "stream",
     "text": [
      "The average number of events attended after first participation in ETH Denver is 66.1% higher than before attending. \n",
      "T-test has good confidence with a p-value of: 0.0009\n"
     ]
    }
   ],
   "source": [
    "before_ethd = edev.loc[edev.event_after_first_attendance_ethdenver==True, 'event_count']\n",
    "after_ethd = edev.loc[edev.event_after_first_attendance_ethdenver==False, 'event_count']\n",
    "\n",
    "t_test_2, p_value_2 = stats.ttest_ind(before_ethd, after_ethd, equal_var=False)\n",
    "\n",
    "before_avg = ev_avg.loc[ev_avg.event_after_first_attendance_ethdenver==True, 'avg_events_attended'].values[0]\n",
    "after_avg = ev_avg.loc[ev_avg.event_after_first_attendance_ethdenver==False, 'avg_events_attended'].values[0]\n",
    "avg_diff = after_avg / before_avg\n",
    "\n",
    "\n",
    "print(f\"The average number of events attended after first participation in ETH Denver is {(avg_diff * 100):.1f}% higher than before attending. \")\n",
    "print(f\"T-test has good confidence with a p-value of: {p_value_2:.4f}\")"
   ]
  },
  {
   "cell_type": "markdown",
   "metadata": {},
   "source": [
    "## - Activity in the DAO space"
   ]
  },
  {
   "cell_type": "code",
   "execution_count": null,
   "metadata": {},
   "outputs": [],
   "source": [
    "# Isolate all possible ETH Denver participants and start looking at DAO cross reference like:\n",
    "## how many DAOs can the person be identified at (DAOHaus)\n",
    "## how many proposals or votes this people have? once you have proposals or votes this would add you as member of the DAO\n",
    "## explore the concept of stronger membership and weak membership attached to how much people participate \n",
    "## explore level of activity\n",
    "### how many votes\n",
    "### how many different DAOs\n",
    "### total number of interactions vs count of specific reactions: vote, proposals, etc\n",
    "### what is the SPORK holders share in the votes in snapshot - what is their wight on these things? vs only POAP vs general public\n",
    "\n",
    "\n",
    "#DAOHaus data\n",
    "# dh_members, dh_votes, dh_proposals = data_cleaning.get_daohaus_cleaned_data()\n",
    "\n",
    "# #Snapshot data\n",
    "# snap_proposals, snap_votes = data_cleaning.get_snapshot_cleaned_data()\n",
    "\n",
    "# #Token balance data\n",
    "\n",
    "# spork, bufficorns = data_cleaning.get_token_holder_cleaned_data()"
   ]
  },
  {
   "cell_type": "markdown",
   "metadata": {},
   "source": [
    "### Which DAOs are these addresses in ? "
   ]
  },
  {
   "cell_type": "code",
   "execution_count": 135,
   "metadata": {},
   "outputs": [
    {
     "data": {
      "text/html": [
       "<div>\n",
       "<style scoped>\n",
       "    .dataframe tbody tr th:only-of-type {\n",
       "        vertical-align: middle;\n",
       "    }\n",
       "\n",
       "    .dataframe tbody tr th {\n",
       "        vertical-align: top;\n",
       "    }\n",
       "\n",
       "    .dataframe thead th {\n",
       "        text-align: right;\n",
       "    }\n",
       "</style>\n",
       "<table border=\"1\" class=\"dataframe\">\n",
       "  <thead>\n",
       "    <tr style=\"text-align: right;\">\n",
       "      <th></th>\n",
       "      <th>id</th>\n",
       "      <th>dao_id</th>\n",
       "      <th>shares</th>\n",
       "      <th>loot</th>\n",
       "      <th>jailed</th>\n",
       "      <th>kicked</th>\n",
       "      <th>address</th>\n",
       "      <th>created_at</th>\n",
       "      <th>dao_name</th>\n",
       "      <th>dao_address</th>\n",
       "      <th>dao_inactive</th>\n",
       "      <th>dao_created_at</th>\n",
       "      <th>dao_chain</th>\n",
       "      <th>address_normalized</th>\n",
       "    </tr>\n",
       "  </thead>\n",
       "  <tbody>\n",
       "    <tr>\n",
       "      <td>0</td>\n",
       "      <td>8347</td>\n",
       "      <td>1374</td>\n",
       "      <td>0</td>\n",
       "      <td>0.0</td>\n",
       "      <td>NaN</td>\n",
       "      <td>0.0</td>\n",
       "      <td>0x00000000005dbcb0d0513fcda746382fe8a53468</td>\n",
       "      <td>2021-04-13 09:51:35</td>\n",
       "      <td>None</td>\n",
       "      <td>0xc8e0d7fd13eb3cbc19eb293d0e00b8386cc1b6f2</td>\n",
       "      <td>False</td>\n",
       "      <td>2020-09-07 14:18:50</td>\n",
       "      <td>392</td>\n",
       "      <td>0x00000000005dbcB0d0513FcDa746382Fe8a53468</td>\n",
       "    </tr>\n",
       "    <tr>\n",
       "      <td>1</td>\n",
       "      <td>6791</td>\n",
       "      <td>1104</td>\n",
       "      <td>20</td>\n",
       "      <td>0.0</td>\n",
       "      <td>NaN</td>\n",
       "      <td>0.0</td>\n",
       "      <td>0x00000000005dbcb0d0513fcda746382fe8a53468</td>\n",
       "      <td>2021-02-15 17:15:30</td>\n",
       "      <td>ChessDAO</td>\n",
       "      <td>0x8ee8ae90240e9b37e13b618c9486684139d3cef2</td>\n",
       "      <td>False</td>\n",
       "      <td>2021-02-15 17:15:30</td>\n",
       "      <td>392</td>\n",
       "      <td>0x00000000005dbcB0d0513FcDa746382Fe8a53468</td>\n",
       "    </tr>\n",
       "    <tr>\n",
       "      <td>2</td>\n",
       "      <td>6798</td>\n",
       "      <td>1102</td>\n",
       "      <td>380</td>\n",
       "      <td>0.0</td>\n",
       "      <td>NaN</td>\n",
       "      <td>0.0</td>\n",
       "      <td>0x00000000005dbcb0d0513fcda746382fe8a53468</td>\n",
       "      <td>2021-03-19 00:33:25</td>\n",
       "      <td>None</td>\n",
       "      <td>0x8fa11e7bd698ce64a1646a3ee8a9f01f00d89c8d</td>\n",
       "      <td>False</td>\n",
       "      <td>2021-03-19 00:33:25</td>\n",
       "      <td>392</td>\n",
       "      <td>0x00000000005dbcB0d0513FcDa746382Fe8a53468</td>\n",
       "    </tr>\n",
       "    <tr>\n",
       "      <td>3</td>\n",
       "      <td>3055</td>\n",
       "      <td>583</td>\n",
       "      <td>380</td>\n",
       "      <td>0.0</td>\n",
       "      <td>NaN</td>\n",
       "      <td>0.0</td>\n",
       "      <td>0x00000000005dbcb0d0513fcda746382fe8a53468</td>\n",
       "      <td>2021-03-19 00:58:45</td>\n",
       "      <td>None</td>\n",
       "      <td>0x258341b93ff8f20834fc55ad8d6ec67c5869fe58</td>\n",
       "      <td>False</td>\n",
       "      <td>2021-03-19 00:58:45</td>\n",
       "      <td>392</td>\n",
       "      <td>0x00000000005dbcB0d0513FcDa746382Fe8a53468</td>\n",
       "    </tr>\n",
       "    <tr>\n",
       "      <td>4</td>\n",
       "      <td>10383</td>\n",
       "      <td>1610</td>\n",
       "      <td>380</td>\n",
       "      <td>0.0</td>\n",
       "      <td>NaN</td>\n",
       "      <td>0.0</td>\n",
       "      <td>0x00000000005dbcb0d0513fcda746382fe8a53468</td>\n",
       "      <td>2021-02-18 12:05:15</td>\n",
       "      <td>Raid Guild</td>\n",
       "      <td>0xfe1084bc16427e5eb7f13fc19bcd4e641f7d571f</td>\n",
       "      <td>False</td>\n",
       "      <td>2021-02-18 12:05:15</td>\n",
       "      <td>392</td>\n",
       "      <td>0x00000000005dbcB0d0513FcDa746382Fe8a53468</td>\n",
       "    </tr>\n",
       "  </tbody>\n",
       "</table>\n",
       "</div>"
      ],
      "text/plain": [
       "      id  dao_id  shares  loot  jailed  kicked  \\\n",
       "0   8347    1374       0   0.0     NaN     0.0   \n",
       "1   6791    1104      20   0.0     NaN     0.0   \n",
       "2   6798    1102     380   0.0     NaN     0.0   \n",
       "3   3055     583     380   0.0     NaN     0.0   \n",
       "4  10383    1610     380   0.0     NaN     0.0   \n",
       "\n",
       "                                      address          created_at    dao_name  \\\n",
       "0  0x00000000005dbcb0d0513fcda746382fe8a53468 2021-04-13 09:51:35        None   \n",
       "1  0x00000000005dbcb0d0513fcda746382fe8a53468 2021-02-15 17:15:30    ChessDAO   \n",
       "2  0x00000000005dbcb0d0513fcda746382fe8a53468 2021-03-19 00:33:25        None   \n",
       "3  0x00000000005dbcb0d0513fcda746382fe8a53468 2021-03-19 00:58:45        None   \n",
       "4  0x00000000005dbcb0d0513fcda746382fe8a53468 2021-02-18 12:05:15  Raid Guild   \n",
       "\n",
       "                                  dao_address  dao_inactive  \\\n",
       "0  0xc8e0d7fd13eb3cbc19eb293d0e00b8386cc1b6f2         False   \n",
       "1  0x8ee8ae90240e9b37e13b618c9486684139d3cef2         False   \n",
       "2  0x8fa11e7bd698ce64a1646a3ee8a9f01f00d89c8d         False   \n",
       "3  0x258341b93ff8f20834fc55ad8d6ec67c5869fe58         False   \n",
       "4  0xfe1084bc16427e5eb7f13fc19bcd4e641f7d571f         False   \n",
       "\n",
       "       dao_created_at  dao_chain                          address_normalized  \n",
       "0 2020-09-07 14:18:50        392  0x00000000005dbcB0d0513FcDa746382Fe8a53468  \n",
       "1 2021-02-15 17:15:30        392  0x00000000005dbcB0d0513FcDa746382Fe8a53468  \n",
       "2 2021-03-19 00:33:25        392  0x00000000005dbcB0d0513FcDa746382Fe8a53468  \n",
       "3 2021-03-19 00:58:45        392  0x00000000005dbcB0d0513FcDa746382Fe8a53468  \n",
       "4 2021-02-18 12:05:15        392  0x00000000005dbcB0d0513FcDa746382Fe8a53468  "
      ]
     },
     "execution_count": 135,
     "metadata": {},
     "output_type": "execute_result"
    }
   ],
   "source": [
    "dh_members.head()"
   ]
  },
  {
   "cell_type": "code",
   "execution_count": 133,
   "metadata": {
    "collapsed": true,
    "jupyter": {
     "outputs_hidden": true
    }
   },
   "outputs": [
    {
     "name": "stderr",
     "output_type": "stream",
     "text": [
      "/Users/fernandomeira/.local/lib/python3.7/site-packages/ipykernel_launcher.py:26: FutureWarning: Sorting because non-concatenation axis is not aligned. A future version\n",
      "of pandas will change to not sort by default.\n",
      "\n",
      "To accept the future behavior, pass 'sort=False'.\n",
      "\n",
      "To retain the current behavior and silence the warning, pass 'sort=True'.\n",
      "\n"
     ]
    }
   ],
   "source": [
    "#using DAOHAus membership data\n",
    "dh_mem = dh_members.merge(ethd.loc[:, ['address', 'profile_type']], \n",
    "                          left_on='address_normalized',right_on='address', how='inner')\n",
    "\n",
    "dhg = dh_mem.groupby(['dao_name', 'address_y']).agg(wallet_count=('address_y', 'nunique')).sort_values('wallet_count', ascending = False).reset_index()\n",
    "dhg = dhg.rename(columns={'address_y': 'wallet_address'})\n",
    "dhg['origin'] = 'DaoHaus'\n",
    "\n",
    "#getting DAO membership from snap\n",
    "\n",
    "sprops = snap_proposals.groupby(['author', 'space_name']).agg(prop_count=('id', 'nunique')).reset_index()\n",
    "sprops = sprops.rename(columns={'author': 'address'})\n",
    "sprops['snapshot_type'] = 'proposal_creation'\n",
    "\n",
    "svotes = snap_votes.groupby(['voter', 'space_name']).agg(prop_count=('proposal_id', 'nunique')).reset_index()\n",
    "svotes = svotes.rename(columns={'voter': 'address'})\n",
    "svotes['snapshot_type'] = 'votes'\n",
    "\n",
    "snap_activity = pd.concat([sprops, svotes])\n",
    "\n",
    "snap_adr = snap_activity.merge(ethd.loc[:, ['address', 'profile_type']], on='address', how='inner' )\n",
    "sng = snap_adr.groupby(['address', 'space_name']).agg(wallet_count=('address', 'nunique')).reset_index()\n",
    "sng = sng.rename(columns={'address':'wallet_address', 'space_name':'dao_name'})\n",
    "sng['origin'] = 'snapshot'\n",
    "\n",
    "dao_membership = pd.concat([dhg, sng])"
   ]
  },
  {
   "cell_type": "markdown",
   "metadata": {},
   "source": [
    "### The DAOs ETH Denver attendees participate"
   ]
  },
  {
   "cell_type": "markdown",
   "metadata": {},
   "source": [
    "#### % of ETH participants in DAOs"
   ]
  },
  {
   "cell_type": "code",
   "execution_count": null,
   "metadata": {},
   "outputs": [],
   "source": []
  },
  {
   "cell_type": "markdown",
   "metadata": {},
   "source": [
    "#### Most popular DAOs"
   ]
  },
  {
   "cell_type": "code",
   "execution_count": 134,
   "metadata": {},
   "outputs": [
    {
     "data": {
      "text/html": [
       "<div>\n",
       "<style scoped>\n",
       "    .dataframe tbody tr th:only-of-type {\n",
       "        vertical-align: middle;\n",
       "    }\n",
       "\n",
       "    .dataframe tbody tr th {\n",
       "        vertical-align: top;\n",
       "    }\n",
       "\n",
       "    .dataframe thead th {\n",
       "        text-align: right;\n",
       "    }\n",
       "</style>\n",
       "<table border=\"1\" class=\"dataframe\">\n",
       "  <thead>\n",
       "    <tr style=\"text-align: right;\">\n",
       "      <th></th>\n",
       "      <th>wallet_count</th>\n",
       "    </tr>\n",
       "    <tr>\n",
       "      <th>dao_name</th>\n",
       "      <th></th>\n",
       "    </tr>\n",
       "  </thead>\n",
       "  <tbody>\n",
       "    <tr>\n",
       "      <td>ENS</td>\n",
       "      <td>1174</td>\n",
       "    </tr>\n",
       "    <tr>\n",
       "      <td>Bankless DAO</td>\n",
       "      <td>120</td>\n",
       "    </tr>\n",
       "    <tr>\n",
       "      <td>Gitcoin</td>\n",
       "      <td>111</td>\n",
       "    </tr>\n",
       "    <tr>\n",
       "      <td>BadgerDAO</td>\n",
       "      <td>98</td>\n",
       "    </tr>\n",
       "    <tr>\n",
       "      <td>ChessDAO</td>\n",
       "      <td>79</td>\n",
       "    </tr>\n",
       "    <tr>\n",
       "      <td>Sushi</td>\n",
       "      <td>70</td>\n",
       "    </tr>\n",
       "    <tr>\n",
       "      <td>Aavegotchi</td>\n",
       "      <td>69</td>\n",
       "    </tr>\n",
       "    <tr>\n",
       "      <td>Friends With Benefits Pro</td>\n",
       "      <td>66</td>\n",
       "    </tr>\n",
       "    <tr>\n",
       "      <td>Raid Guild</td>\n",
       "      <td>57</td>\n",
       "    </tr>\n",
       "    <tr>\n",
       "      <td>Rarible Protocol DAO</td>\n",
       "      <td>56</td>\n",
       "    </tr>\n",
       "    <tr>\n",
       "      <td>PancakeSwap</td>\n",
       "      <td>55</td>\n",
       "    </tr>\n",
       "    <tr>\n",
       "      <td>MetaFactory</td>\n",
       "      <td>54</td>\n",
       "    </tr>\n",
       "    <tr>\n",
       "      <td>Gearbox</td>\n",
       "      <td>54</td>\n",
       "    </tr>\n",
       "    <tr>\n",
       "      <td>OlympusDAO</td>\n",
       "      <td>53</td>\n",
       "    </tr>\n",
       "    <tr>\n",
       "      <td>CityDAO</td>\n",
       "      <td>46</td>\n",
       "    </tr>\n",
       "  </tbody>\n",
       "</table>\n",
       "</div>"
      ],
      "text/plain": [
       "                           wallet_count\n",
       "dao_name                               \n",
       "ENS                                1174\n",
       "Bankless DAO                        120\n",
       "Gitcoin                             111\n",
       "BadgerDAO                            98\n",
       "ChessDAO                             79\n",
       "Sushi                                70\n",
       "Aavegotchi                           69\n",
       "Friends With Benefits Pro            66\n",
       "Raid Guild                           57\n",
       "Rarible Protocol DAO                 56\n",
       "PancakeSwap                          55\n",
       "MetaFactory                          54\n",
       "Gearbox                              54\n",
       "OlympusDAO                           53\n",
       "CityDAO                              46"
      ]
     },
     "execution_count": 134,
     "metadata": {},
     "output_type": "execute_result"
    }
   ],
   "source": [
    "dao_membership.groupby('dao_name').agg(wallet_count=('wallet_count', 'sum')).sort_values('wallet_count', ascending=False).head(15)"
   ]
  },
  {
   "cell_type": "markdown",
   "metadata": {},
   "source": [
    "#### Are ETH participants participating in more DAOs than an average member? "
   ]
  },
  {
   "cell_type": "code",
   "execution_count": null,
   "metadata": {},
   "outputs": [],
   "source": []
  },
  {
   "cell_type": "markdown",
   "metadata": {},
   "source": [
    "### How active these addresses are compared to the average DAO member ?"
   ]
  },
  {
   "cell_type": "markdown",
   "metadata": {},
   "source": [
    "#### On proposal creation"
   ]
  },
  {
   "cell_type": "code",
   "execution_count": null,
   "metadata": {},
   "outputs": [],
   "source": []
  },
  {
   "cell_type": "markdown",
   "metadata": {},
   "source": [
    "#### On votes"
   ]
  },
  {
   "cell_type": "code",
   "execution_count": null,
   "metadata": {},
   "outputs": [],
   "source": []
  },
  {
   "cell_type": "markdown",
   "metadata": {},
   "source": [
    "#### Overall (proposals + votes)"
   ]
  },
  {
   "cell_type": "code",
   "execution_count": null,
   "metadata": {},
   "outputs": [],
   "source": []
  },
  {
   "cell_type": "markdown",
   "metadata": {},
   "source": [
    "## - Token bags"
   ]
  },
  {
   "cell_type": "code",
   "execution_count": null,
   "metadata": {},
   "outputs": [],
   "source": []
  },
  {
   "cell_type": "code",
   "execution_count": null,
   "metadata": {},
   "outputs": [],
   "source": []
  },
  {
   "cell_type": "code",
   "execution_count": 137,
   "metadata": {},
   "outputs": [
    {
     "data": {
      "text/html": [
       "<div>\n",
       "<style scoped>\n",
       "    .dataframe tbody tr th:only-of-type {\n",
       "        vertical-align: middle;\n",
       "    }\n",
       "\n",
       "    .dataframe tbody tr th {\n",
       "        vertical-align: top;\n",
       "    }\n",
       "\n",
       "    .dataframe thead th {\n",
       "        text-align: right;\n",
       "    }\n",
       "</style>\n",
       "<table border=\"1\" class=\"dataframe\">\n",
       "  <thead>\n",
       "    <tr style=\"text-align: right;\">\n",
       "      <th></th>\n",
       "      <th>space_id</th>\n",
       "      <th>space_name</th>\n",
       "      <th>space_about</th>\n",
       "      <th>space_network</th>\n",
       "      <th>space_symbol</th>\n",
       "      <th>member_address</th>\n",
       "    </tr>\n",
       "  </thead>\n",
       "  <tbody>\n",
       "    <tr>\n",
       "      <td>0</td>\n",
       "      <td>000666.eth</td>\n",
       "      <td>天成588</td>\n",
       "      <td></td>\n",
       "      <td>1</td>\n",
       "      <td>dai</td>\n",
       "      <td>no_members</td>\n",
       "    </tr>\n",
       "    <tr>\n",
       "      <td>1</td>\n",
       "      <td>000888.eth</td>\n",
       "      <td>000888</td>\n",
       "      <td></td>\n",
       "      <td>1</td>\n",
       "      <td>ETH</td>\n",
       "      <td>no_members</td>\n",
       "    </tr>\n",
       "    <tr>\n",
       "      <td>2</td>\n",
       "      <td>01yl10.eth</td>\n",
       "      <td>01yl10</td>\n",
       "      <td></td>\n",
       "      <td>1</td>\n",
       "      <td>ETH</td>\n",
       "      <td>no_members</td>\n",
       "    </tr>\n",
       "    <tr>\n",
       "      <td>3</td>\n",
       "      <td>02468.eth</td>\n",
       "      <td>02468dao</td>\n",
       "      <td></td>\n",
       "      <td>1</td>\n",
       "      <td>ens</td>\n",
       "      <td>no_members</td>\n",
       "    </tr>\n",
       "    <tr>\n",
       "      <td>4</td>\n",
       "      <td>0n1community.eth</td>\n",
       "      <td>0n1 Community Efforts</td>\n",
       "      <td>Vote for use of 0n1 Community Efforts Safe Funds</td>\n",
       "      <td>1</td>\n",
       "      <td>0n1Com</td>\n",
       "      <td>0x9d18fC33DAd2090F7C73463Fd043b0f63e0a628E</td>\n",
       "    </tr>\n",
       "  </tbody>\n",
       "</table>\n",
       "</div>"
      ],
      "text/plain": [
       "           space_id             space_name  \\\n",
       "0        000666.eth                  天成588   \n",
       "1        000888.eth                 000888   \n",
       "2        01yl10.eth                 01yl10   \n",
       "3         02468.eth               02468dao   \n",
       "4  0n1community.eth  0n1 Community Efforts   \n",
       "\n",
       "                                        space_about  space_network  \\\n",
       "0                                                                1   \n",
       "1                                                                1   \n",
       "2                                                                1   \n",
       "3                                                                1   \n",
       "4  Vote for use of 0n1 Community Efforts Safe Funds              1   \n",
       "\n",
       "  space_symbol                              member_address  \n",
       "0          dai                                  no_members  \n",
       "1          ETH                                  no_members  \n",
       "2          ETH                                  no_members  \n",
       "3          ens                                  no_members  \n",
       "4       0n1Com  0x9d18fC33DAd2090F7C73463Fd043b0f63e0a628E  "
      ]
     },
     "execution_count": 137,
     "metadata": {},
     "output_type": "execute_result"
    }
   ],
   "source": [
    "xxx = pd.read_json('datasets/snapshot_spaces_members.json')\n",
    "xxx.head()"
   ]
  },
  {
   "cell_type": "code",
   "execution_count": 138,
   "metadata": {},
   "outputs": [
    {
     "data": {
      "text/plain": [
       "5307"
      ]
     },
     "execution_count": 138,
     "metadata": {},
     "output_type": "execute_result"
    }
   ],
   "source": [
    "len(xxx.space_name.unique())"
   ]
  },
  {
   "cell_type": "code",
   "execution_count": 144,
   "metadata": {},
   "outputs": [
    {
     "data": {
      "text/html": [
       "<div>\n",
       "<style scoped>\n",
       "    .dataframe tbody tr th:only-of-type {\n",
       "        vertical-align: middle;\n",
       "    }\n",
       "\n",
       "    .dataframe tbody tr th {\n",
       "        vertical-align: top;\n",
       "    }\n",
       "\n",
       "    .dataframe thead th {\n",
       "        text-align: right;\n",
       "    }\n",
       "</style>\n",
       "<table border=\"1\" class=\"dataframe\">\n",
       "  <thead>\n",
       "    <tr style=\"text-align: right;\">\n",
       "      <th></th>\n",
       "      <th>space_id</th>\n",
       "      <th>space_name</th>\n",
       "      <th>space_about</th>\n",
       "      <th>space_network</th>\n",
       "      <th>space_symbol</th>\n",
       "      <th>member_address</th>\n",
       "    </tr>\n",
       "  </thead>\n",
       "  <tbody>\n",
       "    <tr>\n",
       "      <td>19222</td>\n",
       "      <td>olympusdao.eth</td>\n",
       "      <td>OlympusDAO</td>\n",
       "      <td></td>\n",
       "      <td>1</td>\n",
       "      <td>OHM</td>\n",
       "      <td>0x2E34c96c51cFf6F5bEA0CCCF0c886902843b5EdA</td>\n",
       "    </tr>\n",
       "    <tr>\n",
       "      <td>19223</td>\n",
       "      <td>olympusdao.eth</td>\n",
       "      <td>OlympusDAO</td>\n",
       "      <td></td>\n",
       "      <td>1</td>\n",
       "      <td>OHM</td>\n",
       "      <td>0xdaa30fe7e3e7a721ab7de665066a6fef0b19d5c9</td>\n",
       "    </tr>\n",
       "    <tr>\n",
       "      <td>19224</td>\n",
       "      <td>olympusdao.eth</td>\n",
       "      <td>OlympusDAO</td>\n",
       "      <td></td>\n",
       "      <td>1</td>\n",
       "      <td>OHM</td>\n",
       "      <td>0x389b11C4fA4b95bCc252A2B20Bb62310Fbc36746</td>\n",
       "    </tr>\n",
       "    <tr>\n",
       "      <td>19225</td>\n",
       "      <td>olympusdao.eth</td>\n",
       "      <td>OlympusDAO</td>\n",
       "      <td></td>\n",
       "      <td>1</td>\n",
       "      <td>OHM</td>\n",
       "      <td>0x5Ce7D83f7Aaac17a0Ad40540B37fC7a0b688FF44</td>\n",
       "    </tr>\n",
       "    <tr>\n",
       "      <td>19226</td>\n",
       "      <td>olympusdao.eth</td>\n",
       "      <td>OlympusDAO</td>\n",
       "      <td></td>\n",
       "      <td>1</td>\n",
       "      <td>OHM</td>\n",
       "      <td>0x6216e2067457Db699bef940b4e1Ec6316B68dA20</td>\n",
       "    </tr>\n",
       "    <tr>\n",
       "      <td>19227</td>\n",
       "      <td>olympusdao.eth</td>\n",
       "      <td>OlympusDAO</td>\n",
       "      <td></td>\n",
       "      <td>1</td>\n",
       "      <td>OHM</td>\n",
       "      <td>0xef475153e00c58b5011136e3f22c3fd761e7570e</td>\n",
       "    </tr>\n",
       "    <tr>\n",
       "      <td>19228</td>\n",
       "      <td>olympusdao.eth</td>\n",
       "      <td>OlympusDAO</td>\n",
       "      <td></td>\n",
       "      <td>1</td>\n",
       "      <td>OHM</td>\n",
       "      <td>0xE3Ad1a936EB7C86617BCE4b370F8674258f79c79</td>\n",
       "    </tr>\n",
       "    <tr>\n",
       "      <td>19229</td>\n",
       "      <td>olympusdao.eth</td>\n",
       "      <td>OlympusDAO</td>\n",
       "      <td></td>\n",
       "      <td>1</td>\n",
       "      <td>OHM</td>\n",
       "      <td>0x131bd1A2827ccEb2945B2e3B91Ee1Bf736cCbf80</td>\n",
       "    </tr>\n",
       "  </tbody>\n",
       "</table>\n",
       "</div>"
      ],
      "text/plain": [
       "             space_id  space_name space_about  space_network space_symbol  \\\n",
       "19222  olympusdao.eth  OlympusDAO                          1          OHM   \n",
       "19223  olympusdao.eth  OlympusDAO                          1          OHM   \n",
       "19224  olympusdao.eth  OlympusDAO                          1          OHM   \n",
       "19225  olympusdao.eth  OlympusDAO                          1          OHM   \n",
       "19226  olympusdao.eth  OlympusDAO                          1          OHM   \n",
       "19227  olympusdao.eth  OlympusDAO                          1          OHM   \n",
       "19228  olympusdao.eth  OlympusDAO                          1          OHM   \n",
       "19229  olympusdao.eth  OlympusDAO                          1          OHM   \n",
       "\n",
       "                                   member_address  \n",
       "19222  0x2E34c96c51cFf6F5bEA0CCCF0c886902843b5EdA  \n",
       "19223  0xdaa30fe7e3e7a721ab7de665066a6fef0b19d5c9  \n",
       "19224  0x389b11C4fA4b95bCc252A2B20Bb62310Fbc36746  \n",
       "19225  0x5Ce7D83f7Aaac17a0Ad40540B37fC7a0b688FF44  \n",
       "19226  0x6216e2067457Db699bef940b4e1Ec6316B68dA20  \n",
       "19227  0xef475153e00c58b5011136e3f22c3fd761e7570e  \n",
       "19228  0xE3Ad1a936EB7C86617BCE4b370F8674258f79c79  \n",
       "19229  0x131bd1A2827ccEb2945B2e3B91Ee1Bf736cCbf80  "
      ]
     },
     "execution_count": 144,
     "metadata": {},
     "output_type": "execute_result"
    }
   ],
   "source": [
    "xxx.loc[xxx.space_name=='OlympusDAO']"
   ]
  }
 ],
 "metadata": {
  "interpreter": {
   "hash": "cc73f21a52ccb832bf677fe91f931c0e3bb70d63042d3db79193d87a6c9b6f0c"
  },
  "kernelspec": {
   "display_name": "Python 3",
   "language": "python",
   "name": "python3"
  },
  "language_info": {
   "codemirror_mode": {
    "name": "ipython",
    "version": 3
   },
   "file_extension": ".py",
   "mimetype": "text/x-python",
   "name": "python",
   "nbconvert_exporter": "python",
   "pygments_lexer": "ipython3",
   "version": "3.7.4"
  }
 },
 "nbformat": 4,
 "nbformat_minor": 4
}
