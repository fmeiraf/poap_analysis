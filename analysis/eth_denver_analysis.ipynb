{
 "cells": [
  {
   "cell_type": "code",
   "execution_count": 1,
   "metadata": {},
   "outputs": [],
   "source": [
    "import pandas as pd\n",
    "import matplotlib.pyplot as plt\n",
    "import seaborn as sns\n",
    "import numpy as np\n",
    "\n",
    "import data_cleaning"
   ]
  },
  {
   "cell_type": "markdown",
   "metadata": {},
   "source": [
    "# Summary"
   ]
  },
  {
   "cell_type": "markdown",
   "metadata": {},
   "source": [
    "This is an analysis originated from a bounty from [DiamondDAO](https://docs.diamonddao.xyz/welcome/values) that aims to analyze the data coming form ETH Denver attendees and their pathway in crypto after the event.\n",
    "\n",
    "**Main objective:** \n",
    "- To determine the profile of inviduals attending the event.\n",
    "- To understand the impacts of the event in the ecosystem. "
   ]
  },
  {
   "cell_type": "markdown",
   "metadata": {},
   "source": [
    "# Data loading"
   ]
  },
  {
   "cell_type": "code",
   "execution_count": 2,
   "metadata": {
    "jupyter": {
     "source_hidden": true
    }
   },
   "outputs": [],
   "source": [
    "#POAP data\n",
    "poap = data_cleaning.get_cleaned_poap_data()\n",
    "\n",
    "#DAOHaus data\n",
    "dh_members, dh_votes, dh_proposals = data_cleaning.get_daohaus_cleaned_data()\n",
    "\n",
    "#Snapshot data\n",
    "snap_proposals, snap_votes = data_cleaning.get_snapshot_cleaned_data()\n",
    "\n",
    "#Token balance data\n",
    "\n",
    "spork = data_cleaning.get_token_holder_cleaned_data()"
   ]
  },
  {
   "cell_type": "markdown",
   "metadata": {},
   "source": [
    "# Analysis"
   ]
  },
  {
   "cell_type": "markdown",
   "metadata": {},
   "source": [
    "## ETH Denver POAP Overview"
   ]
  },
  {
   "cell_type": "markdown",
   "metadata": {},
   "source": [
    "### **Mints**"
   ]
  },
  {
   "cell_type": "code",
   "execution_count": 36,
   "metadata": {},
   "outputs": [
    {
     "name": "stdout",
     "output_type": "stream",
     "text": [
      "##### Table #### \n",
      "\n",
      "   event_year  n_unique_users  total_tokens_minted\n",
      "0        2018              27                   27\n",
      "1        2019              84                   87\n",
      "2        2020             243                  274\n",
      "3        2021             740                 5066\n",
      "4        2022               2                    2\n",
      "\n",
      "\n",
      "################ \n",
      "\n",
      "\n",
      "Number of unique minter addresses per year & total numbers of tokens minted (for ALL ETH Denver related POAPs)\n"
     ]
    },
    {
     "data": {
      "image/png": "[encoded data removed]",
      "text/plain": [
       "<Figure size 720x360 with 2 Axes>"
      ]
     },
     "metadata": {
      "needs_background": "light"
     },
     "output_type": "display_data"
    }
   ],
   "source": [
    "mints = poap.loc[(poap.event_name.str.contains('ethdenver', case=False) )&\n",
    "                (poap.owner_id != \"0x0000000000000000000000000000000000000000\")].copy()\n",
    "\n",
    "mints_year = mints.groupby('event_year').agg(n_unique_users=('owner_id', 'nunique'), \n",
    "                                             total_tokens_minted=('token_id', 'nunique')).reset_index()\n",
    "\n",
    "mints_melt = pd.melt(mints_year, id_vars=['event_year'], value_vars=['n_unique_users', 'total_tokens_minted'], \n",
    "                                                         var_name='metric', value_name='count')\n",
    "\n",
    "print('##### Table #### \\n')\n",
    "print(mints_year)\n",
    "print('\\n')\n",
    "print('################ \\n\\n')\n",
    "\n",
    "print('Number of unique minter addresses per year & total numbers of tokens minted (for ALL ETH Denver related POAPs)')\n",
    "sns.catplot(data=mints_melt, x='event_year', y='count', col='metric', kind='bar', sharey=False)\n",
    "\n",
    "plt.show()"
   ]
  },
  {
   "cell_type": "markdown",
   "metadata": {},
   "source": [
    "**Comment**: The numbers of unique minter addresses in consistently increasing, and it seems 2021 was a huge leap. This is also reflected in the total amount of tokens minted, where this effect in even drastic."
   ]
  },
  {
   "cell_type": "markdown",
   "metadata": {},
   "source": [
    "### **POAP loyal minters**"
   ]
  },
  {
   "cell_type": "code",
   "execution_count": 37,
   "metadata": {},
   "outputs": [
    {
     "data": {
      "text/html": [
       "<div>\n",
       "<style scoped>\n",
       "    .dataframe tbody tr th:only-of-type {\n",
       "        vertical-align: middle;\n",
       "    }\n",
       "\n",
       "    .dataframe tbody tr th {\n",
       "        vertical-align: top;\n",
       "    }\n",
       "\n",
       "    .dataframe thead th {\n",
       "        text-align: right;\n",
       "    }\n",
       "</style>\n",
       "<table border=\"1\" class=\"dataframe\">\n",
       "  <thead>\n",
       "    <tr style=\"text-align: right;\">\n",
       "      <th></th>\n",
       "      <th>unique_user_count</th>\n",
       "      <th>%</th>\n",
       "    </tr>\n",
       "    <tr>\n",
       "      <th>n_years_minted</th>\n",
       "      <th></th>\n",
       "      <th></th>\n",
       "    </tr>\n",
       "  </thead>\n",
       "  <tbody>\n",
       "    <tr>\n",
       "      <td>1</td>\n",
       "      <td>978</td>\n",
       "      <td>94.675702</td>\n",
       "    </tr>\n",
       "    <tr>\n",
       "      <td>2</td>\n",
       "      <td>49</td>\n",
       "      <td>4.743466</td>\n",
       "    </tr>\n",
       "    <tr>\n",
       "      <td>3</td>\n",
       "      <td>4</td>\n",
       "      <td>0.387222</td>\n",
       "    </tr>\n",
       "    <tr>\n",
       "      <td>4</td>\n",
       "      <td>2</td>\n",
       "      <td>0.193611</td>\n",
       "    </tr>\n",
       "  </tbody>\n",
       "</table>\n",
       "</div>"
      ],
      "text/plain": [
       "                unique_user_count          %\n",
       "n_years_minted                              \n",
       "1                             978  94.675702\n",
       "2                              49   4.743466\n",
       "3                               4   0.387222\n",
       "4                               2   0.193611"
      ]
     },
     "execution_count": 37,
     "metadata": {},
     "output_type": "execute_result"
    }
   ],
   "source": [
    "# count of users with X amount of years\n",
    "lominters = mints.groupby('owner_id').agg(n_years_minted=('event_year', 'nunique')).reset_index()\n",
    "lominters_group = lominters.groupby('n_years_minted').agg(unique_user_count=('owner_id', 'nunique'))\n",
    "lominters_group['%'] = (lominters_group['unique_user_count'] / lominters_group['unique_user_count'].sum()) * 100\n",
    "\n",
    "lominters_group"
   ]
  },
  {
   "cell_type": "markdown",
   "metadata": {},
   "source": [
    "**Comment:** Kind of makes sense once most people started gong on 2021. What about this % but considering when people started? "
   ]
  },
  {
   "cell_type": "code",
   "execution_count": 38,
   "metadata": {},
   "outputs": [
    {
     "data": {
      "text/html": [
       "<div>\n",
       "<style scoped>\n",
       "    .dataframe tbody tr th:only-of-type {\n",
       "        vertical-align: middle;\n",
       "    }\n",
       "\n",
       "    .dataframe tbody tr th {\n",
       "        vertical-align: top;\n",
       "    }\n",
       "\n",
       "    .dataframe thead th {\n",
       "        text-align: right;\n",
       "    }\n",
       "</style>\n",
       "<table border=\"1\" class=\"dataframe\">\n",
       "  <thead>\n",
       "    <tr style=\"text-align: right;\">\n",
       "      <th></th>\n",
       "      <th></th>\n",
       "      <th>unique_user_count</th>\n",
       "      <th>%</th>\n",
       "    </tr>\n",
       "    <tr>\n",
       "      <th>year_started</th>\n",
       "      <th>n_years_minted</th>\n",
       "      <th></th>\n",
       "      <th></th>\n",
       "    </tr>\n",
       "  </thead>\n",
       "  <tbody>\n",
       "    <tr>\n",
       "      <td rowspan=\"4\" valign=\"top\">2018</td>\n",
       "      <td>1</td>\n",
       "      <td>4</td>\n",
       "      <td>14.814815</td>\n",
       "    </tr>\n",
       "    <tr>\n",
       "      <td>2</td>\n",
       "      <td>18</td>\n",
       "      <td>66.666667</td>\n",
       "    </tr>\n",
       "    <tr>\n",
       "      <td>3</td>\n",
       "      <td>3</td>\n",
       "      <td>11.111111</td>\n",
       "    </tr>\n",
       "    <tr>\n",
       "      <td>4</td>\n",
       "      <td>2</td>\n",
       "      <td>7.407407</td>\n",
       "    </tr>\n",
       "    <tr>\n",
       "      <td rowspan=\"3\" valign=\"top\">2019</td>\n",
       "      <td>1</td>\n",
       "      <td>49</td>\n",
       "      <td>76.562500</td>\n",
       "    </tr>\n",
       "    <tr>\n",
       "      <td>2</td>\n",
       "      <td>14</td>\n",
       "      <td>21.875000</td>\n",
       "    </tr>\n",
       "    <tr>\n",
       "      <td>3</td>\n",
       "      <td>1</td>\n",
       "      <td>1.562500</td>\n",
       "    </tr>\n",
       "    <tr>\n",
       "      <td rowspan=\"2\" valign=\"top\">2020</td>\n",
       "      <td>1</td>\n",
       "      <td>207</td>\n",
       "      <td>92.410714</td>\n",
       "    </tr>\n",
       "    <tr>\n",
       "      <td>2</td>\n",
       "      <td>17</td>\n",
       "      <td>7.589286</td>\n",
       "    </tr>\n",
       "    <tr>\n",
       "      <td>2021</td>\n",
       "      <td>1</td>\n",
       "      <td>716</td>\n",
       "      <td>100.000000</td>\n",
       "    </tr>\n",
       "    <tr>\n",
       "      <td>2022</td>\n",
       "      <td>1</td>\n",
       "      <td>2</td>\n",
       "      <td>100.000000</td>\n",
       "    </tr>\n",
       "  </tbody>\n",
       "</table>\n",
       "</div>"
      ],
      "text/plain": [
       "                             unique_user_count           %\n",
       "year_started n_years_minted                               \n",
       "2018         1                               4   14.814815\n",
       "             2                              18   66.666667\n",
       "             3                               3   11.111111\n",
       "             4                               2    7.407407\n",
       "2019         1                              49   76.562500\n",
       "             2                              14   21.875000\n",
       "             3                               1    1.562500\n",
       "2020         1                             207   92.410714\n",
       "             2                              17    7.589286\n",
       "2021         1                             716  100.000000\n",
       "2022         1                               2  100.000000"
      ]
     },
     "execution_count": 38,
     "metadata": {},
     "output_type": "execute_result"
    }
   ],
   "source": [
    "# count of users with X amount of years\n",
    "lominters = mints.groupby(['owner_id']).agg(n_years_minted=('event_year', 'nunique'), \n",
    "                                            year_started=('event_year', 'min')).reset_index()\n",
    "lominters_group = lominters.groupby(['year_started','n_years_minted']).agg(unique_user_count=('owner_id', 'nunique'))\n",
    "lominters_group['%'] = (lominters_group['unique_user_count'] / lominters_group.groupby(level=0).transform('sum')['unique_user_count']) * 100\n",
    "\n",
    "lominters_group"
   ]
  },
  {
   "cell_type": "markdown",
   "metadata": {},
   "source": [
    "**Comment**: We could say that the turnover rate here (% of people that just go to the event one time) seems to be increasing over time. This inherentely means that the retention rate is going lower.\n",
    "\n",
    "Limitations of this specific table: \n",
    "- As the number of attendes increase, we can have more one-time enthusiats that are only going due to crypto price action / curiosity.\n",
    "- A LOT of attendees might not redeem their POAPs at all or maybe redeem POAPs in different wallets, which might led to this number increasing.\n",
    "- As we get closer to recent years, the fewer chances \"newer\" people have to attend to new events (so with time retention might go up for recent years with time)"
   ]
  },
  {
   "cell_type": "markdown",
   "metadata": {},
   "source": [
    "### **What is the impact of ETH Denver attendance to other events?**"
   ]
  },
  {
   "cell_type": "code",
   "execution_count": 42,
   "metadata": {},
   "outputs": [],
   "source": [
    "lominters = lominters.rename(columns={'n_years_minted': 'EthDenver_n_years_minted', \n",
    "                                     'year_started': 'EthDenver_first_year'})\n",
    "\n",
    "poap = poap.merge(lominters, on='owner_id', how='left')\n",
    "\n",
    "difevs = poap.loc[(~poap.event_name.str.contains('ethdenver', case=False)) &\n",
    "                 (poap['EthDenver_n_years_minted'].notnull())].copy()\n",
    "\n",
    "# Normalizing ETH Denver POAPs once that it seems multiple POAP were emitted during each unique events\n",
    "ethdenver_normalizer = mints.loc[:, ['event_id', 'event_name', 'event_year']].drop_duplicates('event_id')\n",
    "ethdenver_normalizer['event_name_normalized'] = ethdenver_normalizer['event_year'].apply(lambda y: f\"ETHDenver_{y}\")\n",
    "\n",
    "poap = poap.merge(ethdenver_normalizer.loc[:, ['event_id','event_name_normalized']], on='event_id', how='left')\n",
    "poap.loc[poap.event_name_normalized.isnull(), 'event_name_normalized'] = poap.event_name"
   ]
  },
  {
   "cell_type": "markdown",
   "metadata": {},
   "source": [
    "#### How is average attendance from ETH Denver attendees compared to non-attendees?"
   ]
  },
  {
   "cell_type": "code",
   "execution_count": 71,
   "metadata": {},
   "outputs": [
    {
     "data": {
      "image/png": "[encoded data removed]",
      "text/plain": [
       "<Figure size 432x288 with 1 Axes>"
      ]
     },
     "metadata": {
      "needs_background": "light"
     },
     "output_type": "display_data"
    }
   ],
   "source": [
    "poap['is_ETH_Denver_attendee'] = 'no'\n",
    "poap.loc[poap['EthDenver_n_years_minted'].notnull(), 'is_ETH_Denver_attendee'] = 'yes'\n",
    "\n",
    "denvcomp = poap.groupby(['owner_id','is_ETH_Denver_attendee','event_year']).agg(n_events_attended=('event_name_normalized', 'nunique')).reset_index()\n",
    "denvcomp_group = denvcomp.groupby(['is_ETH_Denver_attendee', 'event_year']).agg(median_events_attended=('n_events_attended','median')).reset_index()\n",
    "\n",
    "sns.barplot(data=denvcomp_group, x='event_year', y='median_events_attended', hue='is_ETH_Denver_attendee')\n",
    "plt.show()"
   ]
  },
  {
   "cell_type": "code",
   "execution_count": 76,
   "metadata": {},
   "outputs": [
    {
     "data": {
      "image/png": "[encoded data removed]",
      "text/plain": [
       "<Figure size 432x288 with 1 Axes>"
      ]
     },
     "metadata": {
      "needs_background": "light"
     },
     "output_type": "display_data"
    }
   ],
   "source": [
    "poap['is_ETH_Denver_attendee'] = 'no'\n",
    "poap.loc[poap['EthDenver_n_years_minted'].notnull(), 'is_ETH_Denver_attendee'] = 'yes'\n",
    "\n",
    "denvcomp = poap.groupby(['owner_id','is_ETH_Denver_attendee','event_year']).agg(n_events_attended=('event_name_normalized', 'nunique')).reset_index()\n",
    "denvcomp_group = denvcomp.groupby(['is_ETH_Denver_attendee', 'event_year']).agg(avg_n_events_attended=('n_events_attended','mean')).reset_index()\n",
    "\n",
    "sns.barplot(data=denvcomp_group, x='event_year', y='avg_n_events_attended', hue='is_ETH_Denver_attendee')\n",
    "plt.show()"
   ]
  },
  {
   "cell_type": "markdown",
   "metadata": {},
   "source": [
    "**Comment**: as we can see from both graphs above, ETH Denver attendees seem to be more active in events (at list from the POAP minting aspect of it). Also from the difference between median (first graph) and mean (second), the number of events attended is highly skewed where few people participate in a lot of events, while a median person would attend 2-1 event a year."
   ]
  },
  {
   "cell_type": "markdown",
   "metadata": {},
   "source": [
    "#### What happens after first attendance to ETH Denver?"
   ]
  },
  {
   "cell_type": "code",
   "execution_count": 75,
   "metadata": {},
   "outputs": [
    {
     "data": {
      "text/plain": [
       "<seaborn.axisgrid.FacetGrid at 0x7f8ed1876c10>"
      ]
     },
     "execution_count": 75,
     "metadata": {},
     "output_type": "execute_result"
    },
    {
     "data": {
      "image/png": "[encoded data removed]",
      "text/plain": [
       "<Figure size 1080x360 with 3 Axes>"
      ]
     },
     "metadata": {
      "needs_background": "light"
     },
     "output_type": "display_data"
    }
   ],
   "source": [
    "fist_attendance_raw = difevs.groupby(['owner_id','EthDenver_first_year', 'event_year']).agg(\n",
    "                                                                                    n_unique_events=('event_name_normalized', 'nunique')).reset_index()\n",
    "\n",
    "first_attendance_group = fist_attendance_raw.groupby(['EthDenver_first_year', 'event_year']).agg(\n",
    "                                                                                    median_events_attended=('n_unique_events', 'median')).reset_index()\n",
    "\n",
    "\n",
    "fatg = first_attendance_group.loc[(first_attendance_group['EthDenver_first_year'].isin([2018, 2019, 2020]))].copy()\n",
    "\n",
    "sns.catplot(data=fatg, x='event_year', y='median_events_attended', col='EthDenver_first_year', kind='bar')\n"
   ]
  },
  {
   "cell_type": "markdown",
   "metadata": {},
   "source": [
    "**Comment**: It seems that 2021 was a boom in events attended for all types of ETH Denver recurrent attendes. It seems that after 2018, there is a postive trend for all groups that is stronger than ETH Denver itself. "
   ]
  },
  {
   "cell_type": "markdown",
   "metadata": {},
   "source": [
    "#### What are the most popular events that ETH Denver attendees also go to? "
   ]
  },
  {
   "cell_type": "code",
   "execution_count": 82,
   "metadata": {},
   "outputs": [
    {
     "data": {
      "text/html": [
       "<div>\n",
       "<style scoped>\n",
       "    .dataframe tbody tr th:only-of-type {\n",
       "        vertical-align: middle;\n",
       "    }\n",
       "\n",
       "    .dataframe tbody tr th {\n",
       "        vertical-align: top;\n",
       "    }\n",
       "\n",
       "    .dataframe thead th {\n",
       "        text-align: right;\n",
       "    }\n",
       "</style>\n",
       "<table border=\"1\" class=\"dataframe\">\n",
       "  <thead>\n",
       "    <tr style=\"text-align: right;\">\n",
       "      <th></th>\n",
       "      <th>event_year</th>\n",
       "      <th>event_name_normalized</th>\n",
       "      <th>attendee_count</th>\n",
       "    </tr>\n",
       "  </thead>\n",
       "  <tbody>\n",
       "    <tr>\n",
       "      <td>0</td>\n",
       "      <td>2015</td>\n",
       "      <td>DevCon1</td>\n",
       "      <td>5</td>\n",
       "    </tr>\n",
       "    <tr>\n",
       "      <td>1</td>\n",
       "      <td>2016</td>\n",
       "      <td>DevCon2</td>\n",
       "      <td>13</td>\n",
       "    </tr>\n",
       "    <tr>\n",
       "      <td>2</td>\n",
       "      <td>2016</td>\n",
       "      <td>Devcon2 by Piper Merriam</td>\n",
       "      <td>2</td>\n",
       "    </tr>\n",
       "    <tr>\n",
       "      <td>3</td>\n",
       "      <td>2017</td>\n",
       "      <td>DevCon3</td>\n",
       "      <td>26</td>\n",
       "    </tr>\n",
       "    <tr>\n",
       "      <td>6</td>\n",
       "      <td>2018</td>\n",
       "      <td>DevCon4</td>\n",
       "      <td>52</td>\n",
       "    </tr>\n",
       "    <tr>\n",
       "      <td>9</td>\n",
       "      <td>2018</td>\n",
       "      <td>ETHBerlin</td>\n",
       "      <td>32</td>\n",
       "    </tr>\n",
       "    <tr>\n",
       "      <td>7</td>\n",
       "      <td>2018</td>\n",
       "      <td>EDCON</td>\n",
       "      <td>23</td>\n",
       "    </tr>\n",
       "    <tr>\n",
       "      <td>13</td>\n",
       "      <td>2018</td>\n",
       "      <td>ETHSanFrancisco</td>\n",
       "      <td>23</td>\n",
       "    </tr>\n",
       "    <tr>\n",
       "      <td>14</td>\n",
       "      <td>2018</td>\n",
       "      <td>EthCC</td>\n",
       "      <td>23</td>\n",
       "    </tr>\n",
       "    <tr>\n",
       "      <td>35</td>\n",
       "      <td>2019</td>\n",
       "      <td>Devcon5</td>\n",
       "      <td>77</td>\n",
       "    </tr>\n",
       "    <tr>\n",
       "      <td>41</td>\n",
       "      <td>2019</td>\n",
       "      <td>ETHNewYork</td>\n",
       "      <td>55</td>\n",
       "    </tr>\n",
       "    <tr>\n",
       "      <td>46</td>\n",
       "      <td>2019</td>\n",
       "      <td>EthCC</td>\n",
       "      <td>37</td>\n",
       "    </tr>\n",
       "    <tr>\n",
       "      <td>22</td>\n",
       "      <td>2019</td>\n",
       "      <td>Berlin Blockchain week - 2019</td>\n",
       "      <td>35</td>\n",
       "    </tr>\n",
       "    <tr>\n",
       "      <td>38</td>\n",
       "      <td>2019</td>\n",
       "      <td>ETHBOSTON 2019</td>\n",
       "      <td>28</td>\n",
       "    </tr>\n",
       "    <tr>\n",
       "      <td>230</td>\n",
       "      <td>2020</td>\n",
       "      <td>Ethereum 2.0 Serenity Launch</td>\n",
       "      <td>53</td>\n",
       "    </tr>\n",
       "    <tr>\n",
       "      <td>223</td>\n",
       "      <td>2020</td>\n",
       "      <td>EthCC 3</td>\n",
       "      <td>34</td>\n",
       "    </tr>\n",
       "    <tr>\n",
       "      <td>280</td>\n",
       "      <td>2020</td>\n",
       "      <td>Hack Money hosted by ETHGlobal</td>\n",
       "      <td>26</td>\n",
       "    </tr>\n",
       "    <tr>\n",
       "      <td>314</td>\n",
       "      <td>2020</td>\n",
       "      <td>Medalla Testnet Launch Call</td>\n",
       "      <td>24</td>\n",
       "    </tr>\n",
       "    <tr>\n",
       "      <td>85</td>\n",
       "      <td>2020</td>\n",
       "      <td>Beacon Chain Genesis Depositor</td>\n",
       "      <td>23</td>\n",
       "    </tr>\n",
       "    <tr>\n",
       "      <td>6144</td>\n",
       "      <td>2021</td>\n",
       "      <td>The One Millionth POAP POAP</td>\n",
       "      <td>87</td>\n",
       "    </tr>\n",
       "    <tr>\n",
       "      <td>6073</td>\n",
       "      <td>2021</td>\n",
       "      <td>The Graph - Subgraph developer</td>\n",
       "      <td>69</td>\n",
       "    </tr>\n",
       "    <tr>\n",
       "      <td>827</td>\n",
       "      <td>2021</td>\n",
       "      <td>Arbitrum Launch</td>\n",
       "      <td>68</td>\n",
       "    </tr>\n",
       "    <tr>\n",
       "      <td>2930</td>\n",
       "      <td>2021</td>\n",
       "      <td>Ethereum London Network Upgrade</td>\n",
       "      <td>65</td>\n",
       "    </tr>\n",
       "    <tr>\n",
       "      <td>2905</td>\n",
       "      <td>2021</td>\n",
       "      <td>EthStaker Presents: London Network Upgrade Liv...</td>\n",
       "      <td>63</td>\n",
       "    </tr>\n",
       "    <tr>\n",
       "      <td>7445</td>\n",
       "      <td>2022</td>\n",
       "      <td>RDM41/Machi/CapetainTrippy 1st $APE Coin Spaces</td>\n",
       "      <td>31</td>\n",
       "    </tr>\n",
       "    <tr>\n",
       "      <td>7471</td>\n",
       "      <td>2022</td>\n",
       "      <td>Rhythmical NFT Club x Collexx Gallery Art Exhi...</td>\n",
       "      <td>31</td>\n",
       "    </tr>\n",
       "    <tr>\n",
       "      <td>7194</td>\n",
       "      <td>2022</td>\n",
       "      <td>First GM Botos of 2022</td>\n",
       "      <td>27</td>\n",
       "    </tr>\n",
       "    <tr>\n",
       "      <td>7209</td>\n",
       "      <td>2022</td>\n",
       "      <td>GM Botos 2021 Lookback</td>\n",
       "      <td>26</td>\n",
       "    </tr>\n",
       "    <tr>\n",
       "      <td>7335</td>\n",
       "      <td>2022</td>\n",
       "      <td>NFT Happy Bag Participant 2022 New Year</td>\n",
       "      <td>26</td>\n",
       "    </tr>\n",
       "  </tbody>\n",
       "</table>\n",
       "</div>"
      ],
      "text/plain": [
       "      event_year                              event_name_normalized  \\\n",
       "0           2015                                            DevCon1   \n",
       "1           2016                                            DevCon2   \n",
       "2           2016                           Devcon2 by Piper Merriam   \n",
       "3           2017                                            DevCon3   \n",
       "6           2018                                            DevCon4   \n",
       "9           2018                                          ETHBerlin   \n",
       "7           2018                                              EDCON   \n",
       "13          2018                                    ETHSanFrancisco   \n",
       "14          2018                                              EthCC   \n",
       "35          2019                                            Devcon5   \n",
       "41          2019                                         ETHNewYork   \n",
       "46          2019                                              EthCC   \n",
       "22          2019                      Berlin Blockchain week - 2019   \n",
       "38          2019                                     ETHBOSTON 2019   \n",
       "230         2020                       Ethereum 2.0 Serenity Launch   \n",
       "223         2020                                            EthCC 3   \n",
       "280         2020                     Hack Money hosted by ETHGlobal   \n",
       "314         2020                        Medalla Testnet Launch Call   \n",
       "85          2020                     Beacon Chain Genesis Depositor   \n",
       "6144        2021                        The One Millionth POAP POAP   \n",
       "6073        2021                     The Graph - Subgraph developer   \n",
       "827         2021                                    Arbitrum Launch   \n",
       "2930        2021                    Ethereum London Network Upgrade   \n",
       "2905        2021  EthStaker Presents: London Network Upgrade Liv...   \n",
       "7445        2022    RDM41/Machi/CapetainTrippy 1st $APE Coin Spaces   \n",
       "7471        2022  Rhythmical NFT Club x Collexx Gallery Art Exhi...   \n",
       "7194        2022                             First GM Botos of 2022   \n",
       "7209        2022                             GM Botos 2021 Lookback   \n",
       "7335        2022            NFT Happy Bag Participant 2022 New Year   \n",
       "\n",
       "      attendee_count  \n",
       "0                  5  \n",
       "1                 13  \n",
       "2                  2  \n",
       "3                 26  \n",
       "6                 52  \n",
       "9                 32  \n",
       "7                 23  \n",
       "13                23  \n",
       "14                23  \n",
       "35                77  \n",
       "41                55  \n",
       "46                37  \n",
       "22                35  \n",
       "38                28  \n",
       "230               53  \n",
       "223               34  \n",
       "280               26  \n",
       "314               24  \n",
       "85                23  \n",
       "6144              87  \n",
       "6073              69  \n",
       "827               68  \n",
       "2930              65  \n",
       "2905              63  \n",
       "7445              31  \n",
       "7471              31  \n",
       "7194              27  \n",
       "7209              26  \n",
       "7335              26  "
      ]
     },
     "execution_count": 82,
     "metadata": {},
     "output_type": "execute_result"
    }
   ],
   "source": [
    "nondenver = poap.loc[(~poap.event_name_normalized.str.contains('ethdenver', case=False))&\n",
    "                    (poap.is_ETH_Denver_attendee=='yes')].copy()\n",
    "\n",
    "nondenver_g = nondenver.groupby(['event_year', 'event_name_normalized']).agg(attendee_count=('owner_id', 'nunique')).reset_index()\n",
    "nondenver_g = nondenver_g.sort_values(['event_year','attendee_count'], ascending=[True, False])\n",
    "\n",
    "nondenver_g.groupby('event_year').head(5).sort_values(['event_year','attendee_count'], ascending=[True, False])"
   ]
  },
  {
   "cell_type": "markdown",
   "metadata": {},
   "source": [
    "## Merging POAP minters with SPORK holder data"
   ]
  },
  {
   "cell_type": "code",
   "execution_count": null,
   "metadata": {},
   "outputs": [],
   "source": [
    "# Check all ETH Denver POAP recipients\n",
    "\n",
    "\n",
    "# Cross reference POAP holders and SPORK holders\n",
    "## make analysis on how many of the the POAP issuers have token of the opposite - which parameters identify the most people?\n",
    "\n",
    "\n",
    "\n"
   ]
  },
  {
   "cell_type": "code",
   "execution_count": null,
   "metadata": {},
   "outputs": [],
   "source": [
    "# Isolate all possible ETH Denver participants and start looking at DAO cross reference like:\n",
    "## how many DAOs can the person be identified at (DAOHaus)\n",
    "## how many proposals or votes this people have? once you have proposals or votes this would add you as member of the DAO\n",
    "## explore the concept of stronger membership and weak membership attached to how much people participate \n",
    "## explore level of activity\n",
    "### how many votes\n",
    "### how many different DAOs\n",
    "### total number of interactions vs count of specific reactions: vote, proposals, etc\n",
    "### what is the SPORK holders share in the votes in snapshot - what is their wight on these things? vs only POAP vs general public\n"
   ]
  },
  {
   "cell_type": "code",
   "execution_count": null,
   "metadata": {},
   "outputs": [],
   "source": []
  },
  {
   "cell_type": "code",
   "execution_count": null,
   "metadata": {},
   "outputs": [],
   "source": []
  },
  {
   "cell_type": "code",
   "execution_count": null,
   "metadata": {},
   "outputs": [],
   "source": []
  },
  {
   "cell_type": "code",
   "execution_count": null,
   "metadata": {},
   "outputs": [],
   "source": []
  },
  {
   "cell_type": "code",
   "execution_count": null,
   "metadata": {},
   "outputs": [],
   "source": []
  },
  {
   "cell_type": "code",
   "execution_count": null,
   "metadata": {},
   "outputs": [],
   "source": []
  },
  {
   "cell_type": "code",
   "execution_count": null,
   "metadata": {},
   "outputs": [],
   "source": []
  },
  {
   "cell_type": "code",
   "execution_count": null,
   "metadata": {},
   "outputs": [],
   "source": []
  },
  {
   "cell_type": "code",
   "execution_count": null,
   "metadata": {},
   "outputs": [],
   "source": []
  },
  {
   "cell_type": "code",
   "execution_count": null,
   "metadata": {},
   "outputs": [],
   "source": []
  },
  {
   "cell_type": "code",
   "execution_count": null,
   "metadata": {},
   "outputs": [],
   "source": []
  }
 ],
 "metadata": {
  "interpreter": {
   "hash": "cc73f21a52ccb832bf677fe91f931c0e3bb70d63042d3db79193d87a6c9b6f0c"
  },
  "kernelspec": {
   "display_name": "Python 3",
   "language": "python",
   "name": "python3"
  },
  "language_info": {
   "codemirror_mode": {
    "name": "ipython",
    "version": 3
   },
   "file_extension": ".py",
   "mimetype": "text/x-python",
   "name": "python",
   "nbconvert_exporter": "python",
   "pygments_lexer": "ipython3",
   "version": "3.7.4"
  }
 },
 "nbformat": 4,
 "nbformat_minor": 4
}
