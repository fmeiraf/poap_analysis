{
 "cells": [
  {
   "cell_type": "code",
   "execution_count": 175,
   "metadata": {},
   "outputs": [],
   "source": [
    "import pandas as pd\n",
    "import matplotlib.pyplot as plt\n",
    "import seaborn as sns\n",
    "import numpy as np\n",
    "from scipy import stats\n",
    "import statistics\n",
    "\n",
    "import data_cleaning"
   ]
  },
  {
   "cell_type": "markdown",
   "metadata": {},
   "source": [
    "# Summary"
   ]
  },
  {
   "cell_type": "markdown",
   "metadata": {},
   "source": [
    "This is an analysis originated from a bounty from [DiamondDAO](https://docs.diamonddao.xyz/welcome/values) that aims to analyze the data coming form ETH Denver attendees and their pathway in crypto after the event.\n",
    "\n",
    "**Main objective:** \n",
    "- To determine the profile of inviduals attending the event.\n",
    "- To understand the impacts of the event in the ecosystem. "
   ]
  },
  {
   "cell_type": "markdown",
   "metadata": {},
   "source": [
    "# Data loading / cleaning"
   ]
  },
  {
   "cell_type": "markdown",
   "metadata": {},
   "source": [
    "## Loading.."
   ]
  },
  {
   "cell_type": "code",
   "execution_count": 176,
   "metadata": {},
   "outputs": [],
   "source": [
    "#POAP data\n",
    "poap = data_cleaning.get_cleaned_poap_data()\n",
    "\n",
    "#DAOHaus data\n",
    "dh_members, dh_proposals, dh_votes = data_cleaning.get_daohaus_cleaned_data()\n",
    "\n",
    "#Snapshot data\n",
    "snap_proposals, snap_votes, snap_creation = data_cleaning.get_snapshot_cleaned_data()\n",
    "\n",
    "#Token balance data\n",
    "spork, bufficorns = data_cleaning.get_token_holder_cleaned_data()"
   ]
  },
  {
   "cell_type": "markdown",
   "metadata": {},
   "source": [
    "## Making adjustments and merges.."
   ]
  },
  {
   "cell_type": "markdown",
   "metadata": {},
   "source": [
    "#### Creating identifier columns"
   ]
  },
  {
   "cell_type": "code",
   "execution_count": 177,
   "metadata": {},
   "outputs": [],
   "source": [
    "# ETH Denver check\n",
    "poap['is_ETHDenver_event'] = False\n",
    "poap.loc[(poap.event_name.str.contains('ethdenver', case=False)) \n",
    "         | (poap.event_name.str.contains('eth denver', case=False)), 'is_ETHDenver_event'] = True\n",
    "\n",
    "\n",
    "# Checking if it's an ethereum event (will not be 100% right here, but checking output I would assume this is good enough)\n",
    "poap['is_ethereum_related_event'] = False\n",
    "poap.loc[(poap.event_name.str.contains('eth',case=False)) |\n",
    "              (poap.event_name.str.contains('ethereum', case=False)), 'is_ethereum_related_event'] = True\n",
    "\n",
    "#marking all ETHDenver POAP holder\n",
    "eth_denver_poap_holders = poap.loc[poap.is_ETHDenver_event==True, 'owner_id_checksum'].unique()\n",
    "poap['has_ETH_Denver_POAP'] = False\n",
    "poap.loc[poap.owner_id_checksum.isin(eth_denver_poap_holders), 'has_ETH_Denver_POAP'] = True"
   ]
  },
  {
   "cell_type": "markdown",
   "metadata": {},
   "source": [
    "#### Merging SPORK holders data on POAP data"
   ]
  },
  {
   "cell_type": "code",
   "execution_count": 178,
   "metadata": {},
   "outputs": [
    {
     "data": {
      "text/html": [
       "<div>\n",
       "<style scoped>\n",
       "    .dataframe tbody tr th:only-of-type {\n",
       "        vertical-align: middle;\n",
       "    }\n",
       "\n",
       "    .dataframe tbody tr th {\n",
       "        vertical-align: top;\n",
       "    }\n",
       "\n",
       "    .dataframe thead th {\n",
       "        text-align: right;\n",
       "    }\n",
       "</style>\n",
       "<table border=\"1\" class=\"dataframe\">\n",
       "  <thead>\n",
       "    <tr style=\"text-align: right;\">\n",
       "      <th></th>\n",
       "      <th></th>\n",
       "      <th>attendee_count</th>\n",
       "      <th>%</th>\n",
       "    </tr>\n",
       "    <tr>\n",
       "      <th>has_ETH_Denver_POAP</th>\n",
       "      <th>is_spork_holder</th>\n",
       "      <th></th>\n",
       "      <th></th>\n",
       "    </tr>\n",
       "  </thead>\n",
       "  <tbody>\n",
       "    <tr>\n",
       "      <td rowspan=\"2\" valign=\"top\">False</td>\n",
       "      <td>False</td>\n",
       "      <td>682422</td>\n",
       "      <td>99.858353</td>\n",
       "    </tr>\n",
       "    <tr>\n",
       "      <td>True</td>\n",
       "      <td>968</td>\n",
       "      <td>0.141647</td>\n",
       "    </tr>\n",
       "    <tr>\n",
       "      <td rowspan=\"2\" valign=\"top\">True</td>\n",
       "      <td>False</td>\n",
       "      <td>746</td>\n",
       "      <td>71.730769</td>\n",
       "    </tr>\n",
       "    <tr>\n",
       "      <td>True</td>\n",
       "      <td>294</td>\n",
       "      <td>28.269231</td>\n",
       "    </tr>\n",
       "  </tbody>\n",
       "</table>\n",
       "</div>"
      ],
      "text/plain": [
       "                                     attendee_count          %\n",
       "has_ETH_Denver_POAP is_spork_holder                           \n",
       "False               False                    682422  99.858353\n",
       "                    True                        968   0.141647\n",
       "True                False                       746  71.730769\n",
       "                    True                        294  28.269231"
      ]
     },
     "execution_count": 178,
     "metadata": {},
     "output_type": "execute_result"
    }
   ],
   "source": [
    "spork = spork.rename(columns={'holder_address': 'spork_holder_address', \n",
    "                              'balance':'spork_balance', \n",
    "                              'normalized_balance': 'spork_normalized_balance'})\n",
    "\n",
    "poap = poap.merge(spork, left_on='owner_id_checksum', right_on='spork_holder_address', how='left')\n",
    "\n",
    "poap['is_spork_holder'] = False\n",
    "poap.loc[poap.spork_holder_address.notnull(), 'is_spork_holder'] = True\n",
    "\n",
    "sphold = poap.groupby(['has_ETH_Denver_POAP', 'is_spork_holder']).agg(attendee_count=('owner_id', 'nunique'))\n",
    "sphold['%'] = (sphold['attendee_count'] / sphold.groupby(level=0).transform('sum')['attendee_count']) * 100\n",
    "\n",
    "#marking ETH Denver attendees after adding SPORK data\n",
    "poap['is_ETH_Denver_participant'] = False\n",
    "poap.loc[(poap.has_ETH_Denver_POAP==True) | (poap.is_spork_holder==True), 'is_ETH_Denver_participant'] = True\n",
    "\n",
    "sphold"
   ]
  },
  {
   "cell_type": "markdown",
   "metadata": {},
   "source": [
    "**Comment**: There is a considerable amount of spork holder that do not have have ETH Denver POAP."
   ]
  },
  {
   "cell_type": "markdown",
   "metadata": {},
   "source": [
    "#### Creating new dataset to have all POAP holder, SPORK holders and Bufficorn minters"
   ]
  },
  {
   "cell_type": "code",
   "execution_count": 179,
   "metadata": {},
   "outputs": [],
   "source": [
    "ethd = poap.loc[poap.has_ETH_Denver_POAP==True, ['owner_id_checksum', 'has_ETH_Denver_POAP']].copy().drop_duplicates('owner_id_checksum')\n",
    "ethd = ethd.rename(columns={'owner_id_checksum': 'address'})\n",
    "\n",
    "spork_v2 = spork.rename(columns={'spork_holder_address': 'address'})\n",
    "bufficorns_v2 = bufficorns.rename(columns={'bufficorn_minter_address': 'address'})\n",
    "bufficorns_v2 = bufficorns_v2.drop_duplicates('address')\n",
    "\n",
    "ethd = ethd.merge(spork_v2, on='address', how='outer')\n",
    "ethd = ethd.merge(bufficorns_v2, on='address', how='outer')"
   ]
  },
  {
   "cell_type": "code",
   "execution_count": 180,
   "metadata": {},
   "outputs": [
    {
     "data": {
      "text/html": [
       "<div>\n",
       "<style scoped>\n",
       "    .dataframe tbody tr th:only-of-type {\n",
       "        vertical-align: middle;\n",
       "    }\n",
       "\n",
       "    .dataframe tbody tr th {\n",
       "        vertical-align: top;\n",
       "    }\n",
       "\n",
       "    .dataframe thead th {\n",
       "        text-align: right;\n",
       "    }\n",
       "</style>\n",
       "<table border=\"1\" class=\"dataframe\">\n",
       "  <thead>\n",
       "    <tr style=\"text-align: right;\">\n",
       "      <th></th>\n",
       "      <th>wallet_count</th>\n",
       "    </tr>\n",
       "    <tr>\n",
       "      <th>profile_type</th>\n",
       "      <th></th>\n",
       "    </tr>\n",
       "  </thead>\n",
       "  <tbody>\n",
       "    <tr>\n",
       "      <td>bufficorn_holder_only</td>\n",
       "      <td>797</td>\n",
       "    </tr>\n",
       "    <tr>\n",
       "      <td>poap_and_bufficorn_holder</td>\n",
       "      <td>15</td>\n",
       "    </tr>\n",
       "    <tr>\n",
       "      <td>poap_and_spork_holder</td>\n",
       "      <td>184</td>\n",
       "    </tr>\n",
       "    <tr>\n",
       "      <td>poap_holder_only</td>\n",
       "      <td>731</td>\n",
       "    </tr>\n",
       "    <tr>\n",
       "      <td>poap_spork_and_bufficorn_holder</td>\n",
       "      <td>110</td>\n",
       "    </tr>\n",
       "    <tr>\n",
       "      <td>spork_and_bufficorn_holder</td>\n",
       "      <td>627</td>\n",
       "    </tr>\n",
       "    <tr>\n",
       "      <td>spork_holder_only</td>\n",
       "      <td>1236</td>\n",
       "    </tr>\n",
       "  </tbody>\n",
       "</table>\n",
       "</div>"
      ],
      "text/plain": [
       "                                 wallet_count\n",
       "profile_type                                 \n",
       "bufficorn_holder_only                     797\n",
       "poap_and_bufficorn_holder                  15\n",
       "poap_and_spork_holder                     184\n",
       "poap_holder_only                          731\n",
       "poap_spork_and_bufficorn_holder           110\n",
       "spork_and_bufficorn_holder                627\n",
       "spork_holder_only                        1236"
      ]
     },
     "execution_count": 180,
     "metadata": {},
     "output_type": "execute_result"
    }
   ],
   "source": [
    "ethd['profile_type'] = ''\n",
    "\n",
    "ethd.loc[(ethd.has_ETH_Denver_POAP.notnull()) &\n",
    "        (ethd.spork_balance.isnull())\n",
    "         & (ethd.bufficorn_token_id.isnull()), 'profile_type'] = 'poap_holder_only'\n",
    "\n",
    "ethd.loc[(ethd.has_ETH_Denver_POAP.isnull()) &\n",
    "        (ethd.spork_balance.notnull())\n",
    "         & (ethd.bufficorn_token_id.isnull()), 'profile_type'] = 'spork_holder_only'\n",
    "\n",
    "ethd.loc[(ethd.has_ETH_Denver_POAP.isnull()) &\n",
    "        (ethd.spork_balance.isnull())\n",
    "         & (ethd.bufficorn_token_id.notnull()), 'profile_type'] = 'bufficorn_holder_only'\n",
    "\n",
    "ethd.loc[(ethd.has_ETH_Denver_POAP.notnull()) &\n",
    "        (ethd.spork_balance.notnull())\n",
    "         & (ethd.bufficorn_token_id.isnull()), 'profile_type'] = 'poap_and_spork_holder'\n",
    "\n",
    "ethd.loc[(ethd.has_ETH_Denver_POAP.notnull()) &\n",
    "        (ethd.spork_balance.isnull())\n",
    "         & (ethd.bufficorn_token_id.notnull()), 'profile_type'] = 'poap_and_bufficorn_holder'\n",
    "\n",
    "ethd.loc[(ethd.has_ETH_Denver_POAP.isnull()) &\n",
    "        (ethd.spork_balance.notnull())\n",
    "         & (ethd.bufficorn_token_id.notnull()), 'profile_type'] = 'spork_and_bufficorn_holder'\n",
    "\n",
    "ethd.loc[(ethd.has_ETH_Denver_POAP.notnull()) &\n",
    "        (ethd.spork_balance.notnull())\n",
    "         & (ethd.bufficorn_token_id.notnull()), 'profile_type'] = 'poap_spork_and_bufficorn_holder'\n",
    "\n",
    "ethd.groupby('profile_type').agg(wallet_count=('address', 'nunique'))"
   ]
  },
  {
   "cell_type": "markdown",
   "metadata": {},
   "source": [
    "#### Support functions"
   ]
  },
  {
   "cell_type": "code",
   "execution_count": 181,
   "metadata": {},
   "outputs": [],
   "source": [
    "def calculate_multisample_t_test( treatment_values:pd.Series, control_values: pd.Series, n_runs:int=1000, alpha:int=5):\n",
    "    '''\n",
    "    Run n t-tests for a big to_split_dataset\n",
    "    \n",
    "    returns: list with all means calculated, list of all p-values calculated\n",
    "    '''\n",
    "    all_p_values = []\n",
    "    all_means = []\n",
    "    for r in range(1,n_runs):\n",
    "        sample = np.random.choice(treatment_values, len(control_values))\n",
    "        mean = sample.sum() / len(sample)    \n",
    "\n",
    "        test, p_value = stats.ttest_ind(control_values, sample, equal_var = False)\n",
    "\n",
    "        all_p_values.append(p_value)\n",
    "        all_means.append(mean)\n",
    "    \n",
    "    p_values_ok = [p_value for p_value in all_p_values if p_value <= alpha]\n",
    "    perc_below_alpha = (len(p_values_ok)/len(all_p_values)) * 100\n",
    "    final_mean = statistics.mean(all_means)\n",
    "    \n",
    "    return perc_below_alpha, final_mean"
   ]
  },
  {
   "cell_type": "markdown",
   "metadata": {},
   "source": [
    "# Analysis"
   ]
  },
  {
   "cell_type": "markdown",
   "metadata": {},
   "source": [
    "## - ETH Denver POAP profile"
   ]
  },
  {
   "cell_type": "markdown",
   "metadata": {},
   "source": [
    "### Evolution of unique wallets and mints"
   ]
  },
  {
   "cell_type": "code",
   "execution_count": 182,
   "metadata": {},
   "outputs": [
    {
     "name": "stdout",
     "output_type": "stream",
     "text": [
      "##### Table #### \n",
      "\n",
      "   event_year  n_unique_wallets  total_tokens_minted\n",
      "0        2018                27                   27\n",
      "1        2019                84                   87\n",
      "2        2020               243                  274\n",
      "3        2021               740                 5066\n",
      "4        2022                 9                    9\n",
      "\n",
      "\n",
      "################ \n",
      "\n",
      "\n",
      "Number of unique minter addresses per year & total numbers of tokens minted (for ALL ETH Denver related POAPs)\n"
     ]
    },
    {
     "data": {
      "image/png": "[encoded data removed]",
      "text/plain": [
       "<Figure size 720x360 with 2 Axes>"
      ]
     },
     "metadata": {
      "needs_background": "light"
     },
     "output_type": "display_data"
    }
   ],
   "source": [
    "mints = poap.loc[(poap.has_ETH_Denver_POAP==True) & (poap.is_ETHDenver_event==True)]\n",
    "\n",
    "mints_year = mints.groupby('event_year').agg(n_unique_wallets=('owner_id', 'nunique'), \n",
    "                                             total_tokens_minted=('token_id', 'nunique')).reset_index()\n",
    "\n",
    "mints_melt = pd.melt(mints_year, id_vars=['event_year'], value_vars=['n_unique_wallets', 'total_tokens_minted'], \n",
    "                                                         var_name='metric', value_name='count')\n",
    "\n",
    "print('##### Table #### \\n')\n",
    "print(mints_year)\n",
    "print('\\n')\n",
    "print('################ \\n\\n')\n",
    "\n",
    "print('Number of unique minter addresses per year & total numbers of tokens minted (for ALL ETH Denver related POAPs)')\n",
    "sns.catplot(data=mints_melt, x='event_year', y='count', col='metric', kind='bar', sharey=False)\n",
    "\n",
    "plt.show()"
   ]
  },
  {
   "cell_type": "markdown",
   "metadata": {},
   "source": [
    "**Comment**: The numbers of unique minter addresses in consistently increasing, and it seems 2021 was a huge leap. This is also reflected in the total amount of tokens minted, where this effect in even drastic."
   ]
  },
  {
   "cell_type": "markdown",
   "metadata": {},
   "source": [
    "### Rentention (by the lens of POAP minting)"
   ]
  },
  {
   "cell_type": "code",
   "execution_count": 183,
   "metadata": {},
   "outputs": [
    {
     "data": {
      "text/html": [
       "<div>\n",
       "<style scoped>\n",
       "    .dataframe tbody tr th:only-of-type {\n",
       "        vertical-align: middle;\n",
       "    }\n",
       "\n",
       "    .dataframe tbody tr th {\n",
       "        vertical-align: top;\n",
       "    }\n",
       "\n",
       "    .dataframe thead th {\n",
       "        text-align: right;\n",
       "    }\n",
       "</style>\n",
       "<table border=\"1\" class=\"dataframe\">\n",
       "  <thead>\n",
       "    <tr style=\"text-align: right;\">\n",
       "      <th></th>\n",
       "      <th>unique_wallet_count</th>\n",
       "      <th>%</th>\n",
       "    </tr>\n",
       "    <tr>\n",
       "      <th>n_years_minted</th>\n",
       "      <th></th>\n",
       "      <th></th>\n",
       "    </tr>\n",
       "  </thead>\n",
       "  <tbody>\n",
       "    <tr>\n",
       "      <td>1</td>\n",
       "      <td>985</td>\n",
       "      <td>94.711538</td>\n",
       "    </tr>\n",
       "    <tr>\n",
       "      <td>2</td>\n",
       "      <td>49</td>\n",
       "      <td>4.711538</td>\n",
       "    </tr>\n",
       "    <tr>\n",
       "      <td>3</td>\n",
       "      <td>4</td>\n",
       "      <td>0.384615</td>\n",
       "    </tr>\n",
       "    <tr>\n",
       "      <td>4</td>\n",
       "      <td>2</td>\n",
       "      <td>0.192308</td>\n",
       "    </tr>\n",
       "  </tbody>\n",
       "</table>\n",
       "</div>"
      ],
      "text/plain": [
       "                unique_wallet_count          %\n",
       "n_years_minted                                \n",
       "1                               985  94.711538\n",
       "2                                49   4.711538\n",
       "3                                 4   0.384615\n",
       "4                                 2   0.192308"
      ]
     },
     "execution_count": 183,
     "metadata": {},
     "output_type": "execute_result"
    }
   ],
   "source": [
    "# count of users with X amount of years\n",
    "lominters = mints.groupby('owner_id').agg(n_years_minted=('event_year', 'nunique')).reset_index()\n",
    "lominters_group = lominters.groupby('n_years_minted').agg(unique_wallet_count=('owner_id', 'nunique'))\n",
    "lominters_group['%'] = (lominters_group['unique_wallet_count'] / lominters_group['unique_wallet_count'].sum()) * 100\n",
    "\n",
    "lominters_group"
   ]
  },
  {
   "cell_type": "markdown",
   "metadata": {},
   "source": [
    "**Comment:** Kind of makes sense once most people started gong on 2021. What about this % but considering when people started? "
   ]
  },
  {
   "cell_type": "code",
   "execution_count": 184,
   "metadata": {},
   "outputs": [
    {
     "data": {
      "text/plain": [
       "<matplotlib.axes._subplots.AxesSubplot at 0x7feffadbae90>"
      ]
     },
     "execution_count": 184,
     "metadata": {},
     "output_type": "execute_result"
    },
    {
     "data": {
      "image/png": "[encoded data removed]",
      "text/plain": [
       "<Figure size 432x288 with 1 Axes>"
      ]
     },
     "metadata": {
      "needs_background": "light"
     },
     "output_type": "display_data"
    }
   ],
   "source": [
    "# count of users with X amount of years\n",
    "lominters = mints.groupby(['owner_id']).agg(n_years_minted=('event_year', 'nunique'), \n",
    "                                            year_started=('event_year', 'min')).reset_index()\n",
    "lominters['attendee_frequence'] = np.where(lominters['n_years_minted']>1, 'multiple_times', 'one_time')\n",
    "lominters_group = lominters.groupby(['year_started','attendee_frequence']).agg(unique_wallet_count=('owner_id', 'nunique'))\n",
    "lominters_group['%'] = (lominters_group['unique_wallet_count'] / lominters_group.groupby(level=0).transform('sum')['unique_wallet_count']) * 100\n",
    "\n",
    "sns.barplot(data=lominters_group.reset_index(), x='year_started', y='%', hue='attendee_frequence')\n"
   ]
  },
  {
   "cell_type": "markdown",
   "metadata": {},
   "source": [
    "**Comment**: We could say that the turnover rate here (% of people that just go to the event one time) seems to be increasing over time. This could be very much related to the increasing number of people coming to these events as the years pass by. Because there are relativelt few years of event yet, it remaisn to be seen how the newer cohorts of entrants will stick to the event. \n",
    "\n",
    "Limitations of this specific table: \n",
    "- As the number of attendes increase, we can have more one-time enthusiats that are only going due to crypto price action / curiosity.\n",
    "- A LOT of attendees might not redeem their POAPs at all or maybe redeem POAPs in different wallets, which might led to this number increasing.\n",
    "- As we get closer to recent years, the fewer chances \"newer\" people have to attend to new events (so with time retention might go up for recent years with time)"
   ]
  },
  {
   "cell_type": "markdown",
   "metadata": {},
   "source": [
    "## - Event participation profile (ETH Denver attendees)"
   ]
  },
  {
   "cell_type": "code",
   "execution_count": 185,
   "metadata": {},
   "outputs": [],
   "source": [
    "# here I am using POAP minting + spork token holding to mark people as ETH Denver participant\n",
    "etha = poap.loc[(poap.is_ETH_Denver_participant==True) & (poap.is_ETHDenver_event==False)].copy()"
   ]
  },
  {
   "cell_type": "markdown",
   "metadata": {},
   "source": [
    "### Aside from ETH Denver, what other types of events are these people going?"
   ]
  },
  {
   "cell_type": "markdown",
   "metadata": {},
   "source": [
    "#### - Virtual vs IRL"
   ]
  },
  {
   "cell_type": "code",
   "execution_count": 186,
   "metadata": {},
   "outputs": [
    {
     "data": {
      "text/html": [
       "<div>\n",
       "<style scoped>\n",
       "    .dataframe tbody tr th:only-of-type {\n",
       "        vertical-align: middle;\n",
       "    }\n",
       "\n",
       "    .dataframe tbody tr th {\n",
       "        vertical-align: top;\n",
       "    }\n",
       "\n",
       "    .dataframe thead th {\n",
       "        text-align: right;\n",
       "    }\n",
       "</style>\n",
       "<table border=\"1\" class=\"dataframe\">\n",
       "  <thead>\n",
       "    <tr style=\"text-align: right;\">\n",
       "      <th></th>\n",
       "      <th>number_of_events</th>\n",
       "      <th>%</th>\n",
       "    </tr>\n",
       "    <tr>\n",
       "      <th>virtual_event</th>\n",
       "      <th></th>\n",
       "      <th></th>\n",
       "    </tr>\n",
       "  </thead>\n",
       "  <tbody>\n",
       "    <tr>\n",
       "      <td>False</td>\n",
       "      <td>1859</td>\n",
       "      <td>20.810478</td>\n",
       "    </tr>\n",
       "    <tr>\n",
       "      <td>True</td>\n",
       "      <td>7074</td>\n",
       "      <td>79.189522</td>\n",
       "    </tr>\n",
       "  </tbody>\n",
       "</table>\n",
       "</div>"
      ],
      "text/plain": [
       "               number_of_events          %\n",
       "virtual_event                             \n",
       "False                      1859  20.810478\n",
       "True                       7074  79.189522"
      ]
     },
     "execution_count": 186,
     "metadata": {},
     "output_type": "execute_result"
    }
   ],
   "source": [
    "virl = etha.groupby('virtual_event').agg(number_of_events=('event_name', 'nunique'))\n",
    "virl['%'] = (virl['number_of_events'] / virl['number_of_events'].sum()) * 100\n",
    "virl"
   ]
  },
  {
   "cell_type": "markdown",
   "metadata": {},
   "source": [
    "**Comment**:Most of the events attended by this people are online."
   ]
  },
  {
   "cell_type": "markdown",
   "metadata": {},
   "source": [
    "#### - Ethereum vs Non Ethereum events"
   ]
  },
  {
   "cell_type": "code",
   "execution_count": 187,
   "metadata": {},
   "outputs": [
    {
     "data": {
      "text/html": [
       "<div>\n",
       "<style scoped>\n",
       "    .dataframe tbody tr th:only-of-type {\n",
       "        vertical-align: middle;\n",
       "    }\n",
       "\n",
       "    .dataframe tbody tr th {\n",
       "        vertical-align: top;\n",
       "    }\n",
       "\n",
       "    .dataframe thead th {\n",
       "        text-align: right;\n",
       "    }\n",
       "</style>\n",
       "<table border=\"1\" class=\"dataframe\">\n",
       "  <thead>\n",
       "    <tr style=\"text-align: right;\">\n",
       "      <th></th>\n",
       "      <th>number_of_events</th>\n",
       "      <th>%</th>\n",
       "    </tr>\n",
       "    <tr>\n",
       "      <th>is_ethereum_related_event</th>\n",
       "      <th></th>\n",
       "      <th></th>\n",
       "    </tr>\n",
       "  </thead>\n",
       "  <tbody>\n",
       "    <tr>\n",
       "      <td>False</td>\n",
       "      <td>8385</td>\n",
       "      <td>93.875952</td>\n",
       "    </tr>\n",
       "    <tr>\n",
       "      <td>True</td>\n",
       "      <td>547</td>\n",
       "      <td>6.124048</td>\n",
       "    </tr>\n",
       "  </tbody>\n",
       "</table>\n",
       "</div>"
      ],
      "text/plain": [
       "                           number_of_events          %\n",
       "is_ethereum_related_event                             \n",
       "False                                  8385  93.875952\n",
       "True                                    547   6.124048"
      ]
     },
     "execution_count": 187,
     "metadata": {},
     "output_type": "execute_result"
    }
   ],
   "source": [
    "virl = etha.groupby('is_ethereum_related_event').agg(number_of_events=('event_name', 'nunique'))\n",
    "virl['%'] = (virl['number_of_events'] / virl['number_of_events'].sum()) * 100\n",
    "virl"
   ]
  },
  {
   "cell_type": "markdown",
   "metadata": {},
   "source": [
    "**Comment**: A lot of these events are not ethereum related too (although is hard to assess just from the name of the event so.. might be far from accurate here)"
   ]
  },
  {
   "cell_type": "markdown",
   "metadata": {},
   "source": [
    "#### - Event country"
   ]
  },
  {
   "cell_type": "code",
   "execution_count": 188,
   "metadata": {},
   "outputs": [
    {
     "data": {
      "text/html": [
       "<div>\n",
       "<style scoped>\n",
       "    .dataframe tbody tr th:only-of-type {\n",
       "        vertical-align: middle;\n",
       "    }\n",
       "\n",
       "    .dataframe tbody tr th {\n",
       "        vertical-align: top;\n",
       "    }\n",
       "\n",
       "    .dataframe thead th {\n",
       "        text-align: right;\n",
       "    }\n",
       "</style>\n",
       "<table border=\"1\" class=\"dataframe\">\n",
       "  <thead>\n",
       "    <tr style=\"text-align: right;\">\n",
       "      <th></th>\n",
       "      <th>number_of_events</th>\n",
       "      <th>%</th>\n",
       "    </tr>\n",
       "    <tr>\n",
       "      <th>event_country</th>\n",
       "      <th></th>\n",
       "      <th></th>\n",
       "    </tr>\n",
       "  </thead>\n",
       "  <tbody>\n",
       "    <tr>\n",
       "      <td></td>\n",
       "      <td>6680</td>\n",
       "      <td>74.787282</td>\n",
       "    </tr>\n",
       "    <tr>\n",
       "      <td>United States</td>\n",
       "      <td>472</td>\n",
       "      <td>5.284371</td>\n",
       "    </tr>\n",
       "    <tr>\n",
       "      <td>Decentraland</td>\n",
       "      <td>306</td>\n",
       "      <td>3.425884</td>\n",
       "    </tr>\n",
       "    <tr>\n",
       "      <td>USA</td>\n",
       "      <td>178</td>\n",
       "      <td>1.992835</td>\n",
       "    </tr>\n",
       "    <tr>\n",
       "      <td>Argentina</td>\n",
       "      <td>126</td>\n",
       "      <td>1.410658</td>\n",
       "    </tr>\n",
       "    <tr>\n",
       "      <td>Decentraland [27 | -118]</td>\n",
       "      <td>71</td>\n",
       "      <td>0.794895</td>\n",
       "    </tr>\n",
       "    <tr>\n",
       "      <td>AMA Stage</td>\n",
       "      <td>69</td>\n",
       "      <td>0.772503</td>\n",
       "    </tr>\n",
       "    <tr>\n",
       "      <td>United Kingdom</td>\n",
       "      <td>68</td>\n",
       "      <td>0.761308</td>\n",
       "    </tr>\n",
       "    <tr>\n",
       "      <td>Metaverse</td>\n",
       "      <td>63</td>\n",
       "      <td>0.705329</td>\n",
       "    </tr>\n",
       "    <tr>\n",
       "      <td>France</td>\n",
       "      <td>60</td>\n",
       "      <td>0.671742</td>\n",
       "    </tr>\n",
       "  </tbody>\n",
       "</table>\n",
       "</div>"
      ],
      "text/plain": [
       "                          number_of_events          %\n",
       "event_country                                        \n",
       "                                      6680  74.787282\n",
       "United States                          472   5.284371\n",
       "Decentraland                           306   3.425884\n",
       "USA                                    178   1.992835\n",
       "Argentina                              126   1.410658\n",
       "Decentraland [27 | -118]                71   0.794895\n",
       "AMA Stage                               69   0.772503\n",
       "United Kingdom                          68   0.761308\n",
       "Metaverse                               63   0.705329\n",
       "France                                  60   0.671742"
      ]
     },
     "execution_count": 188,
     "metadata": {},
     "output_type": "execute_result"
    }
   ],
   "source": [
    "virl = etha.groupby('event_country').agg(number_of_events=('event_name', 'nunique'))\n",
    "virl['%'] = (virl['number_of_events'] / virl['number_of_events'].sum()) * 100\n",
    "virl.sort_values('%', ascending=False).head(10)"
   ]
  },
  {
   "cell_type": "markdown",
   "metadata": {},
   "source": [
    "**Comment**: Hard to assess too once the names of the countries don't have a standard and also big part of the entries don't have this field filled. "
   ]
  },
  {
   "cell_type": "markdown",
   "metadata": {},
   "source": [
    "#### - Most popular events among participants"
   ]
  },
  {
   "cell_type": "code",
   "execution_count": 189,
   "metadata": {},
   "outputs": [
    {
     "data": {
      "text/html": [
       "<div>\n",
       "<style scoped>\n",
       "    .dataframe tbody tr th:only-of-type {\n",
       "        vertical-align: middle;\n",
       "    }\n",
       "\n",
       "    .dataframe tbody tr th {\n",
       "        vertical-align: top;\n",
       "    }\n",
       "\n",
       "    .dataframe thead th {\n",
       "        text-align: right;\n",
       "    }\n",
       "</style>\n",
       "<table border=\"1\" class=\"dataframe\">\n",
       "  <thead>\n",
       "    <tr style=\"text-align: right;\">\n",
       "      <th></th>\n",
       "      <th></th>\n",
       "      <th>attendee_count</th>\n",
       "      <th>%_total_participants</th>\n",
       "    </tr>\n",
       "    <tr>\n",
       "      <th>event_name</th>\n",
       "      <th>is_ethereum_related_event</th>\n",
       "      <th></th>\n",
       "      <th></th>\n",
       "    </tr>\n",
       "  </thead>\n",
       "  <tbody>\n",
       "    <tr>\n",
       "      <td>The One Millionth POAP POAP</td>\n",
       "      <td>False</td>\n",
       "      <td>180</td>\n",
       "      <td>0.089641</td>\n",
       "    </tr>\n",
       "    <tr>\n",
       "      <td>The Graph - Subgraph developer</td>\n",
       "      <td>False</td>\n",
       "      <td>177</td>\n",
       "      <td>0.088147</td>\n",
       "    </tr>\n",
       "    <tr>\n",
       "      <td>Bankless Member - 2021</td>\n",
       "      <td>False</td>\n",
       "      <td>160</td>\n",
       "      <td>0.079681</td>\n",
       "    </tr>\n",
       "    <tr>\n",
       "      <td>Ethereum London Network Upgrade</td>\n",
       "      <td>True</td>\n",
       "      <td>128</td>\n",
       "      <td>0.063745</td>\n",
       "    </tr>\n",
       "    <tr>\n",
       "      <td>Arbitrum Launch</td>\n",
       "      <td>False</td>\n",
       "      <td>116</td>\n",
       "      <td>0.057769</td>\n",
       "    </tr>\n",
       "    <tr>\n",
       "      <td>EthStaker Presents: London Network Upgrade Livestream Party</td>\n",
       "      <td>True</td>\n",
       "      <td>115</td>\n",
       "      <td>0.057271</td>\n",
       "    </tr>\n",
       "    <tr>\n",
       "      <td>Devcon5</td>\n",
       "      <td>False</td>\n",
       "      <td>100</td>\n",
       "      <td>0.049801</td>\n",
       "    </tr>\n",
       "    <tr>\n",
       "      <td>ConstitutionDAO Contributor</td>\n",
       "      <td>False</td>\n",
       "      <td>98</td>\n",
       "      <td>0.048805</td>\n",
       "    </tr>\n",
       "    <tr>\n",
       "      <td>Early Issuers</td>\n",
       "      <td>False</td>\n",
       "      <td>91</td>\n",
       "      <td>0.045319</td>\n",
       "    </tr>\n",
       "    <tr>\n",
       "      <td>Ethereum 2.0 Serenity Launch</td>\n",
       "      <td>True</td>\n",
       "      <td>84</td>\n",
       "      <td>0.041833</td>\n",
       "    </tr>\n",
       "  </tbody>\n",
       "</table>\n",
       "</div>"
      ],
      "text/plain": [
       "                                                                              attendee_count  \\\n",
       "event_name                                         is_ethereum_related_event                   \n",
       "The One Millionth POAP POAP                        False                                 180   \n",
       "The Graph - Subgraph developer                     False                                 177   \n",
       "Bankless Member - 2021                             False                                 160   \n",
       "Ethereum London Network Upgrade                    True                                  128   \n",
       "Arbitrum Launch                                    False                                 116   \n",
       "EthStaker Presents: London Network Upgrade Live... True                                  115   \n",
       "Devcon5                                            False                                 100   \n",
       "ConstitutionDAO Contributor                        False                                  98   \n",
       "Early Issuers                                      False                                  91   \n",
       "Ethereum 2.0 Serenity Launch                       True                                   84   \n",
       "\n",
       "                                                                              %_total_participants  \n",
       "event_name                                         is_ethereum_related_event                        \n",
       "The One Millionth POAP POAP                        False                                  0.089641  \n",
       "The Graph - Subgraph developer                     False                                  0.088147  \n",
       "Bankless Member - 2021                             False                                  0.079681  \n",
       "Ethereum London Network Upgrade                    True                                   0.063745  \n",
       "Arbitrum Launch                                    False                                  0.057769  \n",
       "EthStaker Presents: London Network Upgrade Live... True                                   0.057271  \n",
       "Devcon5                                            False                                  0.049801  \n",
       "ConstitutionDAO Contributor                        False                                  0.048805  \n",
       "Early Issuers                                      False                                  0.045319  \n",
       "Ethereum 2.0 Serenity Launch                       True                                   0.041833  "
      ]
     },
     "execution_count": 189,
     "metadata": {},
     "output_type": "execute_result"
    }
   ],
   "source": [
    "#filtering out ETH Denver\n",
    "evrank = etha.groupby(['event_name', 'is_ethereum_related_event'])\\\n",
    "                .agg(attendee_count=('owner_id', 'nunique'))\\\n",
    "                .sort_values('attendee_count', ascending=False)\n",
    "evrank['%_total_participants'] = (evrank['attendee_count'] / len(poap.loc[poap.is_ETH_Denver_participant==True, 'owner_id'].unique()))\n",
    "\n",
    "evrank.head(10)"
   ]
  },
  {
   "cell_type": "markdown",
   "metadata": {},
   "source": [
    "**Comment**: It seems from the names that the most popuplar events are either builder-type events or ethereum related."
   ]
  },
  {
   "cell_type": "markdown",
   "metadata": {},
   "source": [
    "### Does a ETH Denver partipant attend to more events than a non participant does? "
   ]
  },
  {
   "cell_type": "code",
   "execution_count": 190,
   "metadata": {},
   "outputs": [
    {
     "data": {
      "text/html": [
       "<div>\n",
       "<style scoped>\n",
       "    .dataframe tbody tr th:only-of-type {\n",
       "        vertical-align: middle;\n",
       "    }\n",
       "\n",
       "    .dataframe tbody tr th {\n",
       "        vertical-align: top;\n",
       "    }\n",
       "\n",
       "    .dataframe thead th {\n",
       "        text-align: right;\n",
       "    }\n",
       "</style>\n",
       "<table border=\"1\" class=\"dataframe\">\n",
       "  <thead>\n",
       "    <tr style=\"text-align: right;\">\n",
       "      <th></th>\n",
       "      <th>is_ETH_Denver_participant</th>\n",
       "      <th>avg_number_events_attended</th>\n",
       "    </tr>\n",
       "  </thead>\n",
       "  <tbody>\n",
       "    <tr>\n",
       "      <td>0</td>\n",
       "      <td>False</td>\n",
       "      <td>5.251601</td>\n",
       "    </tr>\n",
       "    <tr>\n",
       "      <td>1</td>\n",
       "      <td>True</td>\n",
       "      <td>36.368526</td>\n",
       "    </tr>\n",
       "  </tbody>\n",
       "</table>\n",
       "</div>"
      ],
      "text/plain": [
       "   is_ETH_Denver_participant  avg_number_events_attended\n",
       "0                      False                    5.251601\n",
       "1                       True                   36.368526"
      ]
     },
     "execution_count": 190,
     "metadata": {},
     "output_type": "execute_result"
    }
   ],
   "source": [
    "evcs = poap.groupby(['owner_id', 'is_ETH_Denver_participant']).agg(event_count=('event_name', 'nunique')).reset_index()\n",
    "avgs = evcs.groupby('is_ETH_Denver_participant').agg(avg_number_events_attended=('event_count', 'mean')).reset_index()\n",
    "\n",
    "avgs"
   ]
  },
  {
   "cell_type": "code",
   "execution_count": 191,
   "metadata": {},
   "outputs": [
    {
     "name": "stdout",
     "output_type": "stream",
     "text": [
      "The average number of events attended by an ETH Denver participants is 6.925227x higher than non-participants. \n",
      "T-test has good confidence with a p-value of: 1.509988353079819e-11\n"
     ]
    }
   ],
   "source": [
    "participants_count = evcs.loc[evcs.is_ETH_Denver_participant==True, 'event_count']\n",
    "non_participants_count = evcs.loc[evcs.is_ETH_Denver_participant==False, 'event_count']\n",
    "\n",
    "t_test, p_value = stats.ttest_ind(participants_count, non_participants_count, equal_var=False)\n",
    "\n",
    "attendee_avg = avgs.loc[avgs.is_ETH_Denver_participant==True, 'avg_number_events_attended'].values[0]\n",
    "non_attendee_avg = avgs.loc[avgs.is_ETH_Denver_participant==False, 'avg_number_events_attended'].values[0]\n",
    "avg_diff = attendee_avg / non_attendee_avg\n",
    "\n",
    "print(f\"The average number of events attended by an ETH Denver participants is {avg_diff:2f}x higher than non-participants. \")\n",
    "print(f\"T-test has good confidence with a p-value of: {p_value}\")"
   ]
  },
  {
   "cell_type": "markdown",
   "metadata": {},
   "source": [
    "### After attending to their first ETH Denver, do participants participate in more events? "
   ]
  },
  {
   "cell_type": "code",
   "execution_count": 192,
   "metadata": {},
   "outputs": [
    {
     "data": {
      "text/html": [
       "<div>\n",
       "<style scoped>\n",
       "    .dataframe tbody tr th:only-of-type {\n",
       "        vertical-align: middle;\n",
       "    }\n",
       "\n",
       "    .dataframe tbody tr th {\n",
       "        vertical-align: top;\n",
       "    }\n",
       "\n",
       "    .dataframe thead th {\n",
       "        text-align: right;\n",
       "    }\n",
       "</style>\n",
       "<table border=\"1\" class=\"dataframe\">\n",
       "  <thead>\n",
       "    <tr style=\"text-align: right;\">\n",
       "      <th></th>\n",
       "      <th>event_after_first_attendance_ethdenver</th>\n",
       "      <th>avg_events_attended</th>\n",
       "    </tr>\n",
       "  </thead>\n",
       "  <tbody>\n",
       "    <tr>\n",
       "      <td>0</td>\n",
       "      <td>False</td>\n",
       "      <td>32.140461</td>\n",
       "    </tr>\n",
       "    <tr>\n",
       "      <td>1</td>\n",
       "      <td>True</td>\n",
       "      <td>38.911712</td>\n",
       "    </tr>\n",
       "  </tbody>\n",
       "</table>\n",
       "</div>"
      ],
      "text/plain": [
       "   event_after_first_attendance_ethdenver  avg_events_attended\n",
       "0                                   False            32.140461\n",
       "1                                    True            38.911712"
      ]
     },
     "execution_count": 192,
     "metadata": {},
     "output_type": "execute_result"
    }
   ],
   "source": [
    "first_ethd = poap.loc[poap.is_ETHDenver_event==True].groupby('owner_id').agg(first_attendance_date=('event_start_date', 'min')).reset_index()\n",
    "etha = etha.merge(first_ethd, on='owner_id', how='left')\n",
    "\n",
    "etha['event_after_first_attendance_ethdenver'] = np.where(etha.event_start_date>etha.first_attendance_date, True, False)\n",
    "edev = etha.groupby(['owner_id', 'event_after_first_attendance_ethdenver']).agg(event_count=('event_name', 'nunique')).reset_index()\n",
    "\n",
    "ev_avg = edev.groupby('event_after_first_attendance_ethdenver').agg(avg_events_attended=('event_count', 'mean')).reset_index()\n",
    "ev_avg"
   ]
  },
  {
   "cell_type": "code",
   "execution_count": 193,
   "metadata": {},
   "outputs": [
    {
     "name": "stdout",
     "output_type": "stream",
     "text": [
      "The average number of events attended after first participation in ETH Denver is 82.6% higher than before attending. \n",
      "T-test has good confidence with a p-value of: 0.3359\n"
     ]
    }
   ],
   "source": [
    "before_ethd = edev.loc[edev.event_after_first_attendance_ethdenver==True, 'event_count']\n",
    "after_ethd = edev.loc[edev.event_after_first_attendance_ethdenver==False, 'event_count']\n",
    "\n",
    "t_test_2, p_value_2 = stats.ttest_ind(before_ethd, after_ethd, equal_var=False)\n",
    "\n",
    "before_avg = ev_avg.loc[ev_avg.event_after_first_attendance_ethdenver==True, 'avg_events_attended'].values[0]\n",
    "after_avg = ev_avg.loc[ev_avg.event_after_first_attendance_ethdenver==False, 'avg_events_attended'].values[0]\n",
    "avg_diff = after_avg / before_avg\n",
    "\n",
    "\n",
    "print(f\"The average number of events attended after first participation in ETH Denver is {(avg_diff * 100):.1f}% higher than before attending. \")\n",
    "print(f\"T-test has good confidence with a p-value of: {p_value_2:.4f}\")"
   ]
  },
  {
   "cell_type": "markdown",
   "metadata": {},
   "source": [
    "## - Activity in the DAO space"
   ]
  },
  {
   "cell_type": "code",
   "execution_count": 194,
   "metadata": {},
   "outputs": [
    {
     "data": {
      "text/html": [
       "<div>\n",
       "<style scoped>\n",
       "    .dataframe tbody tr th:only-of-type {\n",
       "        vertical-align: middle;\n",
       "    }\n",
       "\n",
       "    .dataframe tbody tr th {\n",
       "        vertical-align: top;\n",
       "    }\n",
       "\n",
       "    .dataframe thead th {\n",
       "        text-align: right;\n",
       "    }\n",
       "</style>\n",
       "<table border=\"1\" class=\"dataframe\">\n",
       "  <thead>\n",
       "    <tr style=\"text-align: right;\">\n",
       "      <th></th>\n",
       "      <th>address</th>\n",
       "      <th>dao_name</th>\n",
       "      <th>count</th>\n",
       "      <th>type</th>\n",
       "    </tr>\n",
       "  </thead>\n",
       "  <tbody>\n",
       "    <tr>\n",
       "      <td>0</td>\n",
       "      <td>0x000000000057E8ABd581828A2b40076852C0bA6E</td>\n",
       "      <td>Indexed Finance</td>\n",
       "      <td>27</td>\n",
       "      <td>snapshot_proposal_creation</td>\n",
       "    </tr>\n",
       "    <tr>\n",
       "      <td>1</td>\n",
       "      <td>0x0000000000B896235CC0c9513670975c0512b0C8</td>\n",
       "      <td>Gummy</td>\n",
       "      <td>2</td>\n",
       "      <td>snapshot_proposal_creation</td>\n",
       "    </tr>\n",
       "    <tr>\n",
       "      <td>2</td>\n",
       "      <td>0x0000000000e189dD664b9aB08a33C4839953852c</td>\n",
       "      <td>Curve Finance</td>\n",
       "      <td>7</td>\n",
       "      <td>snapshot_proposal_creation</td>\n",
       "    </tr>\n",
       "    <tr>\n",
       "      <td>3</td>\n",
       "      <td>0x000000003f18B190E18246807295d001921C3ca4</td>\n",
       "      <td>moonrat.finance</td>\n",
       "      <td>1</td>\n",
       "      <td>snapshot_proposal_creation</td>\n",
       "    </tr>\n",
       "    <tr>\n",
       "      <td>4</td>\n",
       "      <td>0x00000098e8b8cB65aC3E25Dc462368b00E790176</td>\n",
       "      <td>PancakeSwap</td>\n",
       "      <td>3</td>\n",
       "      <td>snapshot_proposal_creation</td>\n",
       "    </tr>\n",
       "  </tbody>\n",
       "</table>\n",
       "</div>"
      ],
      "text/plain": [
       "                                      address         dao_name  count  \\\n",
       "0  0x000000000057E8ABd581828A2b40076852C0bA6E  Indexed Finance     27   \n",
       "1  0x0000000000B896235CC0c9513670975c0512b0C8            Gummy      2   \n",
       "2  0x0000000000e189dD664b9aB08a33C4839953852c    Curve Finance      7   \n",
       "3  0x000000003f18B190E18246807295d001921C3ca4  moonrat.finance      1   \n",
       "4  0x00000098e8b8cB65aC3E25Dc462368b00E790176      PancakeSwap      3   \n",
       "\n",
       "                         type  \n",
       "0  snapshot_proposal_creation  \n",
       "1  snapshot_proposal_creation  \n",
       "2  snapshot_proposal_creation  \n",
       "3  snapshot_proposal_creation  \n",
       "4  snapshot_proposal_creation  "
      ]
     },
     "execution_count": 194,
     "metadata": {},
     "output_type": "execute_result"
    }
   ],
   "source": [
    "####  CREATING the lead dataframe to check DAOmembership  ####\n",
    "\n",
    "## here I am using Snapshot votes, proposals and profile creation data do I can get a indirect measures of membership of a DAO\n",
    "\n",
    "# DaoHaus\n",
    "\n",
    "dhmembers = dh_members.groupby(['address_normalized', 'dao_name']).agg(count=('address_normalized', 'count')).reset_index()\n",
    "dhmembers = dhmembers.rename(columns={'address_normalized':'address'})\n",
    "dhmembers['type'] = 'daohaus_members'\n",
    "\n",
    "#Snapshot\n",
    "\n",
    "sprops = snap_proposals.groupby(['author', 'space_name']).agg(count=('id', 'nunique')).reset_index()\n",
    "sprops = sprops.rename(columns={'author': 'address'})\n",
    "sprops['type'] = 'snapshot_proposal_creation'\n",
    "\n",
    "svotes = snap_votes.groupby(['voter', 'space_name']).agg(count=('proposal_id', 'nunique')).reset_index()\n",
    "svotes = svotes.rename(columns={'voter': 'address'})\n",
    "svotes['type'] = 'snapshot_votes'\n",
    "\n",
    "screation = snap_creation.groupby(['member_address', 'space_name']).agg(count=('space_id', 'count')).reset_index()\n",
    "screation = screation.rename(columns={'member_address': 'address'})\n",
    "screation['type'] = 'snapshot_creation'\n",
    "\n",
    "snap_activity = pd.concat([sprops, svotes, screation])\n",
    "snap_activity = snap_activity.rename(columns={'space_name':'dao_name'})\n",
    "\n",
    "#creating a big merge of the two dfs\n",
    "\n",
    "daomembers = pd.concat([snap_activity, dhmembers])\n",
    "\n",
    "daomembers.head()"
   ]
  },
  {
   "cell_type": "markdown",
   "metadata": {},
   "source": [
    "### The DAOs ETH Denver attendees participate"
   ]
  },
  {
   "cell_type": "code",
   "execution_count": 195,
   "metadata": {},
   "outputs": [],
   "source": [
    "#getting unique values for wallet : DAO_name - once there might be duplicate using directly daomemberes\n",
    "daomem_clean = daomembers.groupby(['address', 'dao_name']).agg(count=('dao_name', 'nunique')).sort_values('count', ascending=False).reset_index()\n",
    "\n",
    "ethd = ethd.merge(daomem_clean.loc[:, ['address', 'dao_name']], on='address', how='left')\n",
    "ethd['participate_in_DAO'] = False\n",
    "ethd.loc[ethd.dao_name.notnull(), 'participate_in_DAO'] = True"
   ]
  },
  {
   "cell_type": "markdown",
   "metadata": {},
   "source": [
    "#### % of participants in DAOs"
   ]
  },
  {
   "cell_type": "code",
   "execution_count": 196,
   "metadata": {},
   "outputs": [
    {
     "data": {
      "text/html": [
       "<div>\n",
       "<style scoped>\n",
       "    .dataframe tbody tr th:only-of-type {\n",
       "        vertical-align: middle;\n",
       "    }\n",
       "\n",
       "    .dataframe tbody tr th {\n",
       "        vertical-align: top;\n",
       "    }\n",
       "\n",
       "    .dataframe thead th {\n",
       "        text-align: right;\n",
       "    }\n",
       "</style>\n",
       "<table border=\"1\" class=\"dataframe\">\n",
       "  <thead>\n",
       "    <tr style=\"text-align: right;\">\n",
       "      <th></th>\n",
       "      <th>participate_in_DAO</th>\n",
       "      <th>wallet_count</th>\n",
       "      <th>%</th>\n",
       "    </tr>\n",
       "  </thead>\n",
       "  <tbody>\n",
       "    <tr>\n",
       "      <td>0</td>\n",
       "      <td>False</td>\n",
       "      <td>1994</td>\n",
       "      <td>53.891892</td>\n",
       "    </tr>\n",
       "    <tr>\n",
       "      <td>1</td>\n",
       "      <td>True</td>\n",
       "      <td>1706</td>\n",
       "      <td>46.108108</td>\n",
       "    </tr>\n",
       "  </tbody>\n",
       "</table>\n",
       "</div>"
      ],
      "text/plain": [
       "   participate_in_DAO  wallet_count          %\n",
       "0               False          1994  53.891892\n",
       "1                True          1706  46.108108"
      ]
     },
     "execution_count": 196,
     "metadata": {},
     "output_type": "execute_result"
    }
   ],
   "source": [
    "partd = ethd.groupby('participate_in_DAO').agg(wallet_count=('address', 'nunique')).reset_index()\n",
    "partd['%'] = (partd['wallet_count'] / partd['wallet_count'].sum()) * 100\n",
    "partd"
   ]
  },
  {
   "cell_type": "markdown",
   "metadata": {},
   "source": [
    "#### Most popular DAOs"
   ]
  },
  {
   "cell_type": "code",
   "execution_count": 197,
   "metadata": {},
   "outputs": [
    {
     "data": {
      "text/html": [
       "<div>\n",
       "<style scoped>\n",
       "    .dataframe tbody tr th:only-of-type {\n",
       "        vertical-align: middle;\n",
       "    }\n",
       "\n",
       "    .dataframe tbody tr th {\n",
       "        vertical-align: top;\n",
       "    }\n",
       "\n",
       "    .dataframe thead th {\n",
       "        text-align: right;\n",
       "    }\n",
       "</style>\n",
       "<table border=\"1\" class=\"dataframe\">\n",
       "  <thead>\n",
       "    <tr style=\"text-align: right;\">\n",
       "      <th></th>\n",
       "      <th>dao_name</th>\n",
       "      <th>wallet_count</th>\n",
       "      <th>%_total_accounts</th>\n",
       "    </tr>\n",
       "  </thead>\n",
       "  <tbody>\n",
       "    <tr>\n",
       "      <td>0</td>\n",
       "      <td>ENS</td>\n",
       "      <td>1174</td>\n",
       "      <td>31.729730</td>\n",
       "    </tr>\n",
       "    <tr>\n",
       "      <td>1</td>\n",
       "      <td>Bankless DAO</td>\n",
       "      <td>120</td>\n",
       "      <td>3.243243</td>\n",
       "    </tr>\n",
       "    <tr>\n",
       "      <td>2</td>\n",
       "      <td>Gitcoin</td>\n",
       "      <td>111</td>\n",
       "      <td>3.000000</td>\n",
       "    </tr>\n",
       "    <tr>\n",
       "      <td>3</td>\n",
       "      <td>BadgerDAO</td>\n",
       "      <td>98</td>\n",
       "      <td>2.648649</td>\n",
       "    </tr>\n",
       "    <tr>\n",
       "      <td>4</td>\n",
       "      <td>ChessDAO</td>\n",
       "      <td>79</td>\n",
       "      <td>2.135135</td>\n",
       "    </tr>\n",
       "    <tr>\n",
       "      <td>5</td>\n",
       "      <td>Sushi</td>\n",
       "      <td>70</td>\n",
       "      <td>1.891892</td>\n",
       "    </tr>\n",
       "    <tr>\n",
       "      <td>6</td>\n",
       "      <td>Aavegotchi</td>\n",
       "      <td>69</td>\n",
       "      <td>1.864865</td>\n",
       "    </tr>\n",
       "    <tr>\n",
       "      <td>7</td>\n",
       "      <td>Friends With Benefits Pro</td>\n",
       "      <td>66</td>\n",
       "      <td>1.783784</td>\n",
       "    </tr>\n",
       "    <tr>\n",
       "      <td>8</td>\n",
       "      <td>Rarible Protocol DAO</td>\n",
       "      <td>56</td>\n",
       "      <td>1.513514</td>\n",
       "    </tr>\n",
       "    <tr>\n",
       "      <td>9</td>\n",
       "      <td>PancakeSwap</td>\n",
       "      <td>55</td>\n",
       "      <td>1.486486</td>\n",
       "    </tr>\n",
       "    <tr>\n",
       "      <td>10</td>\n",
       "      <td>MetaFactory</td>\n",
       "      <td>54</td>\n",
       "      <td>1.459459</td>\n",
       "    </tr>\n",
       "    <tr>\n",
       "      <td>11</td>\n",
       "      <td>Gearbox</td>\n",
       "      <td>54</td>\n",
       "      <td>1.459459</td>\n",
       "    </tr>\n",
       "    <tr>\n",
       "      <td>12</td>\n",
       "      <td>OlympusDAO</td>\n",
       "      <td>53</td>\n",
       "      <td>1.432432</td>\n",
       "    </tr>\n",
       "    <tr>\n",
       "      <td>13</td>\n",
       "      <td>Raid Guild</td>\n",
       "      <td>48</td>\n",
       "      <td>1.297297</td>\n",
       "    </tr>\n",
       "    <tr>\n",
       "      <td>14</td>\n",
       "      <td>CityDAO</td>\n",
       "      <td>46</td>\n",
       "      <td>1.243243</td>\n",
       "    </tr>\n",
       "  </tbody>\n",
       "</table>\n",
       "</div>"
      ],
      "text/plain": [
       "                     dao_name  wallet_count  %_total_accounts\n",
       "0                         ENS          1174         31.729730\n",
       "1                Bankless DAO           120          3.243243\n",
       "2                     Gitcoin           111          3.000000\n",
       "3                   BadgerDAO            98          2.648649\n",
       "4                    ChessDAO            79          2.135135\n",
       "5                       Sushi            70          1.891892\n",
       "6                  Aavegotchi            69          1.864865\n",
       "7   Friends With Benefits Pro            66          1.783784\n",
       "8        Rarible Protocol DAO            56          1.513514\n",
       "9                 PancakeSwap            55          1.486486\n",
       "10                MetaFactory            54          1.459459\n",
       "11                    Gearbox            54          1.459459\n",
       "12                 OlympusDAO            53          1.432432\n",
       "13                 Raid Guild            48          1.297297\n",
       "14                    CityDAO            46          1.243243"
      ]
     },
     "execution_count": 197,
     "metadata": {},
     "output_type": "execute_result"
    }
   ],
   "source": [
    "popd = ethd.loc[ethd.participate_in_DAO==True]\\\n",
    "    .groupby('dao_name')\\\n",
    "    .agg(wallet_count=('address', 'nunique'))\\\n",
    "    .sort_values('wallet_count', ascending=False)\\\n",
    "    .reset_index()\n",
    "\n",
    "popd['%_total_accounts'] = (popd['wallet_count'] / len(ethd.address.unique())) * 100\n",
    "popd.head(15)"
   ]
  },
  {
   "cell_type": "markdown",
   "metadata": {},
   "source": [
    "#### Are ETH participants participating in more DAOs than an average member? "
   ]
  },
  {
   "cell_type": "code",
   "execution_count": 198,
   "metadata": {},
   "outputs": [
    {
     "name": "stdout",
     "output_type": "stream",
     "text": [
      "## Avereage number of DAOs active ## \n",
      "\n",
      "\n",
      "ETH Denver participants: 3.1400937866354046 \n",
      "Average DAO members (not necessarily ETH Denver participate: 1.7126088573919758 \n",
      "\n",
      "After running multiple t-tests in multiple sub samples the values were below alpha of 5% in 100.00% of times.\n"
     ]
    }
   ],
   "source": [
    "#comparing ETH Denver participants that participate in at least 1 DAO vs the dao members df created - that only includes people in at least 1 DAO too\n",
    "\n",
    "ethdenver_n_daos =  ethd.loc[ethd.participate_in_DAO==True].groupby('address').agg(dao_count=('dao_name', 'nunique')).reset_index()\n",
    "nondenver_n_daos = daomembers.groupby('address').agg(dao_count=('dao_name', 'nunique')).reset_index()\n",
    "ethdenver_avg_daos = ethdenver_n_daos.dao_count.sum() / len(ethdenver_n_daos.address.unique())\n",
    "\n",
    "perc_below_alpha, final_mean = calculate_multisample_t_test(nondenver_n_daos['dao_count'], ethdenver_n_daos['dao_count'])\n",
    "\n",
    "print('## Avereage number of DAOs active ## \\n\\n')\n",
    "print(f\"ETH Denver participants: {ethdenver_avg_daos} \\nAverage DAO members (not necessarily ETH Denver participate: {final_mean} \\n\")\n",
    "\n",
    "\n",
    "print(f'After running multiple t-tests in multiple sub samples the values were below alpha of 5% in {perc_below_alpha:.2f}% of times.')"
   ]
  },
  {
   "cell_type": "markdown",
   "metadata": {},
   "source": [
    "### How active these addresses are compared to the average DAO member ?"
   ]
  },
  {
   "cell_type": "code",
   "execution_count": 199,
   "metadata": {},
   "outputs": [
    {
     "data": {
      "text/html": [
       "<div>\n",
       "<style scoped>\n",
       "    .dataframe tbody tr th:only-of-type {\n",
       "        vertical-align: middle;\n",
       "    }\n",
       "\n",
       "    .dataframe tbody tr th {\n",
       "        vertical-align: top;\n",
       "    }\n",
       "\n",
       "    .dataframe thead th {\n",
       "        text-align: right;\n",
       "    }\n",
       "</style>\n",
       "<table border=\"1\" class=\"dataframe\">\n",
       "  <thead>\n",
       "    <tr style=\"text-align: right;\">\n",
       "      <th></th>\n",
       "      <th>address</th>\n",
       "      <th>dao_name</th>\n",
       "      <th>count</th>\n",
       "      <th>type</th>\n",
       "    </tr>\n",
       "  </thead>\n",
       "  <tbody>\n",
       "    <tr>\n",
       "      <td>0</td>\n",
       "      <td>0x000000000057E8ABd581828A2b40076852C0bA6E</td>\n",
       "      <td>Indexed Finance</td>\n",
       "      <td>27</td>\n",
       "      <td>snapshot_proposal_creation</td>\n",
       "    </tr>\n",
       "    <tr>\n",
       "      <td>1</td>\n",
       "      <td>0x0000000000B896235CC0c9513670975c0512b0C8</td>\n",
       "      <td>Gummy</td>\n",
       "      <td>2</td>\n",
       "      <td>snapshot_proposal_creation</td>\n",
       "    </tr>\n",
       "    <tr>\n",
       "      <td>2</td>\n",
       "      <td>0x0000000000e189dD664b9aB08a33C4839953852c</td>\n",
       "      <td>Curve Finance</td>\n",
       "      <td>7</td>\n",
       "      <td>snapshot_proposal_creation</td>\n",
       "    </tr>\n",
       "  </tbody>\n",
       "</table>\n",
       "</div>"
      ],
      "text/plain": [
       "                                      address         dao_name  count  \\\n",
       "0  0x000000000057E8ABd581828A2b40076852C0bA6E  Indexed Finance     27   \n",
       "1  0x0000000000B896235CC0c9513670975c0512b0C8            Gummy      2   \n",
       "2  0x0000000000e189dD664b9aB08a33C4839953852c    Curve Finance      7   \n",
       "\n",
       "                         type  \n",
       "0  snapshot_proposal_creation  \n",
       "1  snapshot_proposal_creation  \n",
       "2  snapshot_proposal_creation  "
      ]
     },
     "execution_count": 199,
     "metadata": {},
     "output_type": "execute_result"
    }
   ],
   "source": [
    "#getting DaoHaus votes and proposals\n",
    "\n",
    "#proposals\n",
    "dhprops = dh_proposals.groupby(['applicant_normalized', 'dao_name']).agg(count=('proposal_id', 'nunique')).reset_index()\n",
    "dhprops = dhprops.rename(columns={'applicant_normalized': 'address'})\n",
    "dhprops['type'] = 'daohaus_proposals'\n",
    "\n",
    "#votes\n",
    "dhvotes = dh_votes.groupby(['address_normalized', 'dao_name']).agg(count=('id', 'nunique')).reset_index()\n",
    "dhvotes = dhvotes.rename(columns={'address_normalized':'address'})\n",
    "dhvotes['type'] = 'daohaus_votes'\n",
    "\n",
    "daoactivity = pd.concat([daomembers, dhprops, dhvotes])\n",
    "\n",
    "daoactivity.head(3)"
   ]
  },
  {
   "cell_type": "markdown",
   "metadata": {},
   "source": [
    "#### On proposal creation"
   ]
  },
  {
   "cell_type": "markdown",
   "metadata": {},
   "source": [
    "% with proposal created"
   ]
  },
  {
   "cell_type": "code",
   "execution_count": 205,
   "metadata": {},
   "outputs": [
    {
     "data": {
      "text/html": [
       "<div>\n",
       "<style scoped>\n",
       "    .dataframe tbody tr th:only-of-type {\n",
       "        vertical-align: middle;\n",
       "    }\n",
       "\n",
       "    .dataframe tbody tr th {\n",
       "        vertical-align: top;\n",
       "    }\n",
       "\n",
       "    .dataframe thead th {\n",
       "        text-align: right;\n",
       "    }\n",
       "</style>\n",
       "<table border=\"1\" class=\"dataframe\">\n",
       "  <thead>\n",
       "    <tr style=\"text-align: right;\">\n",
       "      <th></th>\n",
       "      <th>has_proposal</th>\n",
       "      <th>wallet_count</th>\n",
       "      <th>%</th>\n",
       "    </tr>\n",
       "  </thead>\n",
       "  <tbody>\n",
       "    <tr>\n",
       "      <td>0</td>\n",
       "      <td>False</td>\n",
       "      <td>1490</td>\n",
       "      <td>87.338804</td>\n",
       "    </tr>\n",
       "    <tr>\n",
       "      <td>1</td>\n",
       "      <td>True</td>\n",
       "      <td>216</td>\n",
       "      <td>12.661196</td>\n",
       "    </tr>\n",
       "  </tbody>\n",
       "</table>\n",
       "</div>"
      ],
      "text/plain": [
       "   has_proposal  wallet_count          %\n",
       "0         False          1490  87.338804\n",
       "1          True           216  12.661196"
      ]
     },
     "execution_count": 205,
     "metadata": {},
     "output_type": "execute_result"
    }
   ],
   "source": [
    "total_props = daoactivity.loc[daoactivity.type.isin(['snapshot_proposal_creation', 'daohaus_proposals'])]\\\n",
    "                         .groupby('address').agg(total_props=('count', 'sum'))\\\n",
    "                         .reset_index()\n",
    "\n",
    "ethd_prop = ethd.loc[ethd.participate_in_DAO==True].merge(total_props, on='address', how='left').drop_duplicates('address')  #not merging by dao_name so need to exclude duplicates\n",
    "ethd_prop['total_props'] = ethd_prop['total_props'].fillna(0)\n",
    "ethd_prop['has_proposal'] = np.where(ethd_prop['total_props']>0, True, False)\n",
    "\n",
    "properc = ethd_prop.groupby('has_proposal').agg(wallet_count=('address', 'nunique')).reset_index()\n",
    "properc['%'] = (properc['wallet_count'] / properc['wallet_count'].sum()) * 100\n",
    "\n",
    "properc"
   ]
  },
  {
   "cell_type": "markdown",
   "metadata": {},
   "source": [
    "Do ETH participants create more proposals than the average DAO member?"
   ]
  },
  {
   "cell_type": "code",
   "execution_count": 201,
   "metadata": {},
   "outputs": [
    {
     "name": "stdout",
     "output_type": "stream",
     "text": [
      "## Average number of proposals created ## \n",
      "\n",
      "\n",
      "ETH Denver participants: 0.5644783118405627 \n",
      "Average DAO members (not necessarily ETH Denver participant): 2.2027660720509488 \n",
      "\n",
      "After running multiple t-tests in multiple sub samples the values were below alpha of 5% in 100.00% of times.\n"
     ]
    }
   ],
   "source": [
    "denver_avg_proposals = ethd_prop.loc[ethd_prop.participate_in_DAO==True]\n",
    "\n",
    "avg_denver_proposals = denver_avg_proposals['total_props'].sum() / len(denver_avg_proposals.address.unique())\n",
    "avg_nondenver_proposals = total_props['total_props'].sum() / len(total_props.address.unique())\n",
    "\n",
    "perc_below_alpha, final_mean = calculate_multisample_t_test(total_props['total_props'], denver_avg_proposals['total_props'])\n",
    "\n",
    "print('## Average number of proposals created ## \\n\\n')\n",
    "print(f\"ETH Denver participants: {avg_denver_proposals} \\nAverage DAO members (not necessarily ETH Denver participant): {final_mean} \\n\")\n",
    "\n",
    "\n",
    "print(f'After running multiple t-tests in multiple sub samples the values were below alpha of 5% in {perc_below_alpha:.2f}% of times.')"
   ]
  },
  {
   "cell_type": "markdown",
   "metadata": {},
   "source": [
    "#### On votes"
   ]
  },
  {
   "cell_type": "markdown",
   "metadata": {},
   "source": [
    "% with votes"
   ]
  },
  {
   "cell_type": "code",
   "execution_count": 206,
   "metadata": {},
   "outputs": [
    {
     "data": {
      "text/html": [
       "<div>\n",
       "<style scoped>\n",
       "    .dataframe tbody tr th:only-of-type {\n",
       "        vertical-align: middle;\n",
       "    }\n",
       "\n",
       "    .dataframe tbody tr th {\n",
       "        vertical-align: top;\n",
       "    }\n",
       "\n",
       "    .dataframe thead th {\n",
       "        text-align: right;\n",
       "    }\n",
       "</style>\n",
       "<table border=\"1\" class=\"dataframe\">\n",
       "  <thead>\n",
       "    <tr style=\"text-align: right;\">\n",
       "      <th></th>\n",
       "      <th>has_votes</th>\n",
       "      <th>wallet_count</th>\n",
       "      <th>%</th>\n",
       "    </tr>\n",
       "  </thead>\n",
       "  <tbody>\n",
       "    <tr>\n",
       "      <td>0</td>\n",
       "      <td>False</td>\n",
       "      <td>65</td>\n",
       "      <td>3.810082</td>\n",
       "    </tr>\n",
       "    <tr>\n",
       "      <td>1</td>\n",
       "      <td>True</td>\n",
       "      <td>1641</td>\n",
       "      <td>96.189918</td>\n",
       "    </tr>\n",
       "  </tbody>\n",
       "</table>\n",
       "</div>"
      ],
      "text/plain": [
       "   has_votes  wallet_count          %\n",
       "0      False            65   3.810082\n",
       "1       True          1641  96.189918"
      ]
     },
     "execution_count": 206,
     "metadata": {},
     "output_type": "execute_result"
    }
   ],
   "source": [
    "total_votes = daoactivity.loc[daoactivity.type.isin(['snapshot_votes', 'daohaus_votes'])]\\\n",
    "                         .groupby('address').agg(total_votes=('count', 'sum'))\\\n",
    "                         .reset_index()\n",
    "\n",
    "ethd_votes = ethd.loc[ethd.participate_in_DAO==True].merge(total_votes, on='address', how='left').drop_duplicates('address')\n",
    "ethd_votes['total_props'] = ethd_votes['total_votes'].fillna(0)\n",
    "ethd_votes['has_votes'] = np.where(ethd_votes['total_votes']>0, True, False)\n",
    "\n",
    "provet = ethd_votes.groupby('has_votes').agg(wallet_count=('address', 'nunique')).reset_index()\n",
    "provet['%'] = (provet['wallet_count'] / provet['wallet_count'].sum()) * 100\n",
    "\n",
    "provet"
   ]
  },
  {
   "cell_type": "markdown",
   "metadata": {},
   "source": [
    "Do ETH participants create more proposals than the average DAO member?"
   ]
  },
  {
   "cell_type": "code",
   "execution_count": 203,
   "metadata": {},
   "outputs": [
    {
     "name": "stdout",
     "output_type": "stream",
     "text": [
      "## Average number of proposals created ## \n",
      "\n",
      "\n",
      "ETH Denver participants: 9.678780773739742 \n",
      "Average DAO members (not necessarily ETH Denver participate: 4.992958374552748 \n",
      "\n",
      "After running multiple t-tests in multiple sub samples the values were below alpha of 5% in 100.00% of times.\n"
     ]
    }
   ],
   "source": [
    "denver_avg_votes = ethd_votes.loc[ethd_votes.participate_in_DAO==True]\n",
    "\n",
    "avg_denver_votes = denver_avg_votes['total_votes'].sum() / len(denver_avg_votes.address.unique())\n",
    "avg_nondenver_votes = total_votes['total_votes'].sum() / len(total_votes.address.unique())\n",
    "\n",
    "erc_below_alpha, final_mean = calculate_multisample_t_test(total_votes['total_votes'], denver_avg_votes['total_votes'])\n",
    "\n",
    "print('## Average number of proposals created ## \\n\\n')\n",
    "print(f\"ETH Denver participants: {avg_denver_votes} \\nAverage DAO members (not necessarily ETH Denver participate: {final_mean} \\n\")\n",
    "\n",
    "\n",
    "print(f'After running multiple t-tests in multiple sub samples the values were below alpha of 5% in {perc_below_alpha:.2f}% of times.')"
   ]
  },
  {
   "cell_type": "markdown",
   "metadata": {},
   "source": [
    "## - Token bags"
   ]
  },
  {
   "cell_type": "markdown",
   "metadata": {},
   "source": [
    "Check why number of proposals are coming all the same for all DAOs"
   ]
  },
  {
   "cell_type": "code",
   "execution_count": 204,
   "metadata": {},
   "outputs": [
    {
     "data": {
      "text/html": [
       "<div>\n",
       "<style scoped>\n",
       "    .dataframe tbody tr th:only-of-type {\n",
       "        vertical-align: middle;\n",
       "    }\n",
       "\n",
       "    .dataframe tbody tr th {\n",
       "        vertical-align: top;\n",
       "    }\n",
       "\n",
       "    .dataframe thead th {\n",
       "        text-align: right;\n",
       "    }\n",
       "</style>\n",
       "<table border=\"1\" class=\"dataframe\">\n",
       "  <thead>\n",
       "    <tr style=\"text-align: right;\">\n",
       "      <th></th>\n",
       "      <th>address</th>\n",
       "      <th>has_ETH_Denver_POAP</th>\n",
       "      <th>spork_balance</th>\n",
       "      <th>spork_normalized_balance</th>\n",
       "      <th>bufficorn_token_id</th>\n",
       "      <th>profile_type</th>\n",
       "      <th>dao_name</th>\n",
       "      <th>participate_in_DAO</th>\n",
       "      <th>total_props</th>\n",
       "      <th>has_proposal</th>\n",
       "    </tr>\n",
       "  </thead>\n",
       "  <tbody>\n",
       "    <tr>\n",
       "      <td>1427</td>\n",
       "      <td>0x00000000005dbcB0d0513FcDa746382Fe8a53468</td>\n",
       "      <td>True</td>\n",
       "      <td>3.283922e+22</td>\n",
       "      <td>32839.221567</td>\n",
       "      <td>1932.0</td>\n",
       "      <td>poap_spork_and_bufficorn_holder</td>\n",
       "      <td>MetaFactory</td>\n",
       "      <td>True</td>\n",
       "      <td>0.0</td>\n",
       "      <td>False</td>\n",
       "    </tr>\n",
       "    <tr>\n",
       "      <td>5979</td>\n",
       "      <td>0x0039F22efB07A647557C7C5d17854CFD6D489eF3</td>\n",
       "      <td>NaN</td>\n",
       "      <td>4.676353e+21</td>\n",
       "      <td>4676.353110</td>\n",
       "      <td>NaN</td>\n",
       "      <td>spork_holder_only</td>\n",
       "      <td>ENS</td>\n",
       "      <td>True</td>\n",
       "      <td>1.0</td>\n",
       "      <td>True</td>\n",
       "    </tr>\n",
       "    <tr>\n",
       "      <td>2105</td>\n",
       "      <td>0x0040DAAC32D83c78546ae36dA42A496B28ab09E1</td>\n",
       "      <td>NaN</td>\n",
       "      <td>3.902079e+21</td>\n",
       "      <td>3902.078710</td>\n",
       "      <td>1990.0</td>\n",
       "      <td>spork_and_bufficorn_holder</td>\n",
       "      <td>PancakeSwap</td>\n",
       "      <td>True</td>\n",
       "      <td>0.0</td>\n",
       "      <td>False</td>\n",
       "    </tr>\n",
       "    <tr>\n",
       "      <td>4586</td>\n",
       "      <td>0x0042000F3DDe458BC95880565aD5A4981FF1122E</td>\n",
       "      <td>NaN</td>\n",
       "      <td>3.512000e+22</td>\n",
       "      <td>35120.000000</td>\n",
       "      <td>1591.0</td>\n",
       "      <td>spork_and_bufficorn_holder</td>\n",
       "      <td>ENS</td>\n",
       "      <td>True</td>\n",
       "      <td>0.0</td>\n",
       "      <td>False</td>\n",
       "    </tr>\n",
       "    <tr>\n",
       "      <td>1106</td>\n",
       "      <td>0x0067eEC7AD35e72613d760E917890D1B7E876e4E</td>\n",
       "      <td>True</td>\n",
       "      <td>1.902079e+21</td>\n",
       "      <td>1902.078710</td>\n",
       "      <td>NaN</td>\n",
       "      <td>poap_and_spork_holder</td>\n",
       "      <td>ENS</td>\n",
       "      <td>True</td>\n",
       "      <td>0.0</td>\n",
       "      <td>False</td>\n",
       "    </tr>\n",
       "    <tr>\n",
       "      <td>742</td>\n",
       "      <td>0x00A839dE7922491683f547a67795204763ff8237</td>\n",
       "      <td>True</td>\n",
       "      <td>NaN</td>\n",
       "      <td>NaN</td>\n",
       "      <td>NaN</td>\n",
       "      <td>poap_holder_only</td>\n",
       "      <td>ENS</td>\n",
       "      <td>True</td>\n",
       "      <td>0.0</td>\n",
       "      <td>False</td>\n",
       "    </tr>\n",
       "    <tr>\n",
       "      <td>5988</td>\n",
       "      <td>0x00De4B13153673BCAE2616b67bf822500d325Fc3</td>\n",
       "      <td>NaN</td>\n",
       "      <td>4.440920e+23</td>\n",
       "      <td>444092.030000</td>\n",
       "      <td>NaN</td>\n",
       "      <td>spork_holder_only</td>\n",
       "      <td>ENS</td>\n",
       "      <td>True</td>\n",
       "      <td>1.0</td>\n",
       "      <td>True</td>\n",
       "    </tr>\n",
       "    <tr>\n",
       "      <td>5218</td>\n",
       "      <td>0x00aF41c6EE0B153E973004529db12e35A65748f6</td>\n",
       "      <td>NaN</td>\n",
       "      <td>1.000000e+13</td>\n",
       "      <td>0.000010</td>\n",
       "      <td>3262.0</td>\n",
       "      <td>spork_and_bufficorn_holder</td>\n",
       "      <td>CityDAO</td>\n",
       "      <td>True</td>\n",
       "      <td>0.0</td>\n",
       "      <td>False</td>\n",
       "    </tr>\n",
       "    <tr>\n",
       "      <td>3331</td>\n",
       "      <td>0x00f16DdF3034436fC981194A0192044ce90Aa4C1</td>\n",
       "      <td>NaN</td>\n",
       "      <td>1.902079e+21</td>\n",
       "      <td>1902.078710</td>\n",
       "      <td>NaN</td>\n",
       "      <td>spork_holder_only</td>\n",
       "      <td>Gitcoin</td>\n",
       "      <td>True</td>\n",
       "      <td>0.0</td>\n",
       "      <td>False</td>\n",
       "    </tr>\n",
       "    <tr>\n",
       "      <td>7107</td>\n",
       "      <td>0x010462E09d11875B5b17e1d800951919423F9616</td>\n",
       "      <td>NaN</td>\n",
       "      <td>NaN</td>\n",
       "      <td>NaN</td>\n",
       "      <td>3930.0</td>\n",
       "      <td>bufficorn_holder_only</td>\n",
       "      <td>ENS</td>\n",
       "      <td>True</td>\n",
       "      <td>0.0</td>\n",
       "      <td>False</td>\n",
       "    </tr>\n",
       "  </tbody>\n",
       "</table>\n",
       "</div>"
      ],
      "text/plain": [
       "                                         address has_ETH_Denver_POAP  \\\n",
       "1427  0x00000000005dbcB0d0513FcDa746382Fe8a53468                True   \n",
       "5979  0x0039F22efB07A647557C7C5d17854CFD6D489eF3                 NaN   \n",
       "2105  0x0040DAAC32D83c78546ae36dA42A496B28ab09E1                 NaN   \n",
       "4586  0x0042000F3DDe458BC95880565aD5A4981FF1122E                 NaN   \n",
       "1106  0x0067eEC7AD35e72613d760E917890D1B7E876e4E                True   \n",
       "742   0x00A839dE7922491683f547a67795204763ff8237                True   \n",
       "5988  0x00De4B13153673BCAE2616b67bf822500d325Fc3                 NaN   \n",
       "5218  0x00aF41c6EE0B153E973004529db12e35A65748f6                 NaN   \n",
       "3331  0x00f16DdF3034436fC981194A0192044ce90Aa4C1                 NaN   \n",
       "7107  0x010462E09d11875B5b17e1d800951919423F9616                 NaN   \n",
       "\n",
       "      spork_balance  spork_normalized_balance  bufficorn_token_id  \\\n",
       "1427   3.283922e+22              32839.221567              1932.0   \n",
       "5979   4.676353e+21               4676.353110                 NaN   \n",
       "2105   3.902079e+21               3902.078710              1990.0   \n",
       "4586   3.512000e+22              35120.000000              1591.0   \n",
       "1106   1.902079e+21               1902.078710                 NaN   \n",
       "742             NaN                       NaN                 NaN   \n",
       "5988   4.440920e+23             444092.030000                 NaN   \n",
       "5218   1.000000e+13                  0.000010              3262.0   \n",
       "3331   1.902079e+21               1902.078710                 NaN   \n",
       "7107            NaN                       NaN              3930.0   \n",
       "\n",
       "                         profile_type     dao_name  participate_in_DAO  \\\n",
       "1427  poap_spork_and_bufficorn_holder  MetaFactory                True   \n",
       "5979                spork_holder_only          ENS                True   \n",
       "2105       spork_and_bufficorn_holder  PancakeSwap                True   \n",
       "4586       spork_and_bufficorn_holder          ENS                True   \n",
       "1106            poap_and_spork_holder          ENS                True   \n",
       "742                  poap_holder_only          ENS                True   \n",
       "5988                spork_holder_only          ENS                True   \n",
       "5218       spork_and_bufficorn_holder      CityDAO                True   \n",
       "3331                spork_holder_only      Gitcoin                True   \n",
       "7107            bufficorn_holder_only          ENS                True   \n",
       "\n",
       "      total_props  has_proposal  \n",
       "1427          0.0         False  \n",
       "5979          1.0          True  \n",
       "2105          0.0         False  \n",
       "4586          0.0         False  \n",
       "1106          0.0         False  \n",
       "742           0.0         False  \n",
       "5988          1.0          True  \n",
       "5218          0.0         False  \n",
       "3331          0.0         False  \n",
       "7107          0.0         False  "
      ]
     },
     "execution_count": 204,
     "metadata": {},
     "output_type": "execute_result"
    }
   ],
   "source": [
    "denver_avg_proposals.sort_values('address').head(10)"
   ]
  },
  {
   "cell_type": "code",
   "execution_count": null,
   "metadata": {},
   "outputs": [],
   "source": []
  },
  {
   "cell_type": "code",
   "execution_count": null,
   "metadata": {},
   "outputs": [],
   "source": []
  },
  {
   "cell_type": "code",
   "execution_count": null,
   "metadata": {},
   "outputs": [],
   "source": []
  },
  {
   "cell_type": "code",
   "execution_count": null,
   "metadata": {},
   "outputs": [],
   "source": []
  },
  {
   "cell_type": "code",
   "execution_count": null,
   "metadata": {},
   "outputs": [],
   "source": []
  }
 ],
 "metadata": {
  "interpreter": {
   "hash": "cc73f21a52ccb832bf677fe91f931c0e3bb70d63042d3db79193d87a6c9b6f0c"
  },
  "kernelspec": {
   "display_name": "Python 3",
   "language": "python",
   "name": "python3"
  },
  "language_info": {
   "codemirror_mode": {
    "name": "ipython",
    "version": 3
   },
   "file_extension": ".py",
   "mimetype": "text/x-python",
   "name": "python",
   "nbconvert_exporter": "python",
   "pygments_lexer": "ipython3",
   "version": "3.7.4"
  }
 },
 "nbformat": 4,
 "nbformat_minor": 4
}
