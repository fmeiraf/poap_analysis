{
 "cells": [
  {
   "cell_type": "code",
   "execution_count": 1,
   "metadata": {},
   "outputs": [],
   "source": [
    "import pandas as pd\n",
    "import matplotlib.pyplot as plt\n",
    "import seaborn as sns\n",
    "import numpy as np\n",
    "\n",
    "import data_cleaning"
   ]
  },
  {
   "cell_type": "markdown",
   "metadata": {},
   "source": [
    "# Summary"
   ]
  },
  {
   "cell_type": "markdown",
   "metadata": {},
   "source": [
    "This is an analysis originated from a bounty from [DiamondDAO](https://docs.diamonddao.xyz/welcome/values) that aims to analyze the data coming form ETH Denver attendees and their pathway in crypto after the event.\n",
    "\n",
    "**Main objective:** \n",
    "- To determine the profile of inviduals attending the event.\n",
    "- To understand the impacts of the event in the ecosystem. "
   ]
  },
  {
   "cell_type": "markdown",
   "metadata": {},
   "source": [
    "# Data loading"
   ]
  },
  {
   "cell_type": "code",
   "execution_count": 2,
   "metadata": {},
   "outputs": [],
   "source": [
    "#POAP data\n",
    "poap = data_cleaning.get_cleaned_poap_data()\n",
    "\n",
    "#DAOHaus data\n",
    "dh_members, dh_votes, dh_proposals = data_cleaning.get_daohaus_cleaned_data()\n",
    "\n",
    "#Snapshot data\n",
    "snap_proposals, snap_votes = data_cleaning.get_snapshot_cleaned_data()\n",
    "\n",
    "#Token balance data\n",
    "\n",
    "spork = data_cleaning.get_token_holder_cleaned_data()"
   ]
  },
  {
   "cell_type": "code",
   "execution_count": 3,
   "metadata": {},
   "outputs": [
    {
     "data": {
      "text/html": [
       "<div>\n",
       "<style scoped>\n",
       "    .dataframe tbody tr th:only-of-type {\n",
       "        vertical-align: middle;\n",
       "    }\n",
       "\n",
       "    .dataframe tbody tr th {\n",
       "        vertical-align: top;\n",
       "    }\n",
       "\n",
       "    .dataframe thead th {\n",
       "        text-align: right;\n",
       "    }\n",
       "</style>\n",
       "<table border=\"1\" class=\"dataframe\">\n",
       "  <thead>\n",
       "    <tr style=\"text-align: right;\">\n",
       "      <th></th>\n",
       "      <th>holder_address</th>\n",
       "      <th>balance</th>\n",
       "      <th>normalized_balance</th>\n",
       "    </tr>\n",
       "  </thead>\n",
       "  <tbody>\n",
       "    <tr>\n",
       "      <td>0</td>\n",
       "      <td>0x70129EA2f8c3e4CA8C45621A5eC73a5A93a466D3</td>\n",
       "      <td>1.902079e+21</td>\n",
       "      <td>1902.07871</td>\n",
       "    </tr>\n",
       "    <tr>\n",
       "      <td>1</td>\n",
       "      <td>0x62051BfD3A4f7039a849142e6E5ea172cBdA5949</td>\n",
       "      <td>5.803448e+21</td>\n",
       "      <td>5803.44828</td>\n",
       "    </tr>\n",
       "    <tr>\n",
       "      <td>2</td>\n",
       "      <td>0x0c81D7d494faCFBa3eFE7A3030755Fc2249EA983</td>\n",
       "      <td>4.676353e+21</td>\n",
       "      <td>4676.35311</td>\n",
       "    </tr>\n",
       "    <tr>\n",
       "      <td>3</td>\n",
       "      <td>0x86096686BBC522491FFD5ad694929D6fc0DA952E</td>\n",
       "      <td>1.902079e+21</td>\n",
       "      <td>1902.07871</td>\n",
       "    </tr>\n",
       "    <tr>\n",
       "      <td>4</td>\n",
       "      <td>0x0e9B85B830f694f8A792bA721DfFe06c7E256588</td>\n",
       "      <td>2.000000e+21</td>\n",
       "      <td>2000.00000</td>\n",
       "    </tr>\n",
       "  </tbody>\n",
       "</table>\n",
       "</div>"
      ],
      "text/plain": [
       "                               holder_address       balance  \\\n",
       "0  0x70129EA2f8c3e4CA8C45621A5eC73a5A93a466D3  1.902079e+21   \n",
       "1  0x62051BfD3A4f7039a849142e6E5ea172cBdA5949  5.803448e+21   \n",
       "2  0x0c81D7d494faCFBa3eFE7A3030755Fc2249EA983  4.676353e+21   \n",
       "3  0x86096686BBC522491FFD5ad694929D6fc0DA952E  1.902079e+21   \n",
       "4  0x0e9B85B830f694f8A792bA721DfFe06c7E256588  2.000000e+21   \n",
       "\n",
       "   normalized_balance  \n",
       "0          1902.07871  \n",
       "1          5803.44828  \n",
       "2          4676.35311  \n",
       "3          1902.07871  \n",
       "4          2000.00000  "
      ]
     },
     "execution_count": 3,
     "metadata": {},
     "output_type": "execute_result"
    }
   ],
   "source": [
    "spork.head()"
   ]
  },
  {
   "cell_type": "markdown",
   "metadata": {},
   "source": [
    "# Analysis"
   ]
  },
  {
   "cell_type": "markdown",
   "metadata": {},
   "source": [
    "Things to check:\n",
    "\n",
    "- What is the proportion of ETH Denver POAP holders vs SPORK DAO holders.. the difference between these two populations\n",
    "- What is the impact of the event in first time attendees? Is this introducing people to the ecosystem? what about continous participants\n",
    "- What is the % of people that sticks to the event overtime\n"
   ]
  },
  {
   "cell_type": "code",
   "execution_count": null,
   "metadata": {},
   "outputs": [],
   "source": [
    "# Check all ETH Denver POAP recipients\n",
    "## What other events these people go? Any identifiable category or pattern here? \n",
    "## What is the rentention rate for ETH Denver? \n",
    "## Does ETH Denver lead to other events in a strong way?\n",
    "\n",
    "# Cross reference POAP holders and SPORK holders\n",
    "## make analysis on how much of the the POAP issuers have token of the opposite - which parameters identify the most people?\n",
    "\n",
    "\n",
    "# Isolate all possible ETH Denver participants and start looking at DAO cross reference like:\n",
    "## how many DAOs can the person be identified at (DAOHaus)\n",
    "## how many proposals or votes this people have? once you have proposals or votes this would add you as member of the DAO\n",
    "## explore the concept of stronger membership and weak membership attached to how much people participate \n",
    "## explore level of activity\n",
    "### how many votes\n",
    "### how many different DAOs\n",
    "### total number of interactions vs count of specific reactions: vote, proposals, etc\n",
    "### what is the SPORK holders share in the votes in snapshot - what is their wight on these things? vs only POAP vs general public\n",
    "\n"
   ]
  },
  {
   "cell_type": "code",
   "execution_count": null,
   "metadata": {},
   "outputs": [],
   "source": []
  },
  {
   "cell_type": "code",
   "execution_count": null,
   "metadata": {},
   "outputs": [],
   "source": []
  },
  {
   "cell_type": "code",
   "execution_count": null,
   "metadata": {},
   "outputs": [],
   "source": []
  },
  {
   "cell_type": "code",
   "execution_count": null,
   "metadata": {},
   "outputs": [],
   "source": []
  },
  {
   "cell_type": "code",
   "execution_count": null,
   "metadata": {},
   "outputs": [],
   "source": []
  },
  {
   "cell_type": "code",
   "execution_count": null,
   "metadata": {},
   "outputs": [],
   "source": []
  },
  {
   "cell_type": "code",
   "execution_count": null,
   "metadata": {},
   "outputs": [],
   "source": []
  },
  {
   "cell_type": "code",
   "execution_count": null,
   "metadata": {},
   "outputs": [],
   "source": []
  },
  {
   "cell_type": "code",
   "execution_count": null,
   "metadata": {},
   "outputs": [],
   "source": []
  },
  {
   "cell_type": "code",
   "execution_count": null,
   "metadata": {},
   "outputs": [],
   "source": []
  },
  {
   "cell_type": "code",
   "execution_count": null,
   "metadata": {},
   "outputs": [],
   "source": []
  },
  {
   "cell_type": "code",
   "execution_count": null,
   "metadata": {},
   "outputs": [],
   "source": []
  }
 ],
 "metadata": {
  "interpreter": {
   "hash": "cc73f21a52ccb832bf677fe91f931c0e3bb70d63042d3db79193d87a6c9b6f0c"
  },
  "kernelspec": {
   "display_name": "Python 3",
   "language": "python",
   "name": "python3"
  },
  "language_info": {
   "codemirror_mode": {
    "name": "ipython",
    "version": 3
   },
   "file_extension": ".py",
   "mimetype": "text/x-python",
   "name": "python",
   "nbconvert_exporter": "python",
   "pygments_lexer": "ipython3",
   "version": "3.7.4"
  }
 },
 "nbformat": 4,
 "nbformat_minor": 4
}
