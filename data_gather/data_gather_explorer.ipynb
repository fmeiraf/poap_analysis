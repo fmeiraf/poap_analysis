{
 "cells": [
  {
   "cell_type": "code",
   "execution_count": 20,
   "metadata": {},
   "outputs": [],
   "source": [
    "import pandas as pd\n",
    "from web3 import Web3\n",
    "import yaml\n"
   ]
  },
  {
   "cell_type": "markdown",
   "metadata": {},
   "source": [
    "# Connecting RPCs"
   ]
  },
  {
   "cell_type": "code",
   "execution_count": 21,
   "metadata": {},
   "outputs": [
    {
     "data": {
      "text/plain": [
       "True"
      ]
     },
     "execution_count": 21,
     "metadata": {},
     "output_type": "execute_result"
    }
   ],
   "source": [
    "# Ethereum mainnet - using a free api rpc like alchemy or infura\n",
    "\n",
    "with open(r'../eth_rpc.yaml') as file:\n",
    "    provider_params = yaml.load(file, Loader=yaml.FullLoader)\n",
    "provider_url = provider_params['key']\n",
    "w3eth = Web3(Web3.HTTPProvider(provider_url))\n",
    "\n",
    "w3eth.isConnected()"
   ]
  },
  {
   "cell_type": "code",
   "execution_count": 22,
   "metadata": {},
   "outputs": [
    {
     "data": {
      "text/plain": [
       "False"
      ]
     },
     "execution_count": 22,
     "metadata": {},
     "output_type": "execute_result"
    }
   ],
   "source": [
    "# gnosischain mainnet\n",
    "\n",
    "xdai_rpc_link = 'https://rpc.gnosischain.com/'\n",
    "\n",
    "w3x = Web3(Web3.HTTPProvider(xdai_rpc_link))\n",
    "\n",
    "w3x.isConnected()"
   ]
  },
  {
   "cell_type": "markdown",
   "metadata": {},
   "source": [
    "# Running test queries and testing stuff"
   ]
  },
  {
   "cell_type": "markdown",
   "metadata": {},
   "source": [
    "### Testing: How do the tranfers from gc to ethereum work?"
   ]
  },
  {
   "cell_type": "code",
   "execution_count": 23,
   "metadata": {},
   "outputs": [
    {
     "name": "stdout",
     "output_type": "stream",
     "text": [
      " Supplies for both contracts are equal? A: False \n",
      " Total supply on ethereum: 34506 \n",
      " Total supply on gc: 3594779\n"
     ]
    }
   ],
   "source": [
    "poap_address = \"0x22C1f6050E56d2876009903609a2cC3fEf83B415\"\n",
    "with open('poap_abi.json', 'r') as file:\n",
    "    abi = file.read()\n",
    "\n",
    "# POAP contract on ethereum\n",
    "poap_eth = w3eth.eth.contract(address=poap_address, abi=abi)\n",
    "eth_total_supply = poap_eth.functions.totalSupply().call()\n",
    "\n",
    "# POAP contract on gc\n",
    "poap_gc = w3x.eth.contract(address=poap_address, abi=abi)\n",
    "gc_total_supply = poap_gc.functions.totalSupply().call()\n",
    "\n",
    "print(f\" Supplies for both contracts are equal? A: {eth_total_supply == gc_total_supply} \\n Total supply on ethereum: {eth_total_supply} \\n Total supply on gc: {gc_total_supply}\")\n"
   ]
  },
  {
   "cell_type": "code",
   "execution_count": 25,
   "metadata": {},
   "outputs": [
    {
     "name": "stdout",
     "output_type": "stream",
     "text": [
      "ethereum URI: https://api.poap.xyz/metadata/207/9986 \n",
      "  gc URI: https://api.poap.xyz/metadata/0/9986\n"
     ]
    }
   ],
   "source": [
    "\n",
    "#Example where the token is only on ethereum contract // gc URI is invalid\n",
    "\n",
    "token_id = 9986\n",
    "\n",
    "uri_eth = poap_eth.functions.tokenURI(token_id).call()\n",
    "\n",
    "uri_gc = poap_gc.functions.tokenURI(token_id).call()\n",
    "\n",
    "print(f\"ethereum URI: {uri_eth} \\n  gc URI: {uri_gc}\")\n"
   ]
  },
  {
   "cell_type": "code",
   "execution_count": 28,
   "metadata": {},
   "outputs": [
    {
     "name": "stdout",
     "output_type": "stream",
     "text": [
      "ethereum URI: https://api.poap.xyz/metadata/0/300000 \n",
      "  gc URI: https://api.poap.xyz/metadata/2598/300000\n"
     ]
    }
   ],
   "source": [
    "\n",
    "#Example where the token is only on ethereum contract // eth URI is invalid\n",
    "\n",
    "token_id = 300000\n",
    "\n",
    "uri_eth = poap_eth.functions.tokenURI(token_id).call()\n",
    "\n",
    "uri_gc = poap_gc.functions.tokenURI(token_id).call()\n",
    "\n",
    "print(f\"ethereum URI: {uri_eth} \\n  gc URI: {uri_gc}\")\n"
   ]
  },
  {
   "cell_type": "code",
   "execution_count": null,
   "metadata": {},
   "outputs": [],
   "source": []
  },
  {
   "cell_type": "code",
   "execution_count": null,
   "metadata": {},
   "outputs": [],
   "source": []
  },
  {
   "cell_type": "code",
   "execution_count": null,
   "metadata": {},
   "outputs": [],
   "source": []
  },
  {
   "cell_type": "code",
   "execution_count": null,
   "metadata": {},
   "outputs": [],
   "source": []
  },
  {
   "cell_type": "code",
   "execution_count": null,
   "metadata": {},
   "outputs": [],
   "source": []
  }
 ],
 "metadata": {
  "interpreter": {
   "hash": "cc73f21a52ccb832bf677fe91f931c0e3bb70d63042d3db79193d87a6c9b6f0c"
  },
  "kernelspec": {
   "display_name": "Python 3.7.4 64-bit ('base': conda)",
   "language": "python",
   "name": "python3"
  },
  "language_info": {
   "codemirror_mode": {
    "name": "ipython",
    "version": 3
   },
   "file_extension": ".py",
   "mimetype": "text/x-python",
   "name": "python",
   "nbconvert_exporter": "python",
   "pygments_lexer": "ipython3",
   "version": "3.7.4"
  },
  "orig_nbformat": 4
 },
 "nbformat": 4,
 "nbformat_minor": 2
}
