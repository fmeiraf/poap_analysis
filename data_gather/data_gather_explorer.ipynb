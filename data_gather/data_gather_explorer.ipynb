{
 "cells": [
  {
   "cell_type": "code",
   "execution_count": 2,
   "metadata": {},
   "outputs": [],
   "source": [
    "import pandas as pd\n",
    "from web3 import Web3\n",
    "import yaml\n"
   ]
  },
  {
   "cell_type": "markdown",
   "metadata": {},
   "source": [
    "# Connecting RPCs"
   ]
  },
  {
   "cell_type": "code",
   "execution_count": 3,
   "metadata": {},
   "outputs": [
    {
     "data": {
      "text/plain": [
       "True"
      ]
     },
     "execution_count": 3,
     "metadata": {},
     "output_type": "execute_result"
    }
   ],
   "source": [
    "# Ethereum mainnet - using a free api rpc like alchemy or infura\n",
    "\n",
    "with open(r'../eth_rpc.yaml') as file:\n",
    "    provider_params = yaml.load(file, Loader=yaml.FullLoader)\n",
    "provider_url = provider_params['key']\n",
    "w3eth = Web3(Web3.HTTPProvider(provider_url))\n",
    "\n",
    "w3eth.isConnected()"
   ]
  },
  {
   "cell_type": "code",
   "execution_count": 4,
   "metadata": {},
   "outputs": [
    {
     "data": {
      "text/plain": [
       "True"
      ]
     },
     "execution_count": 4,
     "metadata": {},
     "output_type": "execute_result"
    }
   ],
   "source": [
    "# gnosischain mainnet\n",
    "\n",
    "xdai_rpc_link = 'https://rpc.gnosischain.com/'\n",
    "\n",
    "w3x = Web3(Web3.HTTPProvider(xdai_rpc_link))\n",
    "\n",
    "w3x.isConnected()"
   ]
  },
  {
   "cell_type": "markdown",
   "metadata": {},
   "source": [
    "# Running test queries and testing stuff"
   ]
  },
  {
   "cell_type": "markdown",
   "metadata": {},
   "source": [
    "### Testing: How do the tranfers from gc to ethereum work?"
   ]
  },
  {
   "cell_type": "code",
   "execution_count": 9,
   "metadata": {},
   "outputs": [
    {
     "name": "stdout",
     "output_type": "stream",
     "text": [
      " Supplies for both contracts are equal? A: False \n",
      " Total supply on ethereum: 34506 \n",
      " Total supply on gc: 3651609\n"
     ]
    }
   ],
   "source": [
    "poap_address = \"0x22C1f6050E56d2876009903609a2cC3fEf83B415\"\n",
    "with open('poap_abi.json', 'r') as file:\n",
    "    abi = file.read()\n",
    "\n",
    "# POAP contract on ethereum\n",
    "poap_eth = w3eth.eth.contract(address=poap_address, abi=abi)\n",
    "eth_total_supply = poap_eth.functions.totalSupply().call()\n",
    "\n",
    "# POAP contract on gc\n",
    "poap_gc = w3x.eth.contract(address=poap_address, abi=abi)\n",
    "gc_total_supply = poap_gc.functions.totalSupply().call()\n",
    "\n",
    "print(f\" Supplies for both contracts are equal? A: {eth_total_supply == gc_total_supply} \\n Total supply on ethereum: {eth_total_supply} \\n Total supply on gc: {gc_total_supply}\")\n"
   ]
  },
  {
   "cell_type": "code",
   "execution_count": 10,
   "metadata": {},
   "outputs": [
    {
     "name": "stdout",
     "output_type": "stream",
     "text": [
      "ethereum URI: https://api.poap.xyz/metadata/207/9986 \n",
      "  gc URI: https://api.poap.xyz/metadata/0/9986\n"
     ]
    }
   ],
   "source": [
    "\n",
    "#Example where the token is only on ethereum contract // gc URI is invalid\n",
    "\n",
    "token_id = 9986\n",
    "\n",
    "uri_eth = poap_eth.functions.tokenURI(token_id).call()\n",
    "\n",
    "uri_gc = poap_gc.functions.tokenURI(token_id).call()\n",
    "\n",
    "print(f\"ethereum URI: {uri_eth} \\n  gc URI: {uri_gc}\")\n"
   ]
  },
  {
   "cell_type": "code",
   "execution_count": 11,
   "metadata": {},
   "outputs": [
    {
     "name": "stdout",
     "output_type": "stream",
     "text": [
      "ethereum URI: https://api.poap.xyz/metadata/0/300000 \n",
      "  gc URI: https://api.poap.xyz/metadata/2598/300000\n"
     ]
    }
   ],
   "source": [
    "\n",
    "#Example where the token is only on ethereum contract // eth URI is invalid\n",
    "\n",
    "token_id = 300000\n",
    "\n",
    "uri_eth = poap_eth.functions.tokenURI(token_id).call()\n",
    "\n",
    "uri_gc = poap_gc.functions.tokenURI(token_id).call()\n",
    "\n",
    "print(f\"ethereum URI: {uri_eth} \\n  gc URI: {uri_gc}\")\n"
   ]
  },
  {
   "cell_type": "markdown",
   "metadata": {},
   "source": [
    "### Testing: Can I get the event minters from the event EventMinterAdded?"
   ]
  },
  {
   "cell_type": "markdown",
   "metadata": {},
   "source": [
    "Testing a solution that doesn't require an archival or full node to get the data. \n",
    "\n",
    "Credit to Mikko Ohtamaa on : https://ethereum.stackexchange.com/questions/51637/get-all-the-past-events-of-the-contract\n"
   ]
  },
  {
   "cell_type": "code",
   "execution_count": 12,
   "metadata": {},
   "outputs": [],
   "source": [
    "import requests\n",
    "\n",
    "from web3 import Web3\n",
    "\n",
    "_cache = dict()\n",
    "\n",
    "\n",
    "def get_cached_abi(abi_url):\n",
    "    \"\"\"Per process over-the-network ABI file retriever\"\"\"\n",
    "    spec = _cache.get(abi_url)\n",
    "    if not spec:\n",
    "      spec = _cache[abi_url] = requests.get(abi_url).json()\n",
    "    return spec\n",
    "\n",
    "\n",
    "def create_contract(web3, abi_path, address):\n",
    "    with open(abi_path, 'r') as file:\n",
    "      abi = file.read()\n",
    "    contract = web3.eth.contract(address, abi=abi)\n",
    "    return contract"
   ]
  },
  {
   "cell_type": "code",
   "execution_count": 13,
   "metadata": {},
   "outputs": [],
   "source": [
    "from web3._utils.abi import get_constructor_abi, merge_args_and_kwargs\n",
    "from web3._utils.events import get_event_data\n",
    "from web3._utils.filters import construct_event_filter_params\n",
    "from web3._utils.contracts import encode_abi\n",
    "\n",
    "\n",
    "def fetch_events(\n",
    "    event,\n",
    "    argument_filters=None,\n",
    "    from_block=None,\n",
    "    to_block=\"latest\",\n",
    "    address=None,\n",
    "    topics=None):\n",
    "    \"\"\"Get events using eth_getLogs API.\n",
    "\n",
    "    This is a stateless method, as opposite to createFilter and works with\n",
    "    stateless nodes like QuikNode and Infura.\n",
    "\n",
    "    :param event: Event instance from your contract.events\n",
    "    :param argument_filters:\n",
    "    :param from_block: Start block. Use 0 for all history/\n",
    "    :param to_block: Fetch events until this contract\n",
    "    :param address:\n",
    "    :param topics:\n",
    "    :return:\n",
    "    \"\"\"\n",
    "\n",
    "    if from_block is None:\n",
    "        raise TypeError(\"Missing mandatory keyword argument to getLogs: from_Block\")\n",
    "\n",
    "    abi = event._get_event_abi()\n",
    "    abi_codec = event.web3.codec\n",
    "\n",
    "    # Set up any indexed event filters if needed\n",
    "    argument_filters = dict()\n",
    "    _filters = dict(**argument_filters)\n",
    "\n",
    "    data_filter_set, event_filter_params = construct_event_filter_params(\n",
    "        abi,\n",
    "        abi_codec,\n",
    "        contract_address=event.address,\n",
    "        argument_filters=_filters,\n",
    "        fromBlock=from_block,\n",
    "        toBlock=to_block,\n",
    "        address=address,\n",
    "        topics=topics,\n",
    "    )\n",
    "\n",
    "    # Call node over JSON-RPC API\n",
    "    logs = event.web3.eth.getLogs(event_filter_params)\n",
    "\n",
    "    # Convert raw binary event data to easily manipulable Python objects\n",
    "    for entry in logs:\n",
    "        data = get_event_data(abi_codec, abi, entry)\n",
    "        yield data"
   ]
  },
  {
   "cell_type": "code",
   "execution_count": 14,
   "metadata": {},
   "outputs": [
    {
     "name": "stdout",
     "output_type": "stream",
     "text": [
      "Got 32 events\n",
      "AttributeDict({'args': AttributeDict({'eventId': 421, 'account': '0xDBEa2EE858158f1c2a0000cdAA0Ab1eD641A4944'}), 'event': 'EventMinterAdded', 'logIndex': 2, 'transactionIndex': 2, 'transactionHash': HexBytes('0x042422bb368c0cbb7c9cd2e650acf4e0d331520f44f9aaadff4c360f43fcf99f'), 'address': '0x22C1f6050E56d2876009903609a2cC3fEf83B415', 'blockHash': HexBytes('0x4d21e9263469a4c9acfc649f6edbc3fbf4c76c0ed56816182c7bdf105133fe43'), 'blockNumber': 12294643})\n",
      "AttributeDict({'args': AttributeDict({'eventId': 416, 'account': '0x32A3c33C5324838077913AeFF595533c2bBdf561'}), 'event': 'EventMinterAdded', 'logIndex': 4, 'transactionIndex': 3, 'transactionHash': HexBytes('0x1d29d7e0d6cf1bb8dfa28118d36b38e7503b10b45d757c925ff01ff9ccfff945'), 'address': '0x22C1f6050E56d2876009903609a2cC3fEf83B415', 'blockHash': HexBytes('0x5fba762f2be092c19c726cfe4677f5650fa2d033129044a3b6e00fb84ebacd49'), 'blockNumber': 12533702})\n",
      "AttributeDict({'args': AttributeDict({'eventId': 418, 'account': '0x32A3c33C5324838077913AeFF595533c2bBdf561'}), 'event': 'EventMinterAdded', 'logIndex': 5, 'transactionIndex': 3, 'transactionHash': HexBytes('0x90da46767b269d8a2a17dcaa4c9c8b00080c039b3b42b8c5368c3c6b0e597f3c'), 'address': '0x22C1f6050E56d2876009903609a2cC3fEf83B415', 'blockHash': HexBytes('0xe06a59675b8ae4165c85bfe9dbfbef5dbe733a5790c9436502e12ef02345f265'), 'blockNumber': 12533711})\n",
      "AttributeDict({'args': AttributeDict({'eventId': 419, 'account': '0x32A3c33C5324838077913AeFF595533c2bBdf561'}), 'event': 'EventMinterAdded', 'logIndex': 4, 'transactionIndex': 4, 'transactionHash': HexBytes('0x846f89d960e0e92d443439560994c08a040abc50110488cd13b1530e6d20ff7d'), 'address': '0x22C1f6050E56d2876009903609a2cC3fEf83B415', 'blockHash': HexBytes('0xa871329beefbddf5c049c205323a0b524c55c16e4736afe92a0a93984ed9b9d9'), 'blockNumber': 12533720})\n",
      "AttributeDict({'args': AttributeDict({'eventId': 420, 'account': '0x32A3c33C5324838077913AeFF595533c2bBdf561'}), 'event': 'EventMinterAdded', 'logIndex': 5, 'transactionIndex': 1, 'transactionHash': HexBytes('0xc880d093f6578a1d2f39b2e947ea19e57e9b8320c1cc073a6f67140ca94c7b93'), 'address': '0x22C1f6050E56d2876009903609a2cC3fEf83B415', 'blockHash': HexBytes('0x28c3f382cfe51dffb9d1c0e2e637994868737239e0e4c10bf268cf1141921282'), 'blockNumber': 12533725})\n",
      "AttributeDict({'args': AttributeDict({'eventId': 362, 'account': '0x3AEF358AbB7Ca0f4C9fBe3c29a4b3a1aD33D932F'}), 'event': 'EventMinterAdded', 'logIndex': 0, 'transactionIndex': 2, 'transactionHash': HexBytes('0xff7210b9e737504139e1e9b076952902393e30609b9a598f800a700cdb6f46f7'), 'address': '0x22C1f6050E56d2876009903609a2cC3fEf83B415', 'blockHash': HexBytes('0xbef63a45a35be22888cc2f6ac95f5298e0a6deeec9289565f7fe2e601fda2176'), 'blockNumber': 12632763})\n",
      "AttributeDict({'args': AttributeDict({'eventId': 303, 'account': '0xA3aF4983dddC975Ec621A43eFA8B8B38AB599336'}), 'event': 'EventMinterAdded', 'logIndex': 0, 'transactionIndex': 2, 'transactionHash': HexBytes('0x107d7f844dd3095f033eafdfb40a2b215c4e4c9a90f905aa7ba5fe4408cc5f29'), 'address': '0x22C1f6050E56d2876009903609a2cC3fEf83B415', 'blockHash': HexBytes('0x2739722ac04d12fd53f825f958d8e90fdfe2f6de0016495f689331b3b7bb0250'), 'blockNumber': 12632765})\n",
      "AttributeDict({'args': AttributeDict({'eventId': 366, 'account': '0xFDEdaCB6C9Cf5cF1B65d57f22a0bb217D1059166'}), 'event': 'EventMinterAdded', 'logIndex': 0, 'transactionIndex': 2, 'transactionHash': HexBytes('0x644892ce01c4f62edad35d0075e0f9bf3324176c10f921c4394e8a937e8c8468'), 'address': '0x22C1f6050E56d2876009903609a2cC3fEf83B415', 'blockHash': HexBytes('0xd61ce6985cf0f0cae834cd81f4411a3b0c1fa356472d3b1442f41d1cba1f87d4'), 'blockNumber': 12632782})\n",
      "AttributeDict({'args': AttributeDict({'eventId': 383, 'account': '0x953c4B0bcFb777615D1De3E640c78c15fF0B64b6'}), 'event': 'EventMinterAdded', 'logIndex': 11, 'transactionIndex': 4, 'transactionHash': HexBytes('0x9d82a442c8c023fea677b2b6bc75a0e887674f5940c298d839b7eb4ac3ebd1bf'), 'address': '0x22C1f6050E56d2876009903609a2cC3fEf83B415', 'blockHash': HexBytes('0x23e9fd26304e3ae7d5aab6a9570cf2b439a7dd436a08c2bed740bdb542e25759'), 'blockNumber': 12632784})\n",
      "AttributeDict({'args': AttributeDict({'eventId': 384, 'account': '0x150FBB50191E7Fb58f9FC36c0210e639b1351644'}), 'event': 'EventMinterAdded', 'logIndex': 0, 'transactionIndex': 0, 'transactionHash': HexBytes('0x206fc431684c465eefd2eb2f7ff5806faf628bbb72da4e0202af1a1dd67d0c02'), 'address': '0x22C1f6050E56d2876009903609a2cC3fEf83B415', 'blockHash': HexBytes('0xad544de3a21e6f417767428cc698b0b693dbd5811800a47836ba15e70a125e9d'), 'blockNumber': 12632786})\n"
     ]
    }
   ],
   "source": [
    "# from web3 import Web3\n",
    "# from .utils import create_contract\n",
    "# from .events import fetch_events\n",
    "\n",
    "\n",
    "# uniswap_factory = '0x5C69bEe701ef814a2B6a3EDD4B1652CB9cc5aA6f'\n",
    "# factory_abi_url = 'https://unpkg.com/@uniswap/v2-core@1.0.1/build/UniswapV2Factory.json'\n",
    "# erc20_abi_url = 'https://unpkg.com/@uniswap/v2-core@1.0.1/build/IERC20.json'\n",
    "\n",
    "def fetch_uniswap_pairs(web3: Web3):\n",
    "    \"\"\"Fetch all trading pairs on Uniswap\"\"\"\n",
    "    contract = create_contract(web3, './poap_abi.json', poap_address)\n",
    "    events = list(fetch_events(contract.events.EventMinterAdded, from_block=0))\n",
    "\n",
    "    print('Got', len(events), 'events')\n",
    "\n",
    "    # Each event.args is presented as AttrbuteDict\n",
    "    # AttributeDict({'args': AttributeDict({'token0': '0x607F4C5BB672230e8672085532f7e901544a7375', 'token1': '0xC02aaA39b223FE8D0A0e5C4F27eAD9083C756Cc2', 'pair': '0x6d57a53A45343187905aaD6AD8eD532D105697c1', '': 94}), 'event': 'PairCreated', 'logIndex': 7, 'transactionIndex': 2, 'transactionHash': HexBytes('0xa0ce4b0db9bbf7887f09c4b35ec1167144b06f69fbbea6d6a163a72db28175d8'), 'address': '0x5C69bEe701ef814a2B6a3EDD4B1652CB9cc5aA6f', 'blockHash': HexBytes('0xf269a89cf729781bfa8e8ec421f8eefbf13e1fecd22b4118c1304d360832ef20'), 'blockNumber': 10092190})\n",
    "    for ev in events[0:10]:\n",
    "        print(ev)\n",
    "    #   token0 = create_contract(web3, erc20_abi_url, ev.args.token0)\n",
    "    #   token1 = create_contract(web3, erc20_abi_url, ev.args.token1)\n",
    "    #   print(f'Found pair {token0.functions.symbol().call()}-{token1.functions.symbol().call()}')\n",
    "\n",
    "\n",
    "def run(web3):\n",
    "    # infura = # Your HTTPS infura endpoint URL\n",
    "    # web3 = Web3(Web3.HTTPProvider(infura))\n",
    "    fetch_uniswap_pairs(web3)\n",
    "\n",
    "\n",
    "run(w3x)\n"
   ]
  },
  {
   "cell_type": "markdown",
   "metadata": {},
   "source": [
    "The above works! I can use that to generate a new dataframe that I can merge with the token data dataframe!"
   ]
  },
  {
   "cell_type": "code",
   "execution_count": 20,
   "metadata": {},
   "outputs": [
    {
     "data": {
      "text/plain": [
       "24219"
      ]
     },
     "execution_count": 20,
     "metadata": {},
     "output_type": "execute_result"
    }
   ],
   "source": [
    "events_dt = pd.read_json('../analysis/datasets/event_data.json')\n",
    "len(events_dt)"
   ]
  },
  {
   "cell_type": "code",
   "execution_count": 21,
   "metadata": {},
   "outputs": [
    {
     "data": {
      "text/plain": [
       "34741"
      ]
     },
     "execution_count": 21,
     "metadata": {},
     "output_type": "execute_result"
    }
   ],
   "source": [
    "\n",
    "ethp = pd.read_json('../analysis/datasets/ethereum_token_data.json')\n",
    "len(ethp)"
   ]
  },
  {
   "cell_type": "code",
   "execution_count": 22,
   "metadata": {},
   "outputs": [
    {
     "data": {
      "text/plain": [
       "3670459"
      ]
     },
     "execution_count": 22,
     "metadata": {},
     "output_type": "execute_result"
    }
   ],
   "source": [
    "\n",
    "xdai = pd.read_json('../analysis/datasets/xdai_token_data.json')\n",
    "len(xdai)"
   ]
  },
  {
   "cell_type": "code",
   "execution_count": 24,
   "metadata": {},
   "outputs": [
    {
     "name": "stdout",
     "output_type": "stream",
     "text": [
      "<class 'pandas.core.frame.DataFrame'>\n",
      "RangeIndex: 3670459 entries, 0 to 3670458\n",
      "Data columns (total 8 columns):\n",
      "token_created          int64\n",
      "event_created          int64\n",
      "event_id               int64\n",
      "event_tokenCount       int64\n",
      "event_transferCount    int64\n",
      "token_id               int64\n",
      "owner_id               object\n",
      "token_transferCount    int64\n",
      "dtypes: int64(7), object(1)\n",
      "memory usage: 224.0+ MB\n"
     ]
    }
   ],
   "source": [
    "xdai.info()"
   ]
  },
  {
   "cell_type": "code",
   "execution_count": null,
   "metadata": {},
   "outputs": [],
   "source": []
  }
 ],
 "metadata": {
  "interpreter": {
   "hash": "cc73f21a52ccb832bf677fe91f931c0e3bb70d63042d3db79193d87a6c9b6f0c"
  },
  "kernelspec": {
   "display_name": "Python 3.7.4 64-bit ('base': conda)",
   "language": "python",
   "name": "python3"
  },
  "language_info": {
   "codemirror_mode": {
    "name": "ipython",
    "version": 3
   },
   "file_extension": ".py",
   "mimetype": "text/x-python",
   "name": "python",
   "nbconvert_exporter": "python",
   "pygments_lexer": "ipython3",
   "version": "3.7.4"
  },
  "orig_nbformat": 4
 },
 "nbformat": 4,
 "nbformat_minor": 2
}
